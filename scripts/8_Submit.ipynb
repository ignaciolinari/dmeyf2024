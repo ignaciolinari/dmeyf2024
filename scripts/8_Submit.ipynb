{
 "cells": [
  {
   "cell_type": "code",
   "execution_count": 14,
   "metadata": {},
   "outputs": [],
   "source": [
    "# %pip install kaggle"
   ]
  },
  {
   "cell_type": "code",
   "execution_count": 15,
   "metadata": {},
   "outputs": [],
   "source": [
    "\n",
    "\n",
    "import pandas as pd\n",
    "import numpy as np\n",
    "\n",
    "import os\n",
    "from kaggle.api.kaggle_api_extended import KaggleApi\n",
    "import time"
   ]
  },
  {
   "cell_type": "code",
   "execution_count": 16,
   "metadata": {},
   "outputs": [],
   "source": [
    "version = 'modelito' # UPDATE"
   ]
  },
  {
   "cell_type": "code",
   "execution_count": 17,
   "metadata": {},
   "outputs": [],
   "source": [
    "# base_path = '/home/clas_giulia_s/buckets/b1/'\n",
    "\n",
    "# files_path = base_path + f'exp/competencia_2/{version}/'\n",
    "\n",
    "# competition = 'dm-ey-f-2024-segunda'\n",
    "\n",
    "base_path = '/Users/ignacio/MAESTRIA/DMEF/'\n",
    "\n",
    "files_path = base_path + f'exp/competencia_1/{version}/'\n",
    "\n",
    "competition = 'dm-ey-f-2024-primera'\n"
   ]
  },
  {
   "cell_type": "code",
   "execution_count": 18,
   "metadata": {},
   "outputs": [
    {
     "data": {
      "text/plain": [
       "array([ 9000,  9081,  9163,  9244,  9326,  9408,  9489,  9571,  9653,\n",
       "        9734,  9816,  9897,  9979, 10061, 10142, 10224, 10306, 10387,\n",
       "       10469, 10551, 10632, 10714, 10795, 10877, 10959, 11040, 11122,\n",
       "       11204, 11285, 11367, 11448, 11530, 11612, 11693, 11775, 11857,\n",
       "       11938, 12020, 12102, 12183, 12265, 12346, 12428, 12510, 12591,\n",
       "       12673, 12755, 12836, 12918, 13000])"
      ]
     },
     "execution_count": 18,
     "metadata": {},
     "output_type": "execute_result"
    }
   ],
   "source": [
    "puntos_corte = np.linspace(9000, 13000, 50).astype(int)\n",
    "puntos_corte"
   ]
  },
  {
   "cell_type": "code",
   "execution_count": 19,
   "metadata": {},
   "outputs": [],
   "source": [
    "# diccionario con la semilla y el corte de cada version\n",
    "combinations = {}\n",
    "\n",
    "counter = 1\n",
    "for corte in puntos_corte:\n",
    "    combinations[counter] = {'seed':'semillero 100','corte':int(corte)}\n",
    "    counter += 1\n",
    "\n",
    "# path de cada version        \n",
    "files = [f'{files_path}results_{version}_{i}.csv' for i in range(1,51)]\n",
    "\n",
    "# descripcion de cada edicion\n",
    "descriptions= [\n",
    "    f\"seed = {combinations[i]['seed']}, corte = {combinations[i]['corte']}\"\n",
    "    for i in range(1, len(combinations)+1)\n",
    "]"
   ]
  },
  {
   "cell_type": "code",
   "execution_count": 20,
   "metadata": {},
   "outputs": [],
   "source": [
    "api = KaggleApi()\n",
    "api.authenticate()"
   ]
  },
  {
   "cell_type": "code",
   "execution_count": 21,
   "metadata": {},
   "outputs": [
    {
     "name": "stderr",
     "output_type": "stream",
     "text": [
      "100%|██████████| 1.93M/1.93M [00:01<00:00, 1.02MB/s]\n"
     ]
    },
    {
     "name": "stdout",
     "output_type": "stream",
     "text": [
      "results_modelito_1.csv subido con exito, public score:96.340\n"
     ]
    },
    {
     "name": "stderr",
     "output_type": "stream",
     "text": [
      "100%|██████████| 1.93M/1.93M [00:02<00:00, 976kB/s] \n"
     ]
    },
    {
     "name": "stdout",
     "output_type": "stream",
     "text": [
      "results_modelito_2.csv subido con exito, public score:95.944\n"
     ]
    },
    {
     "name": "stderr",
     "output_type": "stream",
     "text": [
      "100%|██████████| 1.93M/1.93M [00:01<00:00, 1.03MB/s]\n"
     ]
    },
    {
     "name": "stdout",
     "output_type": "stream",
     "text": [
      "results_modelito_3.csv subido con exito, public score:97.204\n"
     ]
    },
    {
     "name": "stderr",
     "output_type": "stream",
     "text": [
      "100%|██████████| 1.93M/1.93M [00:02<00:00, 973kB/s] \n"
     ]
    },
    {
     "name": "stdout",
     "output_type": "stream",
     "text": [
      "results_modelito_4.csv subido con exito, public score:96.690\n"
     ]
    },
    {
     "name": "stderr",
     "output_type": "stream",
     "text": [
      "100%|██████████| 1.93M/1.93M [00:01<00:00, 1.03MB/s]\n"
     ]
    },
    {
     "name": "stdout",
     "output_type": "stream",
     "text": [
      "results_modelito_5.csv subido con exito, public score:97.064\n"
     ]
    },
    {
     "name": "stderr",
     "output_type": "stream",
     "text": [
      "100%|██████████| 1.93M/1.93M [00:01<00:00, 1.02MB/s]\n"
     ]
    },
    {
     "name": "stdout",
     "output_type": "stream",
     "text": [
      "results_modelito_6.csv subido con exito, public score:100.190\n"
     ]
    },
    {
     "name": "stderr",
     "output_type": "stream",
     "text": [
      "100%|██████████| 1.93M/1.93M [00:02<00:00, 994kB/s] \n"
     ]
    },
    {
     "name": "stdout",
     "output_type": "stream",
     "text": [
      "results_modelito_7.csv subido con exito, public score:101.334\n"
     ]
    },
    {
     "name": "stderr",
     "output_type": "stream",
     "text": [
      "100%|██████████| 1.93M/1.93M [00:02<00:00, 1.00MB/s]\n"
     ]
    },
    {
     "name": "stdout",
     "output_type": "stream",
     "text": [
      "results_modelito_8.csv subido con exito, public score:101.824\n"
     ]
    },
    {
     "name": "stderr",
     "output_type": "stream",
     "text": [
      "100%|██████████| 1.93M/1.93M [00:02<00:00, 992kB/s] \n"
     ]
    },
    {
     "name": "stdout",
     "output_type": "stream",
     "text": [
      "results_modelito_9.csv subido con exito, public score:102.990\n"
     ]
    },
    {
     "name": "stderr",
     "output_type": "stream",
     "text": [
      "100%|██████████| 1.93M/1.93M [00:02<00:00, 779kB/s] \n"
     ]
    },
    {
     "name": "stdout",
     "output_type": "stream",
     "text": [
      "results_modelito_10.csv subido con exito, public score:102.267\n"
     ]
    },
    {
     "name": "stderr",
     "output_type": "stream",
     "text": [
      "100%|██████████| 1.93M/1.93M [00:02<00:00, 720kB/s] \n"
     ]
    },
    {
     "name": "stdout",
     "output_type": "stream",
     "text": [
      "results_modelito_11.csv subido con exito, public score:102.617\n"
     ]
    },
    {
     "name": "stderr",
     "output_type": "stream",
     "text": [
      "100%|██████████| 1.93M/1.93M [00:01<00:00, 1.02MB/s]\n"
     ]
    },
    {
     "name": "stdout",
     "output_type": "stream",
     "text": [
      "results_modelito_12.csv subido con exito, public score:101.917\n"
     ]
    },
    {
     "name": "stderr",
     "output_type": "stream",
     "text": [
      "100%|██████████| 1.93M/1.93M [00:01<00:00, 1.01MB/s]\n"
     ]
    },
    {
     "name": "stdout",
     "output_type": "stream",
     "text": [
      "results_modelito_13.csv subido con exito, public score:101.380\n"
     ]
    },
    {
     "name": "stderr",
     "output_type": "stream",
     "text": [
      "100%|██████████| 1.93M/1.93M [00:02<00:00, 989kB/s] \n"
     ]
    },
    {
     "name": "stdout",
     "output_type": "stream",
     "text": [
      "results_modelito_14.csv subido con exito, public score:101.894\n"
     ]
    },
    {
     "name": "stderr",
     "output_type": "stream",
     "text": [
      "100%|██████████| 1.93M/1.93M [00:02<00:00, 996kB/s] \n"
     ]
    },
    {
     "name": "stdout",
     "output_type": "stream",
     "text": [
      "results_modelito_15.csv subido con exito, public score:103.224\n"
     ]
    },
    {
     "name": "stderr",
     "output_type": "stream",
     "text": [
      "100%|██████████| 1.93M/1.93M [00:01<00:00, 1.02MB/s]\n"
     ]
    },
    {
     "name": "stdout",
     "output_type": "stream",
     "text": [
      "results_modelito_16.csv subido con exito, public score:102.687\n"
     ]
    },
    {
     "name": "stderr",
     "output_type": "stream",
     "text": [
      "100%|██████████| 1.93M/1.93M [00:02<00:00, 1.01MB/s]\n"
     ]
    },
    {
     "name": "stdout",
     "output_type": "stream",
     "text": [
      "results_modelito_17.csv subido con exito, public score:103.014\n"
     ]
    },
    {
     "name": "stderr",
     "output_type": "stream",
     "text": [
      "100%|██████████| 1.93M/1.93M [00:01<00:00, 1.03MB/s]\n"
     ]
    },
    {
     "name": "stdout",
     "output_type": "stream",
     "text": [
      "results_modelito_18.csv subido con exito, public score:103.387\n"
     ]
    },
    {
     "name": "stderr",
     "output_type": "stream",
     "text": [
      "100%|██████████| 1.93M/1.93M [00:02<00:00, 1.01MB/s]\n"
     ]
    },
    {
     "name": "stdout",
     "output_type": "stream",
     "text": [
      "results_modelito_19.csv subido con exito, public score:102.804\n"
     ]
    },
    {
     "name": "stderr",
     "output_type": "stream",
     "text": [
      "100%|██████████| 1.93M/1.93M [00:01<00:00, 1.03MB/s]\n"
     ]
    },
    {
     "name": "stdout",
     "output_type": "stream",
     "text": [
      "results_modelito_20.csv subido con exito, public score:103.247\n"
     ]
    },
    {
     "name": "stderr",
     "output_type": "stream",
     "text": [
      "100%|██████████| 1.93M/1.93M [00:02<00:00, 843kB/s] \n"
     ]
    },
    {
     "name": "stdout",
     "output_type": "stream",
     "text": [
      "results_modelito_21.csv subido con exito, public score:102.524\n"
     ]
    },
    {
     "name": "stderr",
     "output_type": "stream",
     "text": [
      "100%|██████████| 1.93M/1.93M [00:02<00:00, 990kB/s] \n"
     ]
    },
    {
     "name": "stdout",
     "output_type": "stream",
     "text": [
      "results_modelito_22.csv subido con exito, public score:102.920\n"
     ]
    },
    {
     "name": "stderr",
     "output_type": "stream",
     "text": [
      "100%|██████████| 1.93M/1.93M [00:02<00:00, 1.00MB/s]\n"
     ]
    },
    {
     "name": "stdout",
     "output_type": "stream",
     "text": [
      "results_modelito_23.csv subido con exito, public score:103.177\n"
     ]
    },
    {
     "name": "stderr",
     "output_type": "stream",
     "text": [
      "100%|██████████| 1.93M/1.93M [00:01<00:00, 1.02MB/s]\n"
     ]
    },
    {
     "name": "stdout",
     "output_type": "stream",
     "text": [
      "results_modelito_24.csv subido con exito, public score:102.710\n"
     ]
    },
    {
     "name": "stderr",
     "output_type": "stream",
     "text": [
      "100%|██████████| 1.93M/1.93M [00:02<00:00, 992kB/s] \n"
     ]
    },
    {
     "name": "stdout",
     "output_type": "stream",
     "text": [
      "results_modelito_25.csv subido con exito, public score:102.104\n"
     ]
    },
    {
     "name": "stderr",
     "output_type": "stream",
     "text": [
      "100%|██████████| 1.93M/1.93M [00:01<00:00, 1.03MB/s]\n"
     ]
    },
    {
     "name": "stdout",
     "output_type": "stream",
     "text": [
      "results_modelito_26.csv subido con exito, public score:101.614\n"
     ]
    },
    {
     "name": "stderr",
     "output_type": "stream",
     "text": [
      "100%|██████████| 1.93M/1.93M [00:02<00:00, 981kB/s] \n"
     ]
    },
    {
     "name": "stdout",
     "output_type": "stream",
     "text": [
      "results_modelito_27.csv subido con exito, public score:100.937\n"
     ]
    },
    {
     "name": "stderr",
     "output_type": "stream",
     "text": [
      "100%|██████████| 1.93M/1.93M [00:01<00:00, 1.01MB/s]\n"
     ]
    },
    {
     "name": "stdout",
     "output_type": "stream",
     "text": [
      "results_modelito_28.csv subido con exito, public score:100.377\n"
     ]
    },
    {
     "name": "stderr",
     "output_type": "stream",
     "text": [
      "100%|██████████| 1.93M/1.93M [00:02<00:00, 939kB/s] \n"
     ]
    },
    {
     "name": "stdout",
     "output_type": "stream",
     "text": [
      "results_modelito_29.csv subido con exito, public score:100.774\n"
     ]
    },
    {
     "name": "stderr",
     "output_type": "stream",
     "text": [
      "100%|██████████| 1.93M/1.93M [00:01<00:00, 1.02MB/s]\n"
     ]
    },
    {
     "name": "stdout",
     "output_type": "stream",
     "text": [
      "results_modelito_30.csv subido con exito, public score:100.190\n"
     ]
    },
    {
     "name": "stderr",
     "output_type": "stream",
     "text": [
      "100%|██████████| 1.93M/1.93M [00:01<00:00, 1.03MB/s]\n"
     ]
    },
    {
     "name": "stdout",
     "output_type": "stream",
     "text": [
      "results_modelito_31.csv subido con exito, public score:99.700\n"
     ]
    },
    {
     "name": "stderr",
     "output_type": "stream",
     "text": [
      "100%|██████████| 1.93M/1.93M [00:02<00:00, 999kB/s] \n"
     ]
    },
    {
     "name": "stdout",
     "output_type": "stream",
     "text": [
      "results_modelito_32.csv subido con exito, public score:101.007\n"
     ]
    },
    {
     "name": "stderr",
     "output_type": "stream",
     "text": [
      "100%|██████████| 1.93M/1.93M [00:01<00:00, 1.02MB/s]\n"
     ]
    },
    {
     "name": "stdout",
     "output_type": "stream",
     "text": [
      "results_modelito_33.csv subido con exito, public score:100.447\n"
     ]
    },
    {
     "name": "stderr",
     "output_type": "stream",
     "text": [
      "100%|██████████| 1.93M/1.93M [00:01<00:00, 1.02MB/s]\n"
     ]
    },
    {
     "name": "stdout",
     "output_type": "stream",
     "text": [
      "results_modelito_34.csv subido con exito, public score:100.820\n"
     ]
    },
    {
     "name": "stderr",
     "output_type": "stream",
     "text": [
      "100%|██████████| 1.93M/1.93M [00:01<00:00, 1.02MB/s]\n"
     ]
    },
    {
     "name": "stdout",
     "output_type": "stream",
     "text": [
      "results_modelito_35.csv subido con exito, public score:100.144\n"
     ]
    },
    {
     "name": "stderr",
     "output_type": "stream",
     "text": [
      "100%|██████████| 1.93M/1.93M [00:02<00:00, 991kB/s] \n"
     ]
    },
    {
     "name": "stdout",
     "output_type": "stream",
     "text": [
      "results_modelito_36.csv subido con exito, public score:100.447\n"
     ]
    },
    {
     "name": "stderr",
     "output_type": "stream",
     "text": [
      "100%|██████████| 1.93M/1.93M [00:02<00:00, 987kB/s] \n"
     ]
    },
    {
     "name": "stdout",
     "output_type": "stream",
     "text": [
      "results_modelito_37.csv subido con exito, public score:100.144\n"
     ]
    },
    {
     "name": "stderr",
     "output_type": "stream",
     "text": [
      "100%|██████████| 1.93M/1.93M [00:02<00:00, 935kB/s] \n"
     ]
    },
    {
     "name": "stdout",
     "output_type": "stream",
     "text": [
      "results_modelito_38.csv subido con exito, public score:100.564\n"
     ]
    },
    {
     "name": "stderr",
     "output_type": "stream",
     "text": [
      "100%|██████████| 1.93M/1.93M [00:02<00:00, 990kB/s] \n"
     ]
    },
    {
     "name": "stdout",
     "output_type": "stream",
     "text": [
      "results_modelito_39.csv subido con exito, public score:99.980\n"
     ]
    },
    {
     "name": "stderr",
     "output_type": "stream",
     "text": [
      "100%|██████████| 1.93M/1.93M [00:02<00:00, 777kB/s] \n"
     ]
    },
    {
     "name": "stdout",
     "output_type": "stream",
     "text": [
      "results_modelito_40.csv subido con exito, public score:99.444\n"
     ]
    },
    {
     "name": "stderr",
     "output_type": "stream",
     "text": [
      "100%|██████████| 1.93M/1.93M [00:01<00:00, 1.01MB/s]\n"
     ]
    },
    {
     "name": "stdout",
     "output_type": "stream",
     "text": [
      "results_modelito_41.csv subido con exito, public score:98.907\n"
     ]
    },
    {
     "name": "stderr",
     "output_type": "stream",
     "text": [
      "100%|██████████| 1.93M/1.93M [00:01<00:00, 1.04MB/s]\n"
     ]
    },
    {
     "name": "stdout",
     "output_type": "stream",
     "text": [
      "results_modelito_42.csv subido con exito, public score:98.347\n"
     ]
    },
    {
     "name": "stderr",
     "output_type": "stream",
     "text": [
      "100%|██████████| 1.93M/1.93M [00:01<00:00, 1.02MB/s]\n",
      "2024-11-29 03:03:00,943 WARNING Retrying (Retry(total=2, connect=None, read=None, redirect=None, status=None)) after connection broken by 'RemoteDisconnected('Remote end closed connection without response')': /api/v1/competitions/submissions/list/dm-ey-f-2024-primera\n",
      "2024-11-29 03:04:15,985 WARNING Retrying (Retry(total=1, connect=None, read=None, redirect=None, status=None)) after connection broken by 'ConnectTimeoutError(<urllib3.connection.HTTPSConnection object at 0x11fb6b770>, 'Connection to www.kaggle.com timed out. (connect timeout=None)')': /api/v1/competitions/submissions/list/dm-ey-f-2024-primera\n",
      "2024-11-29 03:05:31,072 WARNING Retrying (Retry(total=0, connect=None, read=None, redirect=None, status=None)) after connection broken by 'ConnectTimeoutError(<urllib3.connection.HTTPSConnection object at 0x139f306e0>, 'Connection to www.kaggle.com timed out. (connect timeout=None)')': /api/v1/competitions/submissions/list/dm-ey-f-2024-primera\n"
     ]
    },
    {
     "name": "stdout",
     "output_type": "stream",
     "text": [
      "results_modelito_43.csv subido con exito, public score:97.670\n"
     ]
    },
    {
     "name": "stderr",
     "output_type": "stream",
     "text": [
      "100%|██████████| 1.93M/1.93M [00:01<00:00, 1.01MB/s]\n"
     ]
    },
    {
     "name": "stdout",
     "output_type": "stream",
     "text": [
      "results_modelito_44.csv subido con exito, public score:97.064\n"
     ]
    },
    {
     "name": "stderr",
     "output_type": "stream",
     "text": [
      "100%|██████████| 1.93M/1.93M [00:01<00:00, 1.03MB/s]\n"
     ]
    },
    {
     "name": "stdout",
     "output_type": "stream",
     "text": [
      "results_modelito_45.csv subido con exito, public score:96.574\n"
     ]
    },
    {
     "name": "stderr",
     "output_type": "stream",
     "text": [
      "100%|██████████| 1.93M/1.93M [00:02<00:00, 942kB/s] \n"
     ]
    },
    {
     "name": "stdout",
     "output_type": "stream",
     "text": [
      "results_modelito_46.csv subido con exito, public score:97.740\n"
     ]
    },
    {
     "name": "stderr",
     "output_type": "stream",
     "text": [
      "100%|██████████| 1.93M/1.93M [00:02<00:00, 983kB/s] \n"
     ]
    },
    {
     "name": "stdout",
     "output_type": "stream",
     "text": [
      "results_modelito_47.csv subido con exito, public score:97.204\n"
     ]
    },
    {
     "name": "stderr",
     "output_type": "stream",
     "text": [
      "100%|██████████| 1.93M/1.93M [00:02<00:00, 948kB/s] \n"
     ]
    },
    {
     "name": "stdout",
     "output_type": "stream",
     "text": [
      "results_modelito_48.csv subido con exito, public score:98.464\n"
     ]
    },
    {
     "name": "stderr",
     "output_type": "stream",
     "text": [
      "100%|██████████| 1.93M/1.93M [00:01<00:00, 1.03MB/s]\n"
     ]
    },
    {
     "name": "stdout",
     "output_type": "stream",
     "text": [
      "results_modelito_49.csv subido con exito, public score:97.857\n"
     ]
    },
    {
     "name": "stderr",
     "output_type": "stream",
     "text": [
      "100%|██████████| 1.93M/1.93M [00:02<00:00, 1.00MB/s]\n"
     ]
    },
    {
     "name": "stdout",
     "output_type": "stream",
     "text": [
      "results_modelito_50.csv subido con exito, public score:98.207\n"
     ]
    }
   ],
   "source": [
    "archivos = []\n",
    "scores = []\n",
    "descripciones = []\n",
    "\n",
    "for i in range(len(files)): # UPDATE!\n",
    "\n",
    "    submitted = False\n",
    "    while submitted == False:\n",
    "        try:\n",
    "            api.competition_submit(file_name=files[i],\n",
    "                                   message=descriptions[i],\n",
    "                                   competition=competition)\n",
    "        except Exception as e:\n",
    "            print(f'Error al subir {files[i]}: {e}')\n",
    "            time.sleep(1000)\n",
    "        else:\n",
    "            submitted = True \n",
    "\n",
    "            # Esperamos un poco para que kaggle no tire error\n",
    "            time.sleep(60)\n",
    "\n",
    "            submissions = api.competition_submissions(competition, page_size=1) # traigo solo la ultima\n",
    "            ultima = submissions[0]\n",
    "            \n",
    "            archivo = ultima.fileName\n",
    "            public_score = ultima.publicScore\n",
    "            descripcion = ultima.description\n",
    "            \n",
    "            archivos.append(archivo)\n",
    "            scores.append(public_score)\n",
    "            descripciones.append(descripcion)\n",
    "            \n",
    "            print(f'{archivo} subido con exito, public score:{public_score}')"
   ]
  },
  {
   "cell_type": "code",
   "execution_count": 25,
   "metadata": {},
   "outputs": [],
   "source": [
    "resultados = pd.DataFrame({\n",
    "    'Archivo': archivos,\n",
    "    'Public score': scores,\n",
    "    'Description':descripciones\n",
    "})\n",
    "\n",
    "df = pd.DataFrame({\n",
    "    'seed': np.repeat('semillero', len(puntos_corte)),\n",
    "    'corte': np.tile(puntos_corte, 1)\n",
    "})\n",
    "\n",
    "resultados = pd.concat([resultados, df], axis=1)"
   ]
  },
  {
   "cell_type": "code",
   "execution_count": 23,
   "metadata": {},
   "outputs": [
    {
     "data": {
      "text/html": [
       "<div>\n",
       "<style scoped>\n",
       "    .dataframe tbody tr th:only-of-type {\n",
       "        vertical-align: middle;\n",
       "    }\n",
       "\n",
       "    .dataframe tbody tr th {\n",
       "        vertical-align: top;\n",
       "    }\n",
       "\n",
       "    .dataframe thead th {\n",
       "        text-align: right;\n",
       "    }\n",
       "</style>\n",
       "<table border=\"1\" class=\"dataframe\">\n",
       "  <thead>\n",
       "    <tr style=\"text-align: right;\">\n",
       "      <th></th>\n",
       "      <th>Archivo</th>\n",
       "      <th>Public score</th>\n",
       "      <th>Description</th>\n",
       "      <th>seed</th>\n",
       "      <th>corte</th>\n",
       "    </tr>\n",
       "  </thead>\n",
       "  <tbody>\n",
       "    <tr>\n",
       "      <th>0</th>\n",
       "      <td>results_modelito_1.csv</td>\n",
       "      <td>96.340</td>\n",
       "      <td>seed = semillero 100, corte = 9000</td>\n",
       "      <td>semillero</td>\n",
       "      <td>9000</td>\n",
       "    </tr>\n",
       "    <tr>\n",
       "      <th>1</th>\n",
       "      <td>results_modelito_2.csv</td>\n",
       "      <td>95.944</td>\n",
       "      <td>seed = semillero 100, corte = 9081</td>\n",
       "      <td>semillero</td>\n",
       "      <td>9081</td>\n",
       "    </tr>\n",
       "    <tr>\n",
       "      <th>2</th>\n",
       "      <td>results_modelito_3.csv</td>\n",
       "      <td>97.204</td>\n",
       "      <td>seed = semillero 100, corte = 9163</td>\n",
       "      <td>semillero</td>\n",
       "      <td>9163</td>\n",
       "    </tr>\n",
       "    <tr>\n",
       "      <th>3</th>\n",
       "      <td>results_modelito_4.csv</td>\n",
       "      <td>96.690</td>\n",
       "      <td>seed = semillero 100, corte = 9244</td>\n",
       "      <td>semillero</td>\n",
       "      <td>9244</td>\n",
       "    </tr>\n",
       "    <tr>\n",
       "      <th>4</th>\n",
       "      <td>results_modelito_5.csv</td>\n",
       "      <td>97.064</td>\n",
       "      <td>seed = semillero 100, corte = 9326</td>\n",
       "      <td>semillero</td>\n",
       "      <td>9326</td>\n",
       "    </tr>\n",
       "    <tr>\n",
       "      <th>5</th>\n",
       "      <td>results_modelito_6.csv</td>\n",
       "      <td>100.190</td>\n",
       "      <td>seed = semillero 100, corte = 9408</td>\n",
       "      <td>semillero</td>\n",
       "      <td>9408</td>\n",
       "    </tr>\n",
       "    <tr>\n",
       "      <th>6</th>\n",
       "      <td>results_modelito_7.csv</td>\n",
       "      <td>101.334</td>\n",
       "      <td>seed = semillero 100, corte = 9489</td>\n",
       "      <td>semillero</td>\n",
       "      <td>9489</td>\n",
       "    </tr>\n",
       "    <tr>\n",
       "      <th>7</th>\n",
       "      <td>results_modelito_8.csv</td>\n",
       "      <td>101.824</td>\n",
       "      <td>seed = semillero 100, corte = 9571</td>\n",
       "      <td>semillero</td>\n",
       "      <td>9571</td>\n",
       "    </tr>\n",
       "    <tr>\n",
       "      <th>8</th>\n",
       "      <td>results_modelito_9.csv</td>\n",
       "      <td>102.990</td>\n",
       "      <td>seed = semillero 100, corte = 9653</td>\n",
       "      <td>semillero</td>\n",
       "      <td>9653</td>\n",
       "    </tr>\n",
       "    <tr>\n",
       "      <th>9</th>\n",
       "      <td>results_modelito_10.csv</td>\n",
       "      <td>102.267</td>\n",
       "      <td>seed = semillero 100, corte = 9734</td>\n",
       "      <td>semillero</td>\n",
       "      <td>9734</td>\n",
       "    </tr>\n",
       "    <tr>\n",
       "      <th>10</th>\n",
       "      <td>results_modelito_11.csv</td>\n",
       "      <td>102.617</td>\n",
       "      <td>seed = semillero 100, corte = 9816</td>\n",
       "      <td>semillero</td>\n",
       "      <td>9816</td>\n",
       "    </tr>\n",
       "    <tr>\n",
       "      <th>11</th>\n",
       "      <td>results_modelito_12.csv</td>\n",
       "      <td>101.917</td>\n",
       "      <td>seed = semillero 100, corte = 9897</td>\n",
       "      <td>semillero</td>\n",
       "      <td>9897</td>\n",
       "    </tr>\n",
       "    <tr>\n",
       "      <th>12</th>\n",
       "      <td>results_modelito_13.csv</td>\n",
       "      <td>101.380</td>\n",
       "      <td>seed = semillero 100, corte = 9979</td>\n",
       "      <td>semillero</td>\n",
       "      <td>9979</td>\n",
       "    </tr>\n",
       "    <tr>\n",
       "      <th>13</th>\n",
       "      <td>results_modelito_14.csv</td>\n",
       "      <td>101.894</td>\n",
       "      <td>seed = semillero 100, corte = 10061</td>\n",
       "      <td>semillero</td>\n",
       "      <td>10061</td>\n",
       "    </tr>\n",
       "    <tr>\n",
       "      <th>14</th>\n",
       "      <td>results_modelito_15.csv</td>\n",
       "      <td>103.224</td>\n",
       "      <td>seed = semillero 100, corte = 10142</td>\n",
       "      <td>semillero</td>\n",
       "      <td>10142</td>\n",
       "    </tr>\n",
       "    <tr>\n",
       "      <th>15</th>\n",
       "      <td>results_modelito_16.csv</td>\n",
       "      <td>102.687</td>\n",
       "      <td>seed = semillero 100, corte = 10224</td>\n",
       "      <td>semillero</td>\n",
       "      <td>10224</td>\n",
       "    </tr>\n",
       "    <tr>\n",
       "      <th>16</th>\n",
       "      <td>results_modelito_17.csv</td>\n",
       "      <td>103.014</td>\n",
       "      <td>seed = semillero 100, corte = 10306</td>\n",
       "      <td>semillero</td>\n",
       "      <td>10306</td>\n",
       "    </tr>\n",
       "    <tr>\n",
       "      <th>17</th>\n",
       "      <td>results_modelito_18.csv</td>\n",
       "      <td>103.387</td>\n",
       "      <td>seed = semillero 100, corte = 10387</td>\n",
       "      <td>semillero</td>\n",
       "      <td>10387</td>\n",
       "    </tr>\n",
       "    <tr>\n",
       "      <th>18</th>\n",
       "      <td>results_modelito_19.csv</td>\n",
       "      <td>102.804</td>\n",
       "      <td>seed = semillero 100, corte = 10469</td>\n",
       "      <td>semillero</td>\n",
       "      <td>10469</td>\n",
       "    </tr>\n",
       "    <tr>\n",
       "      <th>19</th>\n",
       "      <td>results_modelito_20.csv</td>\n",
       "      <td>103.247</td>\n",
       "      <td>seed = semillero 100, corte = 10551</td>\n",
       "      <td>semillero</td>\n",
       "      <td>10551</td>\n",
       "    </tr>\n",
       "    <tr>\n",
       "      <th>20</th>\n",
       "      <td>results_modelito_21.csv</td>\n",
       "      <td>102.524</td>\n",
       "      <td>seed = semillero 100, corte = 10632</td>\n",
       "      <td>semillero</td>\n",
       "      <td>10632</td>\n",
       "    </tr>\n",
       "    <tr>\n",
       "      <th>21</th>\n",
       "      <td>results_modelito_22.csv</td>\n",
       "      <td>102.920</td>\n",
       "      <td>seed = semillero 100, corte = 10714</td>\n",
       "      <td>semillero</td>\n",
       "      <td>10714</td>\n",
       "    </tr>\n",
       "    <tr>\n",
       "      <th>22</th>\n",
       "      <td>results_modelito_23.csv</td>\n",
       "      <td>103.177</td>\n",
       "      <td>seed = semillero 100, corte = 10795</td>\n",
       "      <td>semillero</td>\n",
       "      <td>10795</td>\n",
       "    </tr>\n",
       "    <tr>\n",
       "      <th>23</th>\n",
       "      <td>results_modelito_24.csv</td>\n",
       "      <td>102.710</td>\n",
       "      <td>seed = semillero 100, corte = 10877</td>\n",
       "      <td>semillero</td>\n",
       "      <td>10877</td>\n",
       "    </tr>\n",
       "    <tr>\n",
       "      <th>24</th>\n",
       "      <td>results_modelito_25.csv</td>\n",
       "      <td>102.104</td>\n",
       "      <td>seed = semillero 100, corte = 10959</td>\n",
       "      <td>semillero</td>\n",
       "      <td>10959</td>\n",
       "    </tr>\n",
       "    <tr>\n",
       "      <th>25</th>\n",
       "      <td>results_modelito_26.csv</td>\n",
       "      <td>101.614</td>\n",
       "      <td>seed = semillero 100, corte = 11040</td>\n",
       "      <td>semillero</td>\n",
       "      <td>11040</td>\n",
       "    </tr>\n",
       "    <tr>\n",
       "      <th>26</th>\n",
       "      <td>results_modelito_27.csv</td>\n",
       "      <td>100.937</td>\n",
       "      <td>seed = semillero 100, corte = 11122</td>\n",
       "      <td>semillero</td>\n",
       "      <td>11122</td>\n",
       "    </tr>\n",
       "    <tr>\n",
       "      <th>27</th>\n",
       "      <td>results_modelito_28.csv</td>\n",
       "      <td>100.377</td>\n",
       "      <td>seed = semillero 100, corte = 11204</td>\n",
       "      <td>semillero</td>\n",
       "      <td>11204</td>\n",
       "    </tr>\n",
       "    <tr>\n",
       "      <th>28</th>\n",
       "      <td>results_modelito_29.csv</td>\n",
       "      <td>100.774</td>\n",
       "      <td>seed = semillero 100, corte = 11285</td>\n",
       "      <td>semillero</td>\n",
       "      <td>11285</td>\n",
       "    </tr>\n",
       "    <tr>\n",
       "      <th>29</th>\n",
       "      <td>results_modelito_30.csv</td>\n",
       "      <td>100.190</td>\n",
       "      <td>seed = semillero 100, corte = 11367</td>\n",
       "      <td>semillero</td>\n",
       "      <td>11367</td>\n",
       "    </tr>\n",
       "    <tr>\n",
       "      <th>30</th>\n",
       "      <td>results_modelito_31.csv</td>\n",
       "      <td>99.700</td>\n",
       "      <td>seed = semillero 100, corte = 11448</td>\n",
       "      <td>semillero</td>\n",
       "      <td>11448</td>\n",
       "    </tr>\n",
       "    <tr>\n",
       "      <th>31</th>\n",
       "      <td>results_modelito_32.csv</td>\n",
       "      <td>101.007</td>\n",
       "      <td>seed = semillero 100, corte = 11530</td>\n",
       "      <td>semillero</td>\n",
       "      <td>11530</td>\n",
       "    </tr>\n",
       "    <tr>\n",
       "      <th>32</th>\n",
       "      <td>results_modelito_33.csv</td>\n",
       "      <td>100.447</td>\n",
       "      <td>seed = semillero 100, corte = 11612</td>\n",
       "      <td>semillero</td>\n",
       "      <td>11612</td>\n",
       "    </tr>\n",
       "    <tr>\n",
       "      <th>33</th>\n",
       "      <td>results_modelito_34.csv</td>\n",
       "      <td>100.820</td>\n",
       "      <td>seed = semillero 100, corte = 11693</td>\n",
       "      <td>semillero</td>\n",
       "      <td>11693</td>\n",
       "    </tr>\n",
       "    <tr>\n",
       "      <th>34</th>\n",
       "      <td>results_modelito_35.csv</td>\n",
       "      <td>100.144</td>\n",
       "      <td>seed = semillero 100, corte = 11775</td>\n",
       "      <td>semillero</td>\n",
       "      <td>11775</td>\n",
       "    </tr>\n",
       "    <tr>\n",
       "      <th>35</th>\n",
       "      <td>results_modelito_36.csv</td>\n",
       "      <td>100.447</td>\n",
       "      <td>seed = semillero 100, corte = 11857</td>\n",
       "      <td>semillero</td>\n",
       "      <td>11857</td>\n",
       "    </tr>\n",
       "    <tr>\n",
       "      <th>36</th>\n",
       "      <td>results_modelito_37.csv</td>\n",
       "      <td>100.144</td>\n",
       "      <td>seed = semillero 100, corte = 11938</td>\n",
       "      <td>semillero</td>\n",
       "      <td>11938</td>\n",
       "    </tr>\n",
       "    <tr>\n",
       "      <th>37</th>\n",
       "      <td>results_modelito_38.csv</td>\n",
       "      <td>100.564</td>\n",
       "      <td>seed = semillero 100, corte = 12020</td>\n",
       "      <td>semillero</td>\n",
       "      <td>12020</td>\n",
       "    </tr>\n",
       "    <tr>\n",
       "      <th>38</th>\n",
       "      <td>results_modelito_39.csv</td>\n",
       "      <td>99.980</td>\n",
       "      <td>seed = semillero 100, corte = 12102</td>\n",
       "      <td>semillero</td>\n",
       "      <td>12102</td>\n",
       "    </tr>\n",
       "    <tr>\n",
       "      <th>39</th>\n",
       "      <td>results_modelito_40.csv</td>\n",
       "      <td>99.444</td>\n",
       "      <td>seed = semillero 100, corte = 12183</td>\n",
       "      <td>semillero</td>\n",
       "      <td>12183</td>\n",
       "    </tr>\n",
       "    <tr>\n",
       "      <th>40</th>\n",
       "      <td>results_modelito_41.csv</td>\n",
       "      <td>98.907</td>\n",
       "      <td>seed = semillero 100, corte = 12265</td>\n",
       "      <td>semillero</td>\n",
       "      <td>12265</td>\n",
       "    </tr>\n",
       "    <tr>\n",
       "      <th>41</th>\n",
       "      <td>results_modelito_42.csv</td>\n",
       "      <td>98.347</td>\n",
       "      <td>seed = semillero 100, corte = 12346</td>\n",
       "      <td>semillero</td>\n",
       "      <td>12346</td>\n",
       "    </tr>\n",
       "    <tr>\n",
       "      <th>42</th>\n",
       "      <td>results_modelito_43.csv</td>\n",
       "      <td>97.670</td>\n",
       "      <td>seed = semillero 100, corte = 12428</td>\n",
       "      <td>semillero</td>\n",
       "      <td>12428</td>\n",
       "    </tr>\n",
       "    <tr>\n",
       "      <th>43</th>\n",
       "      <td>results_modelito_44.csv</td>\n",
       "      <td>97.064</td>\n",
       "      <td>seed = semillero 100, corte = 12510</td>\n",
       "      <td>semillero</td>\n",
       "      <td>12510</td>\n",
       "    </tr>\n",
       "    <tr>\n",
       "      <th>44</th>\n",
       "      <td>results_modelito_45.csv</td>\n",
       "      <td>96.574</td>\n",
       "      <td>seed = semillero 100, corte = 12591</td>\n",
       "      <td>semillero</td>\n",
       "      <td>12591</td>\n",
       "    </tr>\n",
       "    <tr>\n",
       "      <th>45</th>\n",
       "      <td>results_modelito_46.csv</td>\n",
       "      <td>97.740</td>\n",
       "      <td>seed = semillero 100, corte = 12673</td>\n",
       "      <td>semillero</td>\n",
       "      <td>12673</td>\n",
       "    </tr>\n",
       "    <tr>\n",
       "      <th>46</th>\n",
       "      <td>results_modelito_47.csv</td>\n",
       "      <td>97.204</td>\n",
       "      <td>seed = semillero 100, corte = 12755</td>\n",
       "      <td>semillero</td>\n",
       "      <td>12755</td>\n",
       "    </tr>\n",
       "    <tr>\n",
       "      <th>47</th>\n",
       "      <td>results_modelito_48.csv</td>\n",
       "      <td>98.464</td>\n",
       "      <td>seed = semillero 100, corte = 12836</td>\n",
       "      <td>semillero</td>\n",
       "      <td>12836</td>\n",
       "    </tr>\n",
       "    <tr>\n",
       "      <th>48</th>\n",
       "      <td>results_modelito_49.csv</td>\n",
       "      <td>97.857</td>\n",
       "      <td>seed = semillero 100, corte = 12918</td>\n",
       "      <td>semillero</td>\n",
       "      <td>12918</td>\n",
       "    </tr>\n",
       "    <tr>\n",
       "      <th>49</th>\n",
       "      <td>results_modelito_50.csv</td>\n",
       "      <td>98.207</td>\n",
       "      <td>seed = semillero 100, corte = 13000</td>\n",
       "      <td>semillero</td>\n",
       "      <td>13000</td>\n",
       "    </tr>\n",
       "  </tbody>\n",
       "</table>\n",
       "</div>"
      ],
      "text/plain": [
       "                    Archivo Public score                          Description  \\\n",
       "0    results_modelito_1.csv       96.340   seed = semillero 100, corte = 9000   \n",
       "1    results_modelito_2.csv       95.944   seed = semillero 100, corte = 9081   \n",
       "2    results_modelito_3.csv       97.204   seed = semillero 100, corte = 9163   \n",
       "3    results_modelito_4.csv       96.690   seed = semillero 100, corte = 9244   \n",
       "4    results_modelito_5.csv       97.064   seed = semillero 100, corte = 9326   \n",
       "5    results_modelito_6.csv      100.190   seed = semillero 100, corte = 9408   \n",
       "6    results_modelito_7.csv      101.334   seed = semillero 100, corte = 9489   \n",
       "7    results_modelito_8.csv      101.824   seed = semillero 100, corte = 9571   \n",
       "8    results_modelito_9.csv      102.990   seed = semillero 100, corte = 9653   \n",
       "9   results_modelito_10.csv      102.267   seed = semillero 100, corte = 9734   \n",
       "10  results_modelito_11.csv      102.617   seed = semillero 100, corte = 9816   \n",
       "11  results_modelito_12.csv      101.917   seed = semillero 100, corte = 9897   \n",
       "12  results_modelito_13.csv      101.380   seed = semillero 100, corte = 9979   \n",
       "13  results_modelito_14.csv      101.894  seed = semillero 100, corte = 10061   \n",
       "14  results_modelito_15.csv      103.224  seed = semillero 100, corte = 10142   \n",
       "15  results_modelito_16.csv      102.687  seed = semillero 100, corte = 10224   \n",
       "16  results_modelito_17.csv      103.014  seed = semillero 100, corte = 10306   \n",
       "17  results_modelito_18.csv      103.387  seed = semillero 100, corte = 10387   \n",
       "18  results_modelito_19.csv      102.804  seed = semillero 100, corte = 10469   \n",
       "19  results_modelito_20.csv      103.247  seed = semillero 100, corte = 10551   \n",
       "20  results_modelito_21.csv      102.524  seed = semillero 100, corte = 10632   \n",
       "21  results_modelito_22.csv      102.920  seed = semillero 100, corte = 10714   \n",
       "22  results_modelito_23.csv      103.177  seed = semillero 100, corte = 10795   \n",
       "23  results_modelito_24.csv      102.710  seed = semillero 100, corte = 10877   \n",
       "24  results_modelito_25.csv      102.104  seed = semillero 100, corte = 10959   \n",
       "25  results_modelito_26.csv      101.614  seed = semillero 100, corte = 11040   \n",
       "26  results_modelito_27.csv      100.937  seed = semillero 100, corte = 11122   \n",
       "27  results_modelito_28.csv      100.377  seed = semillero 100, corte = 11204   \n",
       "28  results_modelito_29.csv      100.774  seed = semillero 100, corte = 11285   \n",
       "29  results_modelito_30.csv      100.190  seed = semillero 100, corte = 11367   \n",
       "30  results_modelito_31.csv       99.700  seed = semillero 100, corte = 11448   \n",
       "31  results_modelito_32.csv      101.007  seed = semillero 100, corte = 11530   \n",
       "32  results_modelito_33.csv      100.447  seed = semillero 100, corte = 11612   \n",
       "33  results_modelito_34.csv      100.820  seed = semillero 100, corte = 11693   \n",
       "34  results_modelito_35.csv      100.144  seed = semillero 100, corte = 11775   \n",
       "35  results_modelito_36.csv      100.447  seed = semillero 100, corte = 11857   \n",
       "36  results_modelito_37.csv      100.144  seed = semillero 100, corte = 11938   \n",
       "37  results_modelito_38.csv      100.564  seed = semillero 100, corte = 12020   \n",
       "38  results_modelito_39.csv       99.980  seed = semillero 100, corte = 12102   \n",
       "39  results_modelito_40.csv       99.444  seed = semillero 100, corte = 12183   \n",
       "40  results_modelito_41.csv       98.907  seed = semillero 100, corte = 12265   \n",
       "41  results_modelito_42.csv       98.347  seed = semillero 100, corte = 12346   \n",
       "42  results_modelito_43.csv       97.670  seed = semillero 100, corte = 12428   \n",
       "43  results_modelito_44.csv       97.064  seed = semillero 100, corte = 12510   \n",
       "44  results_modelito_45.csv       96.574  seed = semillero 100, corte = 12591   \n",
       "45  results_modelito_46.csv       97.740  seed = semillero 100, corte = 12673   \n",
       "46  results_modelito_47.csv       97.204  seed = semillero 100, corte = 12755   \n",
       "47  results_modelito_48.csv       98.464  seed = semillero 100, corte = 12836   \n",
       "48  results_modelito_49.csv       97.857  seed = semillero 100, corte = 12918   \n",
       "49  results_modelito_50.csv       98.207  seed = semillero 100, corte = 13000   \n",
       "\n",
       "         seed  corte  \n",
       "0   semillero   9000  \n",
       "1   semillero   9081  \n",
       "2   semillero   9163  \n",
       "3   semillero   9244  \n",
       "4   semillero   9326  \n",
       "5   semillero   9408  \n",
       "6   semillero   9489  \n",
       "7   semillero   9571  \n",
       "8   semillero   9653  \n",
       "9   semillero   9734  \n",
       "10  semillero   9816  \n",
       "11  semillero   9897  \n",
       "12  semillero   9979  \n",
       "13  semillero  10061  \n",
       "14  semillero  10142  \n",
       "15  semillero  10224  \n",
       "16  semillero  10306  \n",
       "17  semillero  10387  \n",
       "18  semillero  10469  \n",
       "19  semillero  10551  \n",
       "20  semillero  10632  \n",
       "21  semillero  10714  \n",
       "22  semillero  10795  \n",
       "23  semillero  10877  \n",
       "24  semillero  10959  \n",
       "25  semillero  11040  \n",
       "26  semillero  11122  \n",
       "27  semillero  11204  \n",
       "28  semillero  11285  \n",
       "29  semillero  11367  \n",
       "30  semillero  11448  \n",
       "31  semillero  11530  \n",
       "32  semillero  11612  \n",
       "33  semillero  11693  \n",
       "34  semillero  11775  \n",
       "35  semillero  11857  \n",
       "36  semillero  11938  \n",
       "37  semillero  12020  \n",
       "38  semillero  12102  \n",
       "39  semillero  12183  \n",
       "40  semillero  12265  \n",
       "41  semillero  12346  \n",
       "42  semillero  12428  \n",
       "43  semillero  12510  \n",
       "44  semillero  12591  \n",
       "45  semillero  12673  \n",
       "46  semillero  12755  \n",
       "47  semillero  12836  \n",
       "48  semillero  12918  \n",
       "49  semillero  13000  "
      ]
     },
     "execution_count": 23,
     "metadata": {},
     "output_type": "execute_result"
    }
   ],
   "source": [
    "resultados"
   ]
  },
  {
   "cell_type": "code",
   "execution_count": 26,
   "metadata": {},
   "outputs": [],
   "source": [
    "resultados.to_csv(f'{files_path}scores_{version}.csv', index=False)"
   ]
  }
 ],
 "metadata": {
  "kernelspec": {
   "display_name": "Python 3",
   "language": "python",
   "name": "python3"
  },
  "language_info": {
   "codemirror_mode": {
    "name": "ipython",
    "version": 3
   },
   "file_extension": ".py",
   "mimetype": "text/x-python",
   "name": "python",
   "nbconvert_exporter": "python",
   "pygments_lexer": "ipython3",
   "version": "3.12.3"
  }
 },
 "nbformat": 4,
 "nbformat_minor": 2
}
