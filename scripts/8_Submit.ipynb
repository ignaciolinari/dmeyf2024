{
 "cells": [
  {
   "cell_type": "code",
   "execution_count": 1,
   "metadata": {},
   "outputs": [],
   "source": [
    "# %pip install kaggle"
   ]
  },
  {
   "cell_type": "code",
   "execution_count": 2,
   "metadata": {},
   "outputs": [],
   "source": [
    "\n",
    "\n",
    "import pandas as pd\n",
    "import numpy as np\n",
    "\n",
    "import os\n",
    "from kaggle.api.kaggle_api_extended import KaggleApi\n",
    "import time"
   ]
  },
  {
   "cell_type": "code",
   "execution_count": 3,
   "metadata": {},
   "outputs": [],
   "source": [
    "version = 'modelito_exp' # UPDATE"
   ]
  },
  {
   "cell_type": "code",
   "execution_count": 4,
   "metadata": {},
   "outputs": [],
   "source": [
    "# base_path = '/home/clas_giulia_s/buckets/b1/'\n",
    "\n",
    "# files_path = base_path + f'exp/competencia_2/{version}/'\n",
    "\n",
    "# competition = 'dm-ey-f-2024-segunda'\n",
    "\n",
    "base_path = '/Users/ignacio/MAESTRIA/DMEF/'\n",
    "\n",
    "files_path = base_path + f'exp/competencia_1/{version}/'\n",
    "\n",
    "competition = 'dm-ey-f-2024-primera'\n"
   ]
  },
  {
   "cell_type": "code",
   "execution_count": 5,
   "metadata": {},
   "outputs": [
    {
     "data": {
      "text/plain": [
       "array([ 9000,  9081,  9163,  9244,  9326,  9408,  9489,  9571,  9653,\n",
       "        9734,  9816,  9897,  9979, 10061, 10142, 10224, 10306, 10387,\n",
       "       10469, 10551, 10632, 10714, 10795, 10877, 10959, 11040, 11122,\n",
       "       11204, 11285, 11367, 11448, 11530, 11612, 11693, 11775, 11857,\n",
       "       11938, 12020, 12102, 12183, 12265, 12346, 12428, 12510, 12591,\n",
       "       12673, 12755, 12836, 12918, 13000])"
      ]
     },
     "execution_count": 5,
     "metadata": {},
     "output_type": "execute_result"
    }
   ],
   "source": [
    "puntos_corte = np.linspace(9000, 13000, 50).astype(int)\n",
    "puntos_corte"
   ]
  },
  {
   "cell_type": "code",
   "execution_count": 6,
   "metadata": {},
   "outputs": [],
   "source": [
    "# diccionario con la semilla y el corte de cada version\n",
    "combinations = {}\n",
    "\n",
    "counter = 1\n",
    "for corte in puntos_corte:\n",
    "    combinations[counter] = {'seed':'semillero 100','corte':int(corte)}\n",
    "    counter += 1\n",
    "\n",
    "# path de cada version        \n",
    "files = [f'{files_path}results_{version}_{i}.csv' for i in range(1,51)]\n",
    "\n",
    "# descripcion de cada edicion\n",
    "descriptions= [\n",
    "    f\"seed = {combinations[i]['seed']}, corte = {combinations[i]['corte']}\"\n",
    "    for i in range(1, len(combinations)+1)\n",
    "]"
   ]
  },
  {
   "cell_type": "code",
   "execution_count": 7,
   "metadata": {},
   "outputs": [],
   "source": [
    "api = KaggleApi()\n",
    "api.authenticate()"
   ]
  },
  {
   "cell_type": "code",
   "execution_count": 8,
   "metadata": {},
   "outputs": [
    {
     "name": "stderr",
     "output_type": "stream",
     "text": [
      "100%|██████████| 1.93M/1.93M [00:11<00:00, 180kB/s] \n"
     ]
    },
    {
     "name": "stdout",
     "output_type": "stream",
     "text": [
      "results_modelito_exp_1.csv subido con exito, public score:100.867\n"
     ]
    },
    {
     "name": "stderr",
     "output_type": "stream",
     "text": [
      "100%|██████████| 1.93M/1.93M [00:01<00:00, 1.01MB/s]\n"
     ]
    },
    {
     "name": "stdout",
     "output_type": "stream",
     "text": [
      "results_modelito_exp_2.csv subido con exito, public score:101.287\n"
     ]
    },
    {
     "name": "stderr",
     "output_type": "stream",
     "text": [
      "100%|██████████| 1.93M/1.93M [00:01<00:00, 1.01MB/s]\n"
     ]
    },
    {
     "name": "stdout",
     "output_type": "stream",
     "text": [
      "results_modelito_exp_3.csv subido con exito, public score:100.797\n"
     ]
    },
    {
     "name": "stderr",
     "output_type": "stream",
     "text": [
      "100%|██████████| 1.93M/1.93M [00:02<00:00, 954kB/s] \n"
     ]
    },
    {
     "name": "stdout",
     "output_type": "stream",
     "text": [
      "results_modelito_exp_4.csv subido con exito, public score:102.057\n"
     ]
    },
    {
     "name": "stderr",
     "output_type": "stream",
     "text": [
      "100%|██████████| 1.93M/1.93M [00:01<00:00, 1.01MB/s]\n"
     ]
    },
    {
     "name": "stdout",
     "output_type": "stream",
     "text": [
      "results_modelito_exp_5.csv subido con exito, public score:101.614\n"
     ]
    },
    {
     "name": "stderr",
     "output_type": "stream",
     "text": [
      "100%|██████████| 1.93M/1.93M [00:02<00:00, 994kB/s] \n"
     ]
    },
    {
     "name": "stdout",
     "output_type": "stream",
     "text": [
      "results_modelito_exp_6.csv subido con exito, public score:101.030\n"
     ]
    },
    {
     "name": "stderr",
     "output_type": "stream",
     "text": [
      "100%|██████████| 1.93M/1.93M [00:01<00:00, 1.01MB/s]\n"
     ]
    },
    {
     "name": "stdout",
     "output_type": "stream",
     "text": [
      "results_modelito_exp_7.csv subido con exito, public score:102.430\n"
     ]
    },
    {
     "name": "stderr",
     "output_type": "stream",
     "text": [
      "100%|██████████| 1.93M/1.93M [00:02<00:00, 992kB/s] \n"
     ]
    },
    {
     "name": "stdout",
     "output_type": "stream",
     "text": [
      "results_modelito_exp_8.csv subido con exito, public score:101.940\n"
     ]
    },
    {
     "name": "stderr",
     "output_type": "stream",
     "text": [
      "100%|██████████| 1.93M/1.93M [00:01<00:00, 1.02MB/s]\n"
     ]
    },
    {
     "name": "stdout",
     "output_type": "stream",
     "text": [
      "results_modelito_exp_9.csv subido con exito, public score:103.387\n"
     ]
    },
    {
     "name": "stderr",
     "output_type": "stream",
     "text": [
      "100%|██████████| 1.93M/1.93M [00:02<00:00, 994kB/s] \n"
     ]
    },
    {
     "name": "stdout",
     "output_type": "stream",
     "text": [
      "results_modelito_exp_10.csv subido con exito, public score:103.714\n"
     ]
    },
    {
     "name": "stderr",
     "output_type": "stream",
     "text": [
      "100%|██████████| 1.93M/1.93M [00:02<00:00, 987kB/s] \n"
     ]
    },
    {
     "name": "stdout",
     "output_type": "stream",
     "text": [
      "results_modelito_exp_11.csv subido con exito, public score:104.087\n"
     ]
    },
    {
     "name": "stderr",
     "output_type": "stream",
     "text": [
      "100%|██████████| 1.93M/1.93M [00:02<00:00, 1.00MB/s]\n"
     ]
    },
    {
     "name": "stdout",
     "output_type": "stream",
     "text": [
      "results_modelito_exp_12.csv subido con exito, public score:104.390\n"
     ]
    },
    {
     "name": "stderr",
     "output_type": "stream",
     "text": [
      "100%|██████████| 1.93M/1.93M [00:02<00:00, 989kB/s] \n"
     ]
    },
    {
     "name": "stdout",
     "output_type": "stream",
     "text": [
      "results_modelito_exp_13.csv subido con exito, public score:103.877\n"
     ]
    },
    {
     "name": "stderr",
     "output_type": "stream",
     "text": [
      "100%|██████████| 1.93M/1.93M [00:02<00:00, 1.00MB/s]\n"
     ]
    },
    {
     "name": "stdout",
     "output_type": "stream",
     "text": [
      "results_modelito_exp_14.csv subido con exito, public score:104.157\n"
     ]
    },
    {
     "name": "stderr",
     "output_type": "stream",
     "text": [
      "100%|██████████| 1.93M/1.93M [00:02<00:00, 994kB/s] \n"
     ]
    },
    {
     "name": "stdout",
     "output_type": "stream",
     "text": [
      "results_modelito_exp_15.csv subido con exito, public score:103.667\n"
     ]
    },
    {
     "name": "stderr",
     "output_type": "stream",
     "text": [
      "100%|██████████| 1.93M/1.93M [00:01<00:00, 1.03MB/s]\n"
     ]
    },
    {
     "name": "stdout",
     "output_type": "stream",
     "text": [
      "results_modelito_exp_16.csv subido con exito, public score:102.990\n"
     ]
    },
    {
     "name": "stderr",
     "output_type": "stream",
     "text": [
      "100%|██████████| 1.93M/1.93M [00:01<00:00, 1.03MB/s]\n"
     ]
    },
    {
     "name": "stdout",
     "output_type": "stream",
     "text": [
      "results_modelito_exp_17.csv subido con exito, public score:102.454\n"
     ]
    },
    {
     "name": "stderr",
     "output_type": "stream",
     "text": [
      "100%|██████████| 1.93M/1.93M [00:02<00:00, 1.01MB/s]\n"
     ]
    },
    {
     "name": "stdout",
     "output_type": "stream",
     "text": [
      "results_modelito_exp_18.csv subido con exito, public score:102.944\n"
     ]
    },
    {
     "name": "stderr",
     "output_type": "stream",
     "text": [
      "100%|██████████| 1.93M/1.93M [00:01<00:00, 1.03MB/s]\n"
     ]
    },
    {
     "name": "stdout",
     "output_type": "stream",
     "text": [
      "results_modelito_exp_19.csv subido con exito, public score:102.407\n"
     ]
    },
    {
     "name": "stderr",
     "output_type": "stream",
     "text": [
      "100%|██████████| 1.93M/1.93M [00:02<00:00, 991kB/s] \n"
     ]
    },
    {
     "name": "stdout",
     "output_type": "stream",
     "text": [
      "results_modelito_exp_20.csv subido con exito, public score:102.734\n"
     ]
    },
    {
     "name": "stderr",
     "output_type": "stream",
     "text": [
      "100%|██████████| 1.93M/1.93M [00:02<00:00, 987kB/s] \n"
     ]
    },
    {
     "name": "stdout",
     "output_type": "stream",
     "text": [
      "results_modelito_exp_21.csv subido con exito, public score:104.134\n"
     ]
    },
    {
     "name": "stderr",
     "output_type": "stream",
     "text": [
      "100%|██████████| 1.93M/1.93M [00:02<00:00, 1.01MB/s]\n"
     ]
    },
    {
     "name": "stdout",
     "output_type": "stream",
     "text": [
      "results_modelito_exp_22.csv subido con exito, public score:103.667\n"
     ]
    },
    {
     "name": "stderr",
     "output_type": "stream",
     "text": [
      "100%|██████████| 1.93M/1.93M [00:02<00:00, 1.01MB/s]\n"
     ]
    },
    {
     "name": "stdout",
     "output_type": "stream",
     "text": [
      "results_modelito_exp_23.csv subido con exito, public score:103.900\n"
     ]
    },
    {
     "name": "stderr",
     "output_type": "stream",
     "text": [
      "100%|██████████| 1.93M/1.93M [00:02<00:00, 928kB/s] \n"
     ]
    },
    {
     "name": "stdout",
     "output_type": "stream",
     "text": [
      "results_modelito_exp_24.csv subido con exito, public score:104.180\n"
     ]
    },
    {
     "name": "stderr",
     "output_type": "stream",
     "text": [
      "100%|██████████| 1.93M/1.93M [00:02<00:00, 979kB/s] \n"
     ]
    },
    {
     "name": "stdout",
     "output_type": "stream",
     "text": [
      "results_modelito_exp_25.csv subido con exito, public score:103.620\n"
     ]
    },
    {
     "name": "stderr",
     "output_type": "stream",
     "text": [
      "100%|██████████| 1.93M/1.93M [00:01<00:00, 1.01MB/s]\n"
     ]
    },
    {
     "name": "stdout",
     "output_type": "stream",
     "text": [
      "results_modelito_exp_26.csv subido con exito, public score:103.994\n"
     ]
    },
    {
     "name": "stderr",
     "output_type": "stream",
     "text": [
      "100%|██████████| 1.93M/1.93M [00:01<00:00, 1.02MB/s]\n"
     ]
    },
    {
     "name": "stdout",
     "output_type": "stream",
     "text": [
      "results_modelito_exp_27.csv subido con exito, public score:103.247\n"
     ]
    },
    {
     "name": "stderr",
     "output_type": "stream",
     "text": [
      "100%|██████████| 1.93M/1.93M [00:02<00:00, 997kB/s] \n"
     ]
    },
    {
     "name": "stdout",
     "output_type": "stream",
     "text": [
      "results_modelito_exp_28.csv subido con exito, public score:102.617\n"
     ]
    },
    {
     "name": "stderr",
     "output_type": "stream",
     "text": [
      "100%|██████████| 1.93M/1.93M [00:02<00:00, 928kB/s] \n"
     ]
    },
    {
     "name": "stdout",
     "output_type": "stream",
     "text": [
      "results_modelito_exp_29.csv subido con exito, public score:102.127\n"
     ]
    },
    {
     "name": "stderr",
     "output_type": "stream",
     "text": [
      "100%|██████████| 1.93M/1.93M [00:02<00:00, 1.00MB/s]\n"
     ]
    },
    {
     "name": "stdout",
     "output_type": "stream",
     "text": [
      "results_modelito_exp_30.csv subido con exito, public score:101.567\n"
     ]
    },
    {
     "name": "stderr",
     "output_type": "stream",
     "text": [
      "100%|██████████| 1.93M/1.93M [00:02<00:00, 994kB/s] \n"
     ]
    },
    {
     "name": "stdout",
     "output_type": "stream",
     "text": [
      "results_modelito_exp_31.csv subido con exito, public score:102.080\n"
     ]
    },
    {
     "name": "stderr",
     "output_type": "stream",
     "text": [
      "100%|██████████| 1.93M/1.93M [00:02<00:00, 987kB/s] \n"
     ]
    },
    {
     "name": "stdout",
     "output_type": "stream",
     "text": [
      "results_modelito_exp_32.csv subido con exito, public score:101.520\n"
     ]
    },
    {
     "name": "stderr",
     "output_type": "stream",
     "text": [
      "100%|██████████| 1.93M/1.93M [00:01<00:00, 1.02MB/s]\n"
     ]
    },
    {
     "name": "stdout",
     "output_type": "stream",
     "text": [
      "results_modelito_exp_33.csv subido con exito, public score:101.847\n"
     ]
    },
    {
     "name": "stderr",
     "output_type": "stream",
     "text": [
      "100%|██████████| 1.93M/1.93M [00:02<00:00, 822kB/s] \n"
     ]
    },
    {
     "name": "stdout",
     "output_type": "stream",
     "text": [
      "results_modelito_exp_34.csv subido con exito, public score:101.264\n"
     ]
    },
    {
     "name": "stderr",
     "output_type": "stream",
     "text": [
      "100%|██████████| 1.93M/1.93M [00:02<00:00, 939kB/s] \n"
     ]
    },
    {
     "name": "stdout",
     "output_type": "stream",
     "text": [
      "results_modelito_exp_35.csv subido con exito, public score:100.797\n"
     ]
    },
    {
     "name": "stderr",
     "output_type": "stream",
     "text": [
      "100%|██████████| 1.93M/1.93M [00:02<00:00, 986kB/s] \n"
     ]
    },
    {
     "name": "stdout",
     "output_type": "stream",
     "text": [
      "results_modelito_exp_36.csv subido con exito, public score:101.077\n"
     ]
    },
    {
     "name": "stderr",
     "output_type": "stream",
     "text": [
      "100%|██████████| 1.93M/1.93M [00:02<00:00, 986kB/s] \n"
     ]
    },
    {
     "name": "stdout",
     "output_type": "stream",
     "text": [
      "results_modelito_exp_37.csv subido con exito, public score:100.540\n"
     ]
    },
    {
     "name": "stderr",
     "output_type": "stream",
     "text": [
      "100%|██████████| 1.93M/1.93M [00:01<00:00, 1.02MB/s]\n"
     ]
    },
    {
     "name": "stdout",
     "output_type": "stream",
     "text": [
      "results_modelito_exp_38.csv subido con exito, public score:99.817\n"
     ]
    },
    {
     "name": "stderr",
     "output_type": "stream",
     "text": [
      "100%|██████████| 1.93M/1.93M [00:02<00:00, 1.01MB/s]\n"
     ]
    },
    {
     "name": "stdout",
     "output_type": "stream",
     "text": [
      "results_modelito_exp_39.csv subido con exito, public score:99.257\n"
     ]
    },
    {
     "name": "stderr",
     "output_type": "stream",
     "text": [
      "100%|██████████| 1.93M/1.93M [00:01<00:00, 1.01MB/s]\n"
     ]
    },
    {
     "name": "stdout",
     "output_type": "stream",
     "text": [
      "results_modelito_exp_40.csv subido con exito, public score:99.537\n"
     ]
    },
    {
     "name": "stderr",
     "output_type": "stream",
     "text": [
      "100%|██████████| 1.93M/1.93M [00:02<00:00, 989kB/s] \n"
     ]
    },
    {
     "name": "stdout",
     "output_type": "stream",
     "text": [
      "results_modelito_exp_41.csv subido con exito, public score:99.630\n"
     ]
    },
    {
     "name": "stderr",
     "output_type": "stream",
     "text": [
      "100%|██████████| 1.93M/1.93M [00:02<00:00, 1.00MB/s]\n"
     ]
    },
    {
     "name": "stdout",
     "output_type": "stream",
     "text": [
      "results_modelito_exp_42.csv subido con exito, public score:99.024\n"
     ]
    },
    {
     "name": "stderr",
     "output_type": "stream",
     "text": [
      "100%|██████████| 1.93M/1.93M [00:02<00:00, 1.01MB/s]\n"
     ]
    },
    {
     "name": "stdout",
     "output_type": "stream",
     "text": [
      "results_modelito_exp_43.csv subido con exito, public score:98.580\n"
     ]
    },
    {
     "name": "stderr",
     "output_type": "stream",
     "text": [
      "100%|██████████| 1.93M/1.93M [00:01<00:00, 1.02MB/s]\n"
     ]
    },
    {
     "name": "stdout",
     "output_type": "stream",
     "text": [
      "results_modelito_exp_44.csv subido con exito, public score:99.000\n"
     ]
    },
    {
     "name": "stderr",
     "output_type": "stream",
     "text": [
      "100%|██████████| 1.93M/1.93M [00:01<00:00, 1.01MB/s]\n"
     ]
    },
    {
     "name": "stdout",
     "output_type": "stream",
     "text": [
      "results_modelito_exp_45.csv subido con exito, public score:98.487\n"
     ]
    },
    {
     "name": "stderr",
     "output_type": "stream",
     "text": [
      "100%|██████████| 1.93M/1.93M [00:02<00:00, 1.00MB/s]\n"
     ]
    },
    {
     "name": "stdout",
     "output_type": "stream",
     "text": [
      "results_modelito_exp_46.csv subido con exito, public score:98.860\n"
     ]
    },
    {
     "name": "stderr",
     "output_type": "stream",
     "text": [
      "100%|██████████| 1.93M/1.93M [00:01<00:00, 1.02MB/s]\n"
     ]
    },
    {
     "name": "stdout",
     "output_type": "stream",
     "text": [
      "results_modelito_exp_47.csv subido con exito, public score:98.277\n"
     ]
    },
    {
     "name": "stderr",
     "output_type": "stream",
     "text": [
      "100%|██████████| 1.93M/1.93M [00:02<00:00, 1.00MB/s]\n"
     ]
    },
    {
     "name": "stdout",
     "output_type": "stream",
     "text": [
      "results_modelito_exp_48.csv subido con exito, public score:97.600\n"
     ]
    },
    {
     "name": "stderr",
     "output_type": "stream",
     "text": [
      "100%|██████████| 1.93M/1.93M [00:01<00:00, 1.02MB/s]\n"
     ]
    },
    {
     "name": "stdout",
     "output_type": "stream",
     "text": [
      "results_modelito_exp_49.csv subido con exito, public score:97.134\n"
     ]
    },
    {
     "name": "stderr",
     "output_type": "stream",
     "text": [
      "100%|██████████| 1.93M/1.93M [00:02<00:00, 986kB/s] \n"
     ]
    },
    {
     "name": "stdout",
     "output_type": "stream",
     "text": [
      "results_modelito_exp_50.csv subido con exito, public score:97.554\n"
     ]
    }
   ],
   "source": [
    "archivos = []\n",
    "scores = []\n",
    "descripciones = []\n",
    "\n",
    "for i in range(len(files)): # UPDATE!\n",
    "\n",
    "    submitted = False\n",
    "    while submitted == False:\n",
    "        try:\n",
    "            api.competition_submit(file_name=files[i],\n",
    "                                   message=descriptions[i],\n",
    "                                   competition=competition)\n",
    "        except Exception as e:\n",
    "            print(f'Error al subir {files[i]}: {e}')\n",
    "            time.sleep(1000)\n",
    "        else:\n",
    "            submitted = True \n",
    "\n",
    "            # Esperamos un poco para que kaggle no tire error\n",
    "            time.sleep(30)\n",
    "\n",
    "            submissions = api.competition_submissions(competition, page_size=1) # traigo solo la ultima\n",
    "            ultima = submissions[0]\n",
    "            \n",
    "            archivo = ultima.fileName\n",
    "            public_score = ultima.publicScore\n",
    "            descripcion = ultima.description\n",
    "            \n",
    "            archivos.append(archivo)\n",
    "            scores.append(public_score)\n",
    "            descripciones.append(descripcion)\n",
    "            \n",
    "            print(f'{archivo} subido con exito, public score:{public_score}')"
   ]
  },
  {
   "cell_type": "code",
   "execution_count": 9,
   "metadata": {},
   "outputs": [],
   "source": [
    "resultados = pd.DataFrame({\n",
    "    'Archivo': archivos,\n",
    "    'Public score': scores,\n",
    "    'Description':descripciones\n",
    "})\n",
    "\n",
    "df = pd.DataFrame({\n",
    "    'seed': np.repeat('semillero', len(puntos_corte)),\n",
    "    'corte': np.tile(puntos_corte, 1)\n",
    "})\n",
    "\n",
    "resultados = pd.concat([resultados, df], axis=1)"
   ]
  },
  {
   "cell_type": "code",
   "execution_count": 10,
   "metadata": {},
   "outputs": [
    {
     "data": {
      "text/html": [
       "<div>\n",
       "<style scoped>\n",
       "    .dataframe tbody tr th:only-of-type {\n",
       "        vertical-align: middle;\n",
       "    }\n",
       "\n",
       "    .dataframe tbody tr th {\n",
       "        vertical-align: top;\n",
       "    }\n",
       "\n",
       "    .dataframe thead th {\n",
       "        text-align: right;\n",
       "    }\n",
       "</style>\n",
       "<table border=\"1\" class=\"dataframe\">\n",
       "  <thead>\n",
       "    <tr style=\"text-align: right;\">\n",
       "      <th></th>\n",
       "      <th>Archivo</th>\n",
       "      <th>Public score</th>\n",
       "      <th>Description</th>\n",
       "      <th>seed</th>\n",
       "      <th>corte</th>\n",
       "    </tr>\n",
       "  </thead>\n",
       "  <tbody>\n",
       "    <tr>\n",
       "      <th>0</th>\n",
       "      <td>results_modelito_exp_1.csv</td>\n",
       "      <td>100.867</td>\n",
       "      <td>seed = semillero 100, corte = 9000</td>\n",
       "      <td>semillero</td>\n",
       "      <td>9000</td>\n",
       "    </tr>\n",
       "    <tr>\n",
       "      <th>1</th>\n",
       "      <td>results_modelito_exp_2.csv</td>\n",
       "      <td>101.287</td>\n",
       "      <td>seed = semillero 100, corte = 9081</td>\n",
       "      <td>semillero</td>\n",
       "      <td>9081</td>\n",
       "    </tr>\n",
       "    <tr>\n",
       "      <th>2</th>\n",
       "      <td>results_modelito_exp_3.csv</td>\n",
       "      <td>100.797</td>\n",
       "      <td>seed = semillero 100, corte = 9163</td>\n",
       "      <td>semillero</td>\n",
       "      <td>9163</td>\n",
       "    </tr>\n",
       "    <tr>\n",
       "      <th>3</th>\n",
       "      <td>results_modelito_exp_4.csv</td>\n",
       "      <td>102.057</td>\n",
       "      <td>seed = semillero 100, corte = 9244</td>\n",
       "      <td>semillero</td>\n",
       "      <td>9244</td>\n",
       "    </tr>\n",
       "    <tr>\n",
       "      <th>4</th>\n",
       "      <td>results_modelito_exp_5.csv</td>\n",
       "      <td>101.614</td>\n",
       "      <td>seed = semillero 100, corte = 9326</td>\n",
       "      <td>semillero</td>\n",
       "      <td>9326</td>\n",
       "    </tr>\n",
       "    <tr>\n",
       "      <th>5</th>\n",
       "      <td>results_modelito_exp_6.csv</td>\n",
       "      <td>101.030</td>\n",
       "      <td>seed = semillero 100, corte = 9408</td>\n",
       "      <td>semillero</td>\n",
       "      <td>9408</td>\n",
       "    </tr>\n",
       "    <tr>\n",
       "      <th>6</th>\n",
       "      <td>results_modelito_exp_7.csv</td>\n",
       "      <td>102.430</td>\n",
       "      <td>seed = semillero 100, corte = 9489</td>\n",
       "      <td>semillero</td>\n",
       "      <td>9489</td>\n",
       "    </tr>\n",
       "    <tr>\n",
       "      <th>7</th>\n",
       "      <td>results_modelito_exp_8.csv</td>\n",
       "      <td>101.940</td>\n",
       "      <td>seed = semillero 100, corte = 9571</td>\n",
       "      <td>semillero</td>\n",
       "      <td>9571</td>\n",
       "    </tr>\n",
       "    <tr>\n",
       "      <th>8</th>\n",
       "      <td>results_modelito_exp_9.csv</td>\n",
       "      <td>103.387</td>\n",
       "      <td>seed = semillero 100, corte = 9653</td>\n",
       "      <td>semillero</td>\n",
       "      <td>9653</td>\n",
       "    </tr>\n",
       "    <tr>\n",
       "      <th>9</th>\n",
       "      <td>results_modelito_exp_10.csv</td>\n",
       "      <td>103.714</td>\n",
       "      <td>seed = semillero 100, corte = 9734</td>\n",
       "      <td>semillero</td>\n",
       "      <td>9734</td>\n",
       "    </tr>\n",
       "    <tr>\n",
       "      <th>10</th>\n",
       "      <td>results_modelito_exp_11.csv</td>\n",
       "      <td>104.087</td>\n",
       "      <td>seed = semillero 100, corte = 9816</td>\n",
       "      <td>semillero</td>\n",
       "      <td>9816</td>\n",
       "    </tr>\n",
       "    <tr>\n",
       "      <th>11</th>\n",
       "      <td>results_modelito_exp_12.csv</td>\n",
       "      <td>104.390</td>\n",
       "      <td>seed = semillero 100, corte = 9897</td>\n",
       "      <td>semillero</td>\n",
       "      <td>9897</td>\n",
       "    </tr>\n",
       "    <tr>\n",
       "      <th>12</th>\n",
       "      <td>results_modelito_exp_13.csv</td>\n",
       "      <td>103.877</td>\n",
       "      <td>seed = semillero 100, corte = 9979</td>\n",
       "      <td>semillero</td>\n",
       "      <td>9979</td>\n",
       "    </tr>\n",
       "    <tr>\n",
       "      <th>13</th>\n",
       "      <td>results_modelito_exp_14.csv</td>\n",
       "      <td>104.157</td>\n",
       "      <td>seed = semillero 100, corte = 10061</td>\n",
       "      <td>semillero</td>\n",
       "      <td>10061</td>\n",
       "    </tr>\n",
       "    <tr>\n",
       "      <th>14</th>\n",
       "      <td>results_modelito_exp_15.csv</td>\n",
       "      <td>103.667</td>\n",
       "      <td>seed = semillero 100, corte = 10142</td>\n",
       "      <td>semillero</td>\n",
       "      <td>10142</td>\n",
       "    </tr>\n",
       "    <tr>\n",
       "      <th>15</th>\n",
       "      <td>results_modelito_exp_16.csv</td>\n",
       "      <td>102.990</td>\n",
       "      <td>seed = semillero 100, corte = 10224</td>\n",
       "      <td>semillero</td>\n",
       "      <td>10224</td>\n",
       "    </tr>\n",
       "    <tr>\n",
       "      <th>16</th>\n",
       "      <td>results_modelito_exp_17.csv</td>\n",
       "      <td>102.454</td>\n",
       "      <td>seed = semillero 100, corte = 10306</td>\n",
       "      <td>semillero</td>\n",
       "      <td>10306</td>\n",
       "    </tr>\n",
       "    <tr>\n",
       "      <th>17</th>\n",
       "      <td>results_modelito_exp_18.csv</td>\n",
       "      <td>102.944</td>\n",
       "      <td>seed = semillero 100, corte = 10387</td>\n",
       "      <td>semillero</td>\n",
       "      <td>10387</td>\n",
       "    </tr>\n",
       "    <tr>\n",
       "      <th>18</th>\n",
       "      <td>results_modelito_exp_19.csv</td>\n",
       "      <td>102.407</td>\n",
       "      <td>seed = semillero 100, corte = 10469</td>\n",
       "      <td>semillero</td>\n",
       "      <td>10469</td>\n",
       "    </tr>\n",
       "    <tr>\n",
       "      <th>19</th>\n",
       "      <td>results_modelito_exp_20.csv</td>\n",
       "      <td>102.734</td>\n",
       "      <td>seed = semillero 100, corte = 10551</td>\n",
       "      <td>semillero</td>\n",
       "      <td>10551</td>\n",
       "    </tr>\n",
       "    <tr>\n",
       "      <th>20</th>\n",
       "      <td>results_modelito_exp_21.csv</td>\n",
       "      <td>104.134</td>\n",
       "      <td>seed = semillero 100, corte = 10632</td>\n",
       "      <td>semillero</td>\n",
       "      <td>10632</td>\n",
       "    </tr>\n",
       "    <tr>\n",
       "      <th>21</th>\n",
       "      <td>results_modelito_exp_22.csv</td>\n",
       "      <td>103.667</td>\n",
       "      <td>seed = semillero 100, corte = 10714</td>\n",
       "      <td>semillero</td>\n",
       "      <td>10714</td>\n",
       "    </tr>\n",
       "    <tr>\n",
       "      <th>22</th>\n",
       "      <td>results_modelito_exp_23.csv</td>\n",
       "      <td>103.900</td>\n",
       "      <td>seed = semillero 100, corte = 10795</td>\n",
       "      <td>semillero</td>\n",
       "      <td>10795</td>\n",
       "    </tr>\n",
       "    <tr>\n",
       "      <th>23</th>\n",
       "      <td>results_modelito_exp_24.csv</td>\n",
       "      <td>104.180</td>\n",
       "      <td>seed = semillero 100, corte = 10877</td>\n",
       "      <td>semillero</td>\n",
       "      <td>10877</td>\n",
       "    </tr>\n",
       "    <tr>\n",
       "      <th>24</th>\n",
       "      <td>results_modelito_exp_25.csv</td>\n",
       "      <td>103.620</td>\n",
       "      <td>seed = semillero 100, corte = 10959</td>\n",
       "      <td>semillero</td>\n",
       "      <td>10959</td>\n",
       "    </tr>\n",
       "    <tr>\n",
       "      <th>25</th>\n",
       "      <td>results_modelito_exp_26.csv</td>\n",
       "      <td>103.994</td>\n",
       "      <td>seed = semillero 100, corte = 11040</td>\n",
       "      <td>semillero</td>\n",
       "      <td>11040</td>\n",
       "    </tr>\n",
       "    <tr>\n",
       "      <th>26</th>\n",
       "      <td>results_modelito_exp_27.csv</td>\n",
       "      <td>103.247</td>\n",
       "      <td>seed = semillero 100, corte = 11122</td>\n",
       "      <td>semillero</td>\n",
       "      <td>11122</td>\n",
       "    </tr>\n",
       "    <tr>\n",
       "      <th>27</th>\n",
       "      <td>results_modelito_exp_28.csv</td>\n",
       "      <td>102.617</td>\n",
       "      <td>seed = semillero 100, corte = 11204</td>\n",
       "      <td>semillero</td>\n",
       "      <td>11204</td>\n",
       "    </tr>\n",
       "    <tr>\n",
       "      <th>28</th>\n",
       "      <td>results_modelito_exp_29.csv</td>\n",
       "      <td>102.127</td>\n",
       "      <td>seed = semillero 100, corte = 11285</td>\n",
       "      <td>semillero</td>\n",
       "      <td>11285</td>\n",
       "    </tr>\n",
       "    <tr>\n",
       "      <th>29</th>\n",
       "      <td>results_modelito_exp_30.csv</td>\n",
       "      <td>101.567</td>\n",
       "      <td>seed = semillero 100, corte = 11367</td>\n",
       "      <td>semillero</td>\n",
       "      <td>11367</td>\n",
       "    </tr>\n",
       "    <tr>\n",
       "      <th>30</th>\n",
       "      <td>results_modelito_exp_31.csv</td>\n",
       "      <td>102.080</td>\n",
       "      <td>seed = semillero 100, corte = 11448</td>\n",
       "      <td>semillero</td>\n",
       "      <td>11448</td>\n",
       "    </tr>\n",
       "    <tr>\n",
       "      <th>31</th>\n",
       "      <td>results_modelito_exp_32.csv</td>\n",
       "      <td>101.520</td>\n",
       "      <td>seed = semillero 100, corte = 11530</td>\n",
       "      <td>semillero</td>\n",
       "      <td>11530</td>\n",
       "    </tr>\n",
       "    <tr>\n",
       "      <th>32</th>\n",
       "      <td>results_modelito_exp_33.csv</td>\n",
       "      <td>101.847</td>\n",
       "      <td>seed = semillero 100, corte = 11612</td>\n",
       "      <td>semillero</td>\n",
       "      <td>11612</td>\n",
       "    </tr>\n",
       "    <tr>\n",
       "      <th>33</th>\n",
       "      <td>results_modelito_exp_34.csv</td>\n",
       "      <td>101.264</td>\n",
       "      <td>seed = semillero 100, corte = 11693</td>\n",
       "      <td>semillero</td>\n",
       "      <td>11693</td>\n",
       "    </tr>\n",
       "    <tr>\n",
       "      <th>34</th>\n",
       "      <td>results_modelito_exp_35.csv</td>\n",
       "      <td>100.797</td>\n",
       "      <td>seed = semillero 100, corte = 11775</td>\n",
       "      <td>semillero</td>\n",
       "      <td>11775</td>\n",
       "    </tr>\n",
       "    <tr>\n",
       "      <th>35</th>\n",
       "      <td>results_modelito_exp_36.csv</td>\n",
       "      <td>101.077</td>\n",
       "      <td>seed = semillero 100, corte = 11857</td>\n",
       "      <td>semillero</td>\n",
       "      <td>11857</td>\n",
       "    </tr>\n",
       "    <tr>\n",
       "      <th>36</th>\n",
       "      <td>results_modelito_exp_37.csv</td>\n",
       "      <td>100.540</td>\n",
       "      <td>seed = semillero 100, corte = 11938</td>\n",
       "      <td>semillero</td>\n",
       "      <td>11938</td>\n",
       "    </tr>\n",
       "    <tr>\n",
       "      <th>37</th>\n",
       "      <td>results_modelito_exp_38.csv</td>\n",
       "      <td>99.817</td>\n",
       "      <td>seed = semillero 100, corte = 12020</td>\n",
       "      <td>semillero</td>\n",
       "      <td>12020</td>\n",
       "    </tr>\n",
       "    <tr>\n",
       "      <th>38</th>\n",
       "      <td>results_modelito_exp_39.csv</td>\n",
       "      <td>99.257</td>\n",
       "      <td>seed = semillero 100, corte = 12102</td>\n",
       "      <td>semillero</td>\n",
       "      <td>12102</td>\n",
       "    </tr>\n",
       "    <tr>\n",
       "      <th>39</th>\n",
       "      <td>results_modelito_exp_40.csv</td>\n",
       "      <td>99.537</td>\n",
       "      <td>seed = semillero 100, corte = 12183</td>\n",
       "      <td>semillero</td>\n",
       "      <td>12183</td>\n",
       "    </tr>\n",
       "    <tr>\n",
       "      <th>40</th>\n",
       "      <td>results_modelito_exp_41.csv</td>\n",
       "      <td>99.630</td>\n",
       "      <td>seed = semillero 100, corte = 12265</td>\n",
       "      <td>semillero</td>\n",
       "      <td>12265</td>\n",
       "    </tr>\n",
       "    <tr>\n",
       "      <th>41</th>\n",
       "      <td>results_modelito_exp_42.csv</td>\n",
       "      <td>99.024</td>\n",
       "      <td>seed = semillero 100, corte = 12346</td>\n",
       "      <td>semillero</td>\n",
       "      <td>12346</td>\n",
       "    </tr>\n",
       "    <tr>\n",
       "      <th>42</th>\n",
       "      <td>results_modelito_exp_43.csv</td>\n",
       "      <td>98.580</td>\n",
       "      <td>seed = semillero 100, corte = 12428</td>\n",
       "      <td>semillero</td>\n",
       "      <td>12428</td>\n",
       "    </tr>\n",
       "    <tr>\n",
       "      <th>43</th>\n",
       "      <td>results_modelito_exp_44.csv</td>\n",
       "      <td>99.000</td>\n",
       "      <td>seed = semillero 100, corte = 12510</td>\n",
       "      <td>semillero</td>\n",
       "      <td>12510</td>\n",
       "    </tr>\n",
       "    <tr>\n",
       "      <th>44</th>\n",
       "      <td>results_modelito_exp_45.csv</td>\n",
       "      <td>98.487</td>\n",
       "      <td>seed = semillero 100, corte = 12591</td>\n",
       "      <td>semillero</td>\n",
       "      <td>12591</td>\n",
       "    </tr>\n",
       "    <tr>\n",
       "      <th>45</th>\n",
       "      <td>results_modelito_exp_46.csv</td>\n",
       "      <td>98.860</td>\n",
       "      <td>seed = semillero 100, corte = 12673</td>\n",
       "      <td>semillero</td>\n",
       "      <td>12673</td>\n",
       "    </tr>\n",
       "    <tr>\n",
       "      <th>46</th>\n",
       "      <td>results_modelito_exp_47.csv</td>\n",
       "      <td>98.277</td>\n",
       "      <td>seed = semillero 100, corte = 12755</td>\n",
       "      <td>semillero</td>\n",
       "      <td>12755</td>\n",
       "    </tr>\n",
       "    <tr>\n",
       "      <th>47</th>\n",
       "      <td>results_modelito_exp_48.csv</td>\n",
       "      <td>97.600</td>\n",
       "      <td>seed = semillero 100, corte = 12836</td>\n",
       "      <td>semillero</td>\n",
       "      <td>12836</td>\n",
       "    </tr>\n",
       "    <tr>\n",
       "      <th>48</th>\n",
       "      <td>results_modelito_exp_49.csv</td>\n",
       "      <td>97.134</td>\n",
       "      <td>seed = semillero 100, corte = 12918</td>\n",
       "      <td>semillero</td>\n",
       "      <td>12918</td>\n",
       "    </tr>\n",
       "    <tr>\n",
       "      <th>49</th>\n",
       "      <td>results_modelito_exp_50.csv</td>\n",
       "      <td>97.554</td>\n",
       "      <td>seed = semillero 100, corte = 13000</td>\n",
       "      <td>semillero</td>\n",
       "      <td>13000</td>\n",
       "    </tr>\n",
       "  </tbody>\n",
       "</table>\n",
       "</div>"
      ],
      "text/plain": [
       "                        Archivo Public score  \\\n",
       "0    results_modelito_exp_1.csv      100.867   \n",
       "1    results_modelito_exp_2.csv      101.287   \n",
       "2    results_modelito_exp_3.csv      100.797   \n",
       "3    results_modelito_exp_4.csv      102.057   \n",
       "4    results_modelito_exp_5.csv      101.614   \n",
       "5    results_modelito_exp_6.csv      101.030   \n",
       "6    results_modelito_exp_7.csv      102.430   \n",
       "7    results_modelito_exp_8.csv      101.940   \n",
       "8    results_modelito_exp_9.csv      103.387   \n",
       "9   results_modelito_exp_10.csv      103.714   \n",
       "10  results_modelito_exp_11.csv      104.087   \n",
       "11  results_modelito_exp_12.csv      104.390   \n",
       "12  results_modelito_exp_13.csv      103.877   \n",
       "13  results_modelito_exp_14.csv      104.157   \n",
       "14  results_modelito_exp_15.csv      103.667   \n",
       "15  results_modelito_exp_16.csv      102.990   \n",
       "16  results_modelito_exp_17.csv      102.454   \n",
       "17  results_modelito_exp_18.csv      102.944   \n",
       "18  results_modelito_exp_19.csv      102.407   \n",
       "19  results_modelito_exp_20.csv      102.734   \n",
       "20  results_modelito_exp_21.csv      104.134   \n",
       "21  results_modelito_exp_22.csv      103.667   \n",
       "22  results_modelito_exp_23.csv      103.900   \n",
       "23  results_modelito_exp_24.csv      104.180   \n",
       "24  results_modelito_exp_25.csv      103.620   \n",
       "25  results_modelito_exp_26.csv      103.994   \n",
       "26  results_modelito_exp_27.csv      103.247   \n",
       "27  results_modelito_exp_28.csv      102.617   \n",
       "28  results_modelito_exp_29.csv      102.127   \n",
       "29  results_modelito_exp_30.csv      101.567   \n",
       "30  results_modelito_exp_31.csv      102.080   \n",
       "31  results_modelito_exp_32.csv      101.520   \n",
       "32  results_modelito_exp_33.csv      101.847   \n",
       "33  results_modelito_exp_34.csv      101.264   \n",
       "34  results_modelito_exp_35.csv      100.797   \n",
       "35  results_modelito_exp_36.csv      101.077   \n",
       "36  results_modelito_exp_37.csv      100.540   \n",
       "37  results_modelito_exp_38.csv       99.817   \n",
       "38  results_modelito_exp_39.csv       99.257   \n",
       "39  results_modelito_exp_40.csv       99.537   \n",
       "40  results_modelito_exp_41.csv       99.630   \n",
       "41  results_modelito_exp_42.csv       99.024   \n",
       "42  results_modelito_exp_43.csv       98.580   \n",
       "43  results_modelito_exp_44.csv       99.000   \n",
       "44  results_modelito_exp_45.csv       98.487   \n",
       "45  results_modelito_exp_46.csv       98.860   \n",
       "46  results_modelito_exp_47.csv       98.277   \n",
       "47  results_modelito_exp_48.csv       97.600   \n",
       "48  results_modelito_exp_49.csv       97.134   \n",
       "49  results_modelito_exp_50.csv       97.554   \n",
       "\n",
       "                            Description       seed  corte  \n",
       "0    seed = semillero 100, corte = 9000  semillero   9000  \n",
       "1    seed = semillero 100, corte = 9081  semillero   9081  \n",
       "2    seed = semillero 100, corte = 9163  semillero   9163  \n",
       "3    seed = semillero 100, corte = 9244  semillero   9244  \n",
       "4    seed = semillero 100, corte = 9326  semillero   9326  \n",
       "5    seed = semillero 100, corte = 9408  semillero   9408  \n",
       "6    seed = semillero 100, corte = 9489  semillero   9489  \n",
       "7    seed = semillero 100, corte = 9571  semillero   9571  \n",
       "8    seed = semillero 100, corte = 9653  semillero   9653  \n",
       "9    seed = semillero 100, corte = 9734  semillero   9734  \n",
       "10   seed = semillero 100, corte = 9816  semillero   9816  \n",
       "11   seed = semillero 100, corte = 9897  semillero   9897  \n",
       "12   seed = semillero 100, corte = 9979  semillero   9979  \n",
       "13  seed = semillero 100, corte = 10061  semillero  10061  \n",
       "14  seed = semillero 100, corte = 10142  semillero  10142  \n",
       "15  seed = semillero 100, corte = 10224  semillero  10224  \n",
       "16  seed = semillero 100, corte = 10306  semillero  10306  \n",
       "17  seed = semillero 100, corte = 10387  semillero  10387  \n",
       "18  seed = semillero 100, corte = 10469  semillero  10469  \n",
       "19  seed = semillero 100, corte = 10551  semillero  10551  \n",
       "20  seed = semillero 100, corte = 10632  semillero  10632  \n",
       "21  seed = semillero 100, corte = 10714  semillero  10714  \n",
       "22  seed = semillero 100, corte = 10795  semillero  10795  \n",
       "23  seed = semillero 100, corte = 10877  semillero  10877  \n",
       "24  seed = semillero 100, corte = 10959  semillero  10959  \n",
       "25  seed = semillero 100, corte = 11040  semillero  11040  \n",
       "26  seed = semillero 100, corte = 11122  semillero  11122  \n",
       "27  seed = semillero 100, corte = 11204  semillero  11204  \n",
       "28  seed = semillero 100, corte = 11285  semillero  11285  \n",
       "29  seed = semillero 100, corte = 11367  semillero  11367  \n",
       "30  seed = semillero 100, corte = 11448  semillero  11448  \n",
       "31  seed = semillero 100, corte = 11530  semillero  11530  \n",
       "32  seed = semillero 100, corte = 11612  semillero  11612  \n",
       "33  seed = semillero 100, corte = 11693  semillero  11693  \n",
       "34  seed = semillero 100, corte = 11775  semillero  11775  \n",
       "35  seed = semillero 100, corte = 11857  semillero  11857  \n",
       "36  seed = semillero 100, corte = 11938  semillero  11938  \n",
       "37  seed = semillero 100, corte = 12020  semillero  12020  \n",
       "38  seed = semillero 100, corte = 12102  semillero  12102  \n",
       "39  seed = semillero 100, corte = 12183  semillero  12183  \n",
       "40  seed = semillero 100, corte = 12265  semillero  12265  \n",
       "41  seed = semillero 100, corte = 12346  semillero  12346  \n",
       "42  seed = semillero 100, corte = 12428  semillero  12428  \n",
       "43  seed = semillero 100, corte = 12510  semillero  12510  \n",
       "44  seed = semillero 100, corte = 12591  semillero  12591  \n",
       "45  seed = semillero 100, corte = 12673  semillero  12673  \n",
       "46  seed = semillero 100, corte = 12755  semillero  12755  \n",
       "47  seed = semillero 100, corte = 12836  semillero  12836  \n",
       "48  seed = semillero 100, corte = 12918  semillero  12918  \n",
       "49  seed = semillero 100, corte = 13000  semillero  13000  "
      ]
     },
     "execution_count": 10,
     "metadata": {},
     "output_type": "execute_result"
    }
   ],
   "source": [
    "resultados"
   ]
  },
  {
   "cell_type": "code",
   "execution_count": 11,
   "metadata": {},
   "outputs": [],
   "source": [
    "resultados.to_csv(f'{files_path}scores_{version}.csv', index=False)"
   ]
  }
 ],
 "metadata": {
  "kernelspec": {
   "display_name": "Python 3",
   "language": "python",
   "name": "python3"
  },
  "language_info": {
   "codemirror_mode": {
    "name": "ipython",
    "version": 3
   },
   "file_extension": ".py",
   "mimetype": "text/x-python",
   "name": "python",
   "nbconvert_exporter": "python",
   "pygments_lexer": "ipython3",
   "version": "3.12.3"
  }
 },
 "nbformat": 4,
 "nbformat_minor": 2
}
