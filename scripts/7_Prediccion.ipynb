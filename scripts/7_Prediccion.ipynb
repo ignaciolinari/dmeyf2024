{
 "cells": [
  {
   "cell_type": "code",
   "execution_count": 1,
   "metadata": {},
   "outputs": [],
   "source": [
    "import pandas as pd\n",
    "import polars as pl\n",
    "import numpy as np\n",
    "import lightgbm as lgb\n",
    "import optuna"
   ]
  },
  {
   "cell_type": "code",
   "execution_count": 2,
   "metadata": {},
   "outputs": [],
   "source": [
    "# base_path = '/home/clas_giulia_s/buckets/b1/'\n",
    "base_path = '/Users/ignacio/MAESTRIA/DMEF/'\n",
    "\n",
    "dataset_path = base_path + 'datasets/'\n",
    "modelos_path = base_path + 'modelos/'\n",
    "db_path = base_path + 'db/'\n",
    "# dataset_file = 'competencia_02.parquet'\n",
    "dataset_file = 'competencia_01_fe_modelito.csv'\n",
    "\n",
    "ganancia_acierto = 273000\n",
    "costo_estimulo = 7000"
   ]
  },
  {
   "cell_type": "code",
   "execution_count": 3,
   "metadata": {},
   "outputs": [],
   "source": [
    "semillas = [5623, 292, 7494, 8504, 1663, 785, 5377, 4838, 2141, 2235, 9836, 1258, 3273, 8349, 1639, 1597, 3195, 40, 5186, 9278, 6281, 7515, 2046, 5642, 505, 4611, 3008, 2063, 2280, 1148, 618, 4806, 1503, 3926, 6363, 400, 2662, 9432, 1632, 386, 2545, 228, 1561, 3523, 4508, 9190, 8181, 7302, 6250, 7762, 8141, 6854, 622, 5327, 6379, 3867, 5420, 3030, 7275, 2040, 6042, 4365, 231, 8330, 8527, 2420, 2558, 9618, 3937, 555, 122, 4907, 7838, 5246, 100, 3243, 1449, 1052, 1906, 7657, 753, 4320, 4576, 9621, 8868, 8155, 7410, 2320, 6355, 1994, 7775, 8358, 3508, 3064, 3904, 3602, 5308, 6947, 1544, 624]"
   ]
  },
  {
   "cell_type": "code",
   "execution_count": 4,
   "metadata": {},
   "outputs": [],
   "source": [
    "# data = pl.scan_parquet(dataset_path + dataset_file).filter(pl.col(\"foto_mes\") == 202108).collect()\n",
    "\n",
    "# data = pl.scan_csv(dataset_path + dataset_file).filter(pl.col(\"foto_mes\") == 202106).collect()\n",
    "\n",
    "data = pd.read_csv(dataset_path + dataset_file)\n",
    "data = data[data[\"foto_mes\"] == 202106] "
   ]
  },
  {
   "cell_type": "code",
   "execution_count": 5,
   "metadata": {},
   "outputs": [],
   "source": [
    "# # convierto a pandas dataframe\n",
    "# data = data.to_pandas()"
   ]
  },
  {
   "cell_type": "code",
   "execution_count": 6,
   "metadata": {},
   "outputs": [],
   "source": [
    "# Asignamos pesos a las clases\n",
    "\n",
    "data['clase_peso'] = 1.0\n",
    "\n",
    "data.loc[data['clase_ternaria'] == 'BAJA+2', 'clase_peso'] = 1.00002\n",
    "data.loc[data['clase_ternaria'] == 'BAJA+1', 'clase_peso'] = 1.00001"
   ]
  },
  {
   "cell_type": "code",
   "execution_count": 7,
   "metadata": {},
   "outputs": [],
   "source": [
    "data['clase_binaria'] = 0\n",
    "data['clase_binaria'] = np.where(data['clase_ternaria'] == 'BAJA+2', 1, 0)"
   ]
  },
  {
   "cell_type": "code",
   "execution_count": 8,
   "metadata": {},
   "outputs": [],
   "source": [
    "X_test = data.drop(['clase_ternaria', 'clase_peso', 'clase_binaria'], axis=1)"
   ]
  },
  {
   "cell_type": "markdown",
   "metadata": {},
   "source": [
    "### Predicciones para Kaggle"
   ]
  },
  {
   "cell_type": "markdown",
   "metadata": {},
   "source": [
    "Se generan la prediccion para cada modelo individual, se promedian las predicciones y luego se ordenan de mayor a menor para determinar el numero de envios"
   ]
  },
  {
   "cell_type": "code",
   "execution_count": 9,
   "metadata": {},
   "outputs": [],
   "source": [
    "version = 'modelito' # UPADTE\n",
    "\n",
    "modelos = [f'lgb_competencia1_{version}_s{semilla}_final.txt' for semilla in semillas]"
   ]
  },
  {
   "cell_type": "code",
   "execution_count": 10,
   "metadata": {},
   "outputs": [
    {
     "data": {
      "text/plain": [
       "100"
      ]
     },
     "execution_count": 10,
     "metadata": {},
     "output_type": "execute_result"
    }
   ],
   "source": [
    "len(modelos)"
   ]
  },
  {
   "cell_type": "code",
   "execution_count": 11,
   "metadata": {},
   "outputs": [],
   "source": [
    "X_test_with_predictions = data.drop(['clase_ternaria', 'clase_peso', 'clase_binaria'], axis=1).copy()"
   ]
  },
  {
   "cell_type": "code",
   "execution_count": 12,
   "metadata": {},
   "outputs": [
    {
     "name": "stdout",
     "output_type": "stream",
     "text": [
      "0. Predicciones del modelo: lgb_competencia1_modelito_s5623_final.txt DONE\n",
      "1. Predicciones del modelo: lgb_competencia1_modelito_s292_final.txt DONE\n",
      "2. Predicciones del modelo: lgb_competencia1_modelito_s7494_final.txt DONE\n",
      "3. Predicciones del modelo: lgb_competencia1_modelito_s8504_final.txt DONE\n",
      "4. Predicciones del modelo: lgb_competencia1_modelito_s1663_final.txt DONE\n",
      "5. Predicciones del modelo: lgb_competencia1_modelito_s785_final.txt DONE\n",
      "6. Predicciones del modelo: lgb_competencia1_modelito_s5377_final.txt DONE\n",
      "7. Predicciones del modelo: lgb_competencia1_modelito_s4838_final.txt DONE\n",
      "8. Predicciones del modelo: lgb_competencia1_modelito_s2141_final.txt DONE\n",
      "9. Predicciones del modelo: lgb_competencia1_modelito_s2235_final.txt DONE\n",
      "10. Predicciones del modelo: lgb_competencia1_modelito_s9836_final.txt DONE\n",
      "11. Predicciones del modelo: lgb_competencia1_modelito_s1258_final.txt DONE\n",
      "12. Predicciones del modelo: lgb_competencia1_modelito_s3273_final.txt DONE\n",
      "13. Predicciones del modelo: lgb_competencia1_modelito_s8349_final.txt DONE\n",
      "14. Predicciones del modelo: lgb_competencia1_modelito_s1639_final.txt DONE\n",
      "15. Predicciones del modelo: lgb_competencia1_modelito_s1597_final.txt DONE\n",
      "16. Predicciones del modelo: lgb_competencia1_modelito_s3195_final.txt DONE\n",
      "17. Predicciones del modelo: lgb_competencia1_modelito_s40_final.txt DONE\n",
      "18. Predicciones del modelo: lgb_competencia1_modelito_s5186_final.txt DONE\n",
      "19. Predicciones del modelo: lgb_competencia1_modelito_s9278_final.txt DONE\n",
      "20. Predicciones del modelo: lgb_competencia1_modelito_s6281_final.txt DONE\n",
      "21. Predicciones del modelo: lgb_competencia1_modelito_s7515_final.txt DONE\n",
      "22. Predicciones del modelo: lgb_competencia1_modelito_s2046_final.txt DONE\n",
      "23. Predicciones del modelo: lgb_competencia1_modelito_s5642_final.txt DONE\n",
      "24. Predicciones del modelo: lgb_competencia1_modelito_s505_final.txt DONE\n",
      "25. Predicciones del modelo: lgb_competencia1_modelito_s4611_final.txt DONE\n",
      "26. Predicciones del modelo: lgb_competencia1_modelito_s3008_final.txt DONE\n",
      "27. Predicciones del modelo: lgb_competencia1_modelito_s2063_final.txt DONE\n",
      "28. Predicciones del modelo: lgb_competencia1_modelito_s2280_final.txt DONE\n",
      "29. Predicciones del modelo: lgb_competencia1_modelito_s1148_final.txt DONE\n",
      "30. Predicciones del modelo: lgb_competencia1_modelito_s618_final.txt DONE\n",
      "31. Predicciones del modelo: lgb_competencia1_modelito_s4806_final.txt DONE\n",
      "32. Predicciones del modelo: lgb_competencia1_modelito_s1503_final.txt DONE\n",
      "33. Predicciones del modelo: lgb_competencia1_modelito_s3926_final.txt DONE\n",
      "34. Predicciones del modelo: lgb_competencia1_modelito_s6363_final.txt DONE\n",
      "35. Predicciones del modelo: lgb_competencia1_modelito_s400_final.txt DONE\n",
      "36. Predicciones del modelo: lgb_competencia1_modelito_s2662_final.txt DONE\n",
      "37. Predicciones del modelo: lgb_competencia1_modelito_s9432_final.txt DONE\n",
      "38. Predicciones del modelo: lgb_competencia1_modelito_s1632_final.txt DONE\n",
      "39. Predicciones del modelo: lgb_competencia1_modelito_s386_final.txt DONE\n",
      "40. Predicciones del modelo: lgb_competencia1_modelito_s2545_final.txt DONE\n",
      "41. Predicciones del modelo: lgb_competencia1_modelito_s228_final.txt DONE\n",
      "42. Predicciones del modelo: lgb_competencia1_modelito_s1561_final.txt DONE\n",
      "43. Predicciones del modelo: lgb_competencia1_modelito_s3523_final.txt DONE\n",
      "44. Predicciones del modelo: lgb_competencia1_modelito_s4508_final.txt DONE\n",
      "45. Predicciones del modelo: lgb_competencia1_modelito_s9190_final.txt DONE\n",
      "46. Predicciones del modelo: lgb_competencia1_modelito_s8181_final.txt DONE\n",
      "47. Predicciones del modelo: lgb_competencia1_modelito_s7302_final.txt DONE\n",
      "48. Predicciones del modelo: lgb_competencia1_modelito_s6250_final.txt DONE\n",
      "49. Predicciones del modelo: lgb_competencia1_modelito_s7762_final.txt DONE\n",
      "50. Predicciones del modelo: lgb_competencia1_modelito_s8141_final.txt DONE\n",
      "51. Predicciones del modelo: lgb_competencia1_modelito_s6854_final.txt DONE\n",
      "52. Predicciones del modelo: lgb_competencia1_modelito_s622_final.txt DONE\n",
      "53. Predicciones del modelo: lgb_competencia1_modelito_s5327_final.txt DONE\n",
      "54. Predicciones del modelo: lgb_competencia1_modelito_s6379_final.txt DONE\n",
      "55. Predicciones del modelo: lgb_competencia1_modelito_s3867_final.txt DONE\n",
      "56. Predicciones del modelo: lgb_competencia1_modelito_s5420_final.txt DONE\n",
      "57. Predicciones del modelo: lgb_competencia1_modelito_s3030_final.txt DONE\n",
      "58. Predicciones del modelo: lgb_competencia1_modelito_s7275_final.txt DONE\n",
      "59. Predicciones del modelo: lgb_competencia1_modelito_s2040_final.txt DONE\n",
      "60. Predicciones del modelo: lgb_competencia1_modelito_s6042_final.txt DONE\n",
      "61. Predicciones del modelo: lgb_competencia1_modelito_s4365_final.txt DONE\n",
      "62. Predicciones del modelo: lgb_competencia1_modelito_s231_final.txt DONE\n",
      "63. Predicciones del modelo: lgb_competencia1_modelito_s8330_final.txt DONE\n",
      "64. Predicciones del modelo: lgb_competencia1_modelito_s8527_final.txt DONE\n",
      "65. Predicciones del modelo: lgb_competencia1_modelito_s2420_final.txt DONE\n",
      "66. Predicciones del modelo: lgb_competencia1_modelito_s2558_final.txt DONE\n",
      "67. Predicciones del modelo: lgb_competencia1_modelito_s9618_final.txt DONE\n",
      "68. Predicciones del modelo: lgb_competencia1_modelito_s3937_final.txt DONE\n",
      "69. Predicciones del modelo: lgb_competencia1_modelito_s555_final.txt DONE\n",
      "70. Predicciones del modelo: lgb_competencia1_modelito_s122_final.txt DONE\n",
      "71. Predicciones del modelo: lgb_competencia1_modelito_s4907_final.txt DONE\n",
      "72. Predicciones del modelo: lgb_competencia1_modelito_s7838_final.txt DONE\n",
      "73. Predicciones del modelo: lgb_competencia1_modelito_s5246_final.txt DONE\n",
      "74. Predicciones del modelo: lgb_competencia1_modelito_s100_final.txt DONE\n",
      "75. Predicciones del modelo: lgb_competencia1_modelito_s3243_final.txt DONE\n",
      "76. Predicciones del modelo: lgb_competencia1_modelito_s1449_final.txt DONE\n",
      "77. Predicciones del modelo: lgb_competencia1_modelito_s1052_final.txt DONE\n",
      "78. Predicciones del modelo: lgb_competencia1_modelito_s1906_final.txt DONE\n",
      "79. Predicciones del modelo: lgb_competencia1_modelito_s7657_final.txt DONE\n",
      "80. Predicciones del modelo: lgb_competencia1_modelito_s753_final.txt DONE\n",
      "81. Predicciones del modelo: lgb_competencia1_modelito_s4320_final.txt DONE\n",
      "82. Predicciones del modelo: lgb_competencia1_modelito_s4576_final.txt DONE\n",
      "83. Predicciones del modelo: lgb_competencia1_modelito_s9621_final.txt DONE\n",
      "84. Predicciones del modelo: lgb_competencia1_modelito_s8868_final.txt DONE\n",
      "85. Predicciones del modelo: lgb_competencia1_modelito_s8155_final.txt DONE\n",
      "86. Predicciones del modelo: lgb_competencia1_modelito_s7410_final.txt DONE\n",
      "87. Predicciones del modelo: lgb_competencia1_modelito_s2320_final.txt DONE\n",
      "88. Predicciones del modelo: lgb_competencia1_modelito_s6355_final.txt DONE\n",
      "89. Predicciones del modelo: lgb_competencia1_modelito_s1994_final.txt DONE\n",
      "90. Predicciones del modelo: lgb_competencia1_modelito_s7775_final.txt DONE\n",
      "91. Predicciones del modelo: lgb_competencia1_modelito_s8358_final.txt DONE\n",
      "92. Predicciones del modelo: lgb_competencia1_modelito_s3508_final.txt DONE\n",
      "93. Predicciones del modelo: lgb_competencia1_modelito_s3064_final.txt DONE\n",
      "94. Predicciones del modelo: lgb_competencia1_modelito_s3904_final.txt DONE\n",
      "95. Predicciones del modelo: lgb_competencia1_modelito_s3602_final.txt DONE\n",
      "96. Predicciones del modelo: lgb_competencia1_modelito_s5308_final.txt DONE\n",
      "97. Predicciones del modelo: lgb_competencia1_modelito_s6947_final.txt DONE\n"
     ]
    },
    {
     "name": "stderr",
     "output_type": "stream",
     "text": [
      "/var/folders/6c/1g3b2t8s1l5ch_c9nch8gppw0000gn/T/ipykernel_11696/3353481977.py:11: PerformanceWarning: DataFrame is highly fragmented.  This is usually the result of calling `frame.insert` many times, which has poor performance.  Consider joining all columns at once using pd.concat(axis=1) instead. To get a de-fragmented frame, use `newframe = frame.copy()`\n",
      "  X_test_with_predictions[f'pred_lgm_{semillas[counter]}'] = y_pred_lgm\n"
     ]
    },
    {
     "name": "stdout",
     "output_type": "stream",
     "text": [
      "98. Predicciones del modelo: lgb_competencia1_modelito_s1544_final.txt DONE\n",
      "99. Predicciones del modelo: lgb_competencia1_modelito_s624_final.txt DONE\n"
     ]
    },
    {
     "name": "stderr",
     "output_type": "stream",
     "text": [
      "/var/folders/6c/1g3b2t8s1l5ch_c9nch8gppw0000gn/T/ipykernel_11696/3353481977.py:11: PerformanceWarning: DataFrame is highly fragmented.  This is usually the result of calling `frame.insert` many times, which has poor performance.  Consider joining all columns at once using pd.concat(axis=1) instead. To get a de-fragmented frame, use `newframe = frame.copy()`\n",
      "  X_test_with_predictions[f'pred_lgm_{semillas[counter]}'] = y_pred_lgm\n"
     ]
    }
   ],
   "source": [
    "counter = 0\n",
    "\n",
    "for modelo in modelos:\n",
    "    \n",
    "    # cargamos el modelo\n",
    "    model = lgb.Booster(model_file=f'{modelos_path}{version}/{modelo}')\n",
    "    \n",
    "    # predecimos para agosto\n",
    "    X_test = data.drop(['clase_ternaria', 'clase_peso', 'clase_binaria'], axis=1).copy()\n",
    "    y_pred_lgm = model.predict(X_test)\n",
    "    X_test_with_predictions[f'pred_lgm_{semillas[counter]}'] = y_pred_lgm\n",
    "    \n",
    "    print(f'{counter}. Predicciones del modelo: {modelo} DONE')\n",
    "    \n",
    "    counter += 1"
   ]
  },
  {
   "cell_type": "code",
   "execution_count": 13,
   "metadata": {},
   "outputs": [],
   "source": [
    "X_test_with_predictions = X_test_with_predictions.copy()"
   ]
  },
  {
   "cell_type": "code",
   "execution_count": 14,
   "metadata": {},
   "outputs": [
    {
     "data": {
      "text/plain": [
       "['pred_lgm_5623',\n",
       " 'pred_lgm_292',\n",
       " 'pred_lgm_7494',\n",
       " 'pred_lgm_8504',\n",
       " 'pred_lgm_1663',\n",
       " 'pred_lgm_785',\n",
       " 'pred_lgm_5377',\n",
       " 'pred_lgm_4838',\n",
       " 'pred_lgm_2141',\n",
       " 'pred_lgm_2235',\n",
       " 'pred_lgm_9836',\n",
       " 'pred_lgm_1258',\n",
       " 'pred_lgm_3273',\n",
       " 'pred_lgm_8349',\n",
       " 'pred_lgm_1639',\n",
       " 'pred_lgm_1597',\n",
       " 'pred_lgm_3195',\n",
       " 'pred_lgm_40',\n",
       " 'pred_lgm_5186',\n",
       " 'pred_lgm_9278',\n",
       " 'pred_lgm_6281',\n",
       " 'pred_lgm_7515',\n",
       " 'pred_lgm_2046',\n",
       " 'pred_lgm_5642',\n",
       " 'pred_lgm_505',\n",
       " 'pred_lgm_4611',\n",
       " 'pred_lgm_3008',\n",
       " 'pred_lgm_2063',\n",
       " 'pred_lgm_2280',\n",
       " 'pred_lgm_1148',\n",
       " 'pred_lgm_618',\n",
       " 'pred_lgm_4806',\n",
       " 'pred_lgm_1503',\n",
       " 'pred_lgm_3926',\n",
       " 'pred_lgm_6363',\n",
       " 'pred_lgm_400',\n",
       " 'pred_lgm_2662',\n",
       " 'pred_lgm_9432',\n",
       " 'pred_lgm_1632',\n",
       " 'pred_lgm_386',\n",
       " 'pred_lgm_2545',\n",
       " 'pred_lgm_228',\n",
       " 'pred_lgm_1561',\n",
       " 'pred_lgm_3523',\n",
       " 'pred_lgm_4508',\n",
       " 'pred_lgm_9190',\n",
       " 'pred_lgm_8181',\n",
       " 'pred_lgm_7302',\n",
       " 'pred_lgm_6250',\n",
       " 'pred_lgm_7762',\n",
       " 'pred_lgm_8141',\n",
       " 'pred_lgm_6854',\n",
       " 'pred_lgm_622',\n",
       " 'pred_lgm_5327',\n",
       " 'pred_lgm_6379',\n",
       " 'pred_lgm_3867',\n",
       " 'pred_lgm_5420',\n",
       " 'pred_lgm_3030',\n",
       " 'pred_lgm_7275',\n",
       " 'pred_lgm_2040',\n",
       " 'pred_lgm_6042',\n",
       " 'pred_lgm_4365',\n",
       " 'pred_lgm_231',\n",
       " 'pred_lgm_8330',\n",
       " 'pred_lgm_8527',\n",
       " 'pred_lgm_2420',\n",
       " 'pred_lgm_2558',\n",
       " 'pred_lgm_9618',\n",
       " 'pred_lgm_3937',\n",
       " 'pred_lgm_555',\n",
       " 'pred_lgm_122',\n",
       " 'pred_lgm_4907',\n",
       " 'pred_lgm_7838',\n",
       " 'pred_lgm_5246',\n",
       " 'pred_lgm_100',\n",
       " 'pred_lgm_3243',\n",
       " 'pred_lgm_1449',\n",
       " 'pred_lgm_1052',\n",
       " 'pred_lgm_1906',\n",
       " 'pred_lgm_7657',\n",
       " 'pred_lgm_753',\n",
       " 'pred_lgm_4320',\n",
       " 'pred_lgm_4576',\n",
       " 'pred_lgm_9621',\n",
       " 'pred_lgm_8868',\n",
       " 'pred_lgm_8155',\n",
       " 'pred_lgm_7410',\n",
       " 'pred_lgm_2320',\n",
       " 'pred_lgm_6355',\n",
       " 'pred_lgm_1994',\n",
       " 'pred_lgm_7775',\n",
       " 'pred_lgm_8358',\n",
       " 'pred_lgm_3508',\n",
       " 'pred_lgm_3064',\n",
       " 'pred_lgm_3904',\n",
       " 'pred_lgm_3602',\n",
       " 'pred_lgm_5308',\n",
       " 'pred_lgm_6947',\n",
       " 'pred_lgm_1544',\n",
       " 'pred_lgm_624']"
      ]
     },
     "execution_count": 14,
     "metadata": {},
     "output_type": "execute_result"
    }
   ],
   "source": [
    "individual_predictions = X_test_with_predictions.iloc[:, -100:].columns.tolist()\n",
    "individual_predictions"
   ]
  },
  {
   "cell_type": "markdown",
   "metadata": {},
   "source": [
    "### Semillerio 100"
   ]
  },
  {
   "cell_type": "code",
   "execution_count": 15,
   "metadata": {},
   "outputs": [],
   "source": [
    "X_test_with_predictions['predicted_avg'] = X_test_with_predictions.iloc[:, -100:].mean(axis=1)"
   ]
  },
  {
   "cell_type": "code",
   "execution_count": 16,
   "metadata": {},
   "outputs": [],
   "source": [
    "# ordeno de mayor probabilidad de baja a menor\n",
    "idx = np.argsort(X_test_with_predictions['predicted_avg'])[::-1]\n",
    "X_test_with_predictions.reset_index(drop=True, inplace=True)\n",
    "X_test_with_predictions = X_test_with_predictions.iloc[idx]"
   ]
  },
  {
   "cell_type": "markdown",
   "metadata": {},
   "source": [
    "Se prueban varios puntos de corte"
   ]
  },
  {
   "cell_type": "code",
   "execution_count": 17,
   "metadata": {},
   "outputs": [
    {
     "data": {
      "text/plain": [
       "array([ 9000,  9081,  9163,  9244,  9326,  9408,  9489,  9571,  9653,\n",
       "        9734,  9816,  9897,  9979, 10061, 10142, 10224, 10306, 10387,\n",
       "       10469, 10551, 10632, 10714, 10795, 10877, 10959, 11040, 11122,\n",
       "       11204, 11285, 11367, 11448, 11530, 11612, 11693, 11775, 11857,\n",
       "       11938, 12020, 12102, 12183, 12265, 12346, 12428, 12510, 12591,\n",
       "       12673, 12755, 12836, 12918, 13000])"
      ]
     },
     "execution_count": 17,
     "metadata": {},
     "output_type": "execute_result"
    }
   ],
   "source": [
    "puntos_corte = np.linspace(9000, 13000, 50).astype(int)\n",
    "puntos_corte"
   ]
  },
  {
   "cell_type": "code",
   "execution_count": null,
   "metadata": {},
   "outputs": [
    {
     "name": "stdout",
     "output_type": "stream",
     "text": [
      "1. corte: 9000, /Users/ignacio/MAESTRIA/DMEF/exp/competencia_1/modelito/results_modelito_1.csv\n",
      "2. corte: 9081, /Users/ignacio/MAESTRIA/DMEF/exp/competencia_1/modelito/results_modelito_2.csv\n",
      "3. corte: 9163, /Users/ignacio/MAESTRIA/DMEF/exp/competencia_1/modelito/results_modelito_3.csv\n",
      "4. corte: 9244, /Users/ignacio/MAESTRIA/DMEF/exp/competencia_1/modelito/results_modelito_4.csv\n",
      "5. corte: 9326, /Users/ignacio/MAESTRIA/DMEF/exp/competencia_1/modelito/results_modelito_5.csv\n",
      "6. corte: 9408, /Users/ignacio/MAESTRIA/DMEF/exp/competencia_1/modelito/results_modelito_6.csv\n",
      "7. corte: 9489, /Users/ignacio/MAESTRIA/DMEF/exp/competencia_1/modelito/results_modelito_7.csv\n",
      "8. corte: 9571, /Users/ignacio/MAESTRIA/DMEF/exp/competencia_1/modelito/results_modelito_8.csv\n",
      "9. corte: 9653, /Users/ignacio/MAESTRIA/DMEF/exp/competencia_1/modelito/results_modelito_9.csv\n",
      "10. corte: 9734, /Users/ignacio/MAESTRIA/DMEF/exp/competencia_1/modelito/results_modelito_10.csv\n",
      "11. corte: 9816, /Users/ignacio/MAESTRIA/DMEF/exp/competencia_1/modelito/results_modelito_11.csv\n",
      "12. corte: 9897, /Users/ignacio/MAESTRIA/DMEF/exp/competencia_1/modelito/results_modelito_12.csv\n",
      "13. corte: 9979, /Users/ignacio/MAESTRIA/DMEF/exp/competencia_1/modelito/results_modelito_13.csv\n",
      "14. corte: 10061, /Users/ignacio/MAESTRIA/DMEF/exp/competencia_1/modelito/results_modelito_14.csv\n",
      "15. corte: 10142, /Users/ignacio/MAESTRIA/DMEF/exp/competencia_1/modelito/results_modelito_15.csv\n",
      "16. corte: 10224, /Users/ignacio/MAESTRIA/DMEF/exp/competencia_1/modelito/results_modelito_16.csv\n",
      "17. corte: 10306, /Users/ignacio/MAESTRIA/DMEF/exp/competencia_1/modelito/results_modelito_17.csv\n",
      "18. corte: 10387, /Users/ignacio/MAESTRIA/DMEF/exp/competencia_1/modelito/results_modelito_18.csv\n",
      "19. corte: 10469, /Users/ignacio/MAESTRIA/DMEF/exp/competencia_1/modelito/results_modelito_19.csv\n",
      "20. corte: 10551, /Users/ignacio/MAESTRIA/DMEF/exp/competencia_1/modelito/results_modelito_20.csv\n",
      "21. corte: 10632, /Users/ignacio/MAESTRIA/DMEF/exp/competencia_1/modelito/results_modelito_21.csv\n",
      "22. corte: 10714, /Users/ignacio/MAESTRIA/DMEF/exp/competencia_1/modelito/results_modelito_22.csv\n",
      "23. corte: 10795, /Users/ignacio/MAESTRIA/DMEF/exp/competencia_1/modelito/results_modelito_23.csv\n",
      "24. corte: 10877, /Users/ignacio/MAESTRIA/DMEF/exp/competencia_1/modelito/results_modelito_24.csv\n",
      "25. corte: 10959, /Users/ignacio/MAESTRIA/DMEF/exp/competencia_1/modelito/results_modelito_25.csv\n",
      "26. corte: 11040, /Users/ignacio/MAESTRIA/DMEF/exp/competencia_1/modelito/results_modelito_26.csv\n",
      "27. corte: 11122, /Users/ignacio/MAESTRIA/DMEF/exp/competencia_1/modelito/results_modelito_27.csv\n",
      "28. corte: 11204, /Users/ignacio/MAESTRIA/DMEF/exp/competencia_1/modelito/results_modelito_28.csv\n",
      "29. corte: 11285, /Users/ignacio/MAESTRIA/DMEF/exp/competencia_1/modelito/results_modelito_29.csv\n",
      "30. corte: 11367, /Users/ignacio/MAESTRIA/DMEF/exp/competencia_1/modelito/results_modelito_30.csv\n",
      "31. corte: 11448, /Users/ignacio/MAESTRIA/DMEF/exp/competencia_1/modelito/results_modelito_31.csv\n",
      "32. corte: 11530, /Users/ignacio/MAESTRIA/DMEF/exp/competencia_1/modelito/results_modelito_32.csv\n",
      "33. corte: 11612, /Users/ignacio/MAESTRIA/DMEF/exp/competencia_1/modelito/results_modelito_33.csv\n",
      "34. corte: 11693, /Users/ignacio/MAESTRIA/DMEF/exp/competencia_1/modelito/results_modelito_34.csv\n",
      "35. corte: 11775, /Users/ignacio/MAESTRIA/DMEF/exp/competencia_1/modelito/results_modelito_35.csv\n",
      "36. corte: 11857, /Users/ignacio/MAESTRIA/DMEF/exp/competencia_1/modelito/results_modelito_36.csv\n",
      "37. corte: 11938, /Users/ignacio/MAESTRIA/DMEF/exp/competencia_1/modelito/results_modelito_37.csv\n",
      "38. corte: 12020, /Users/ignacio/MAESTRIA/DMEF/exp/competencia_1/modelito/results_modelito_38.csv\n",
      "39. corte: 12102, /Users/ignacio/MAESTRIA/DMEF/exp/competencia_1/modelito/results_modelito_39.csv\n",
      "40. corte: 12183, /Users/ignacio/MAESTRIA/DMEF/exp/competencia_1/modelito/results_modelito_40.csv\n",
      "41. corte: 12265, /Users/ignacio/MAESTRIA/DMEF/exp/competencia_1/modelito/results_modelito_41.csv\n",
      "42. corte: 12346, /Users/ignacio/MAESTRIA/DMEF/exp/competencia_1/modelito/results_modelito_42.csv\n",
      "43. corte: 12428, /Users/ignacio/MAESTRIA/DMEF/exp/competencia_1/modelito/results_modelito_43.csv\n",
      "44. corte: 12510, /Users/ignacio/MAESTRIA/DMEF/exp/competencia_1/modelito/results_modelito_44.csv\n",
      "45. corte: 12591, /Users/ignacio/MAESTRIA/DMEF/exp/competencia_1/modelito/results_modelito_45.csv\n",
      "46. corte: 12673, /Users/ignacio/MAESTRIA/DMEF/exp/competencia_1/modelito/results_modelito_46.csv\n",
      "47. corte: 12755, /Users/ignacio/MAESTRIA/DMEF/exp/competencia_1/modelito/results_modelito_47.csv\n",
      "48. corte: 12836, /Users/ignacio/MAESTRIA/DMEF/exp/competencia_1/modelito/results_modelito_48.csv\n",
      "49. corte: 12918, /Users/ignacio/MAESTRIA/DMEF/exp/competencia_1/modelito/results_modelito_49.csv\n",
      "50. corte: 13000, /Users/ignacio/MAESTRIA/DMEF/exp/competencia_1/modelito/results_modelito_50.csv\n"
     ]
    }
   ],
   "source": [
    "counter = 0\n",
    "\n",
    "for corte in puntos_corte:\n",
    "    \n",
    "    envios = np.zeros(len(X_test_with_predictions), dtype=int)\n",
    "    envios[:corte] = 1\n",
    "    X_test_with_predictions['Predicted'] = envios\n",
    "    \n",
    "    output = X_test_with_predictions[['numero_de_cliente', 'Predicted']]\n",
    "        \n",
    "    counter += 1\n",
    "    \n",
    "    file_name = f'results_{version}_{counter}.csv'\n",
    "    output_path = base_path + f'exp/competencia_1/{version}/' + file_name\n",
    "    \n",
    "    output.to_csv(output_path, index=False)\n",
    "            \n",
    "    print(f'{counter}. corte: {corte}, {output_path}')"
   ]
  },
  {
   "cell_type": "code",
   "execution_count": null,
   "metadata": {},
   "outputs": [
    {
     "name": "stdout",
     "output_type": "stream",
     "text": [
      "Promedio de predicciones guardado en: /Users/ignacio/MAESTRIA/DMEF/exp/competencia_1/modelito/promedio_results.csv\n"
     ]
    }
   ],
   "source": [
    "\n",
    "# predicciones_list = []\n",
    "\n",
    "# # Recorre los archivos generados y carga las predicciones\n",
    "# for counter in range(1, len(puntos_corte) + 1):\n",
    "#     file_name = f'results_{version}_{counter}.csv'\n",
    "#     output_path = base_path + f'exp/competencia_1/{version}/' + file_name\n",
    "    \n",
    "#     # Cargar las predicciones desde el archivo CSV\n",
    "#     df = pd.read_csv(output_path)\n",
    "#     predicciones_list.append(df['Predicted'].values)\n",
    "\n",
    "# # Convertir la lista de predicciones a un array de numpy\n",
    "# predicciones_array = np.array(predicciones_list)\n",
    "\n",
    "# # Calcular el promedio de las predicciones\n",
    "# promedio_predicciones = np.mean(predicciones_array, axis=0)\n",
    "\n",
    "# # Crear un DataFrame con el promedio de las predicciones\n",
    "# X_test_with_predictions['Predicted'] = promedio_predicciones\n",
    "\n",
    "# # Guardar el promedio de las predicciones en un archivo CSV\n",
    "# promedio_output = X_test_with_predictions[['numero_de_cliente', 'Predicted']]\n",
    "# promedio_output_path = base_path + f'exp/competencia_1/{version}/promedio_results.csv'\n",
    "# promedio_output.to_csv(promedio_output_path, index=False)\n",
    "\n",
    "# print(f'Promedio de predicciones guardado en: {promedio_output_path}')"
   ]
  },
  {
   "cell_type": "code",
   "execution_count": 33,
   "metadata": {},
   "outputs": [
    {
     "name": "stdout",
     "output_type": "stream",
     "text": [
      "Promedio de predicciones guardado en: /Users/ignacio/MAESTRIA/DMEF/exp/competencia_1/modelito/promedio_up_results.csv\n"
     ]
    }
   ],
   "source": [
    "\n",
    "predicciones_list = []\n",
    "\n",
    "# Recorre los archivos generados y carga las predicciones\n",
    "for counter in range(1, len(puntos_corte) + 1):\n",
    "    file_name = f'results_{version}_{counter}.csv'\n",
    "    output_path = base_path + f'exp/competencia_1/{version}/' + file_name\n",
    "    \n",
    "    # Cargar las predicciones desde el archivo CSV\n",
    "    df = pd.read_csv(output_path)\n",
    "    predicciones_list.append(df['Predicted'].values)\n",
    "\n",
    "# Convertir la lista de predicciones a un array de numpy\n",
    "predicciones_array = np.array(predicciones_list)\n",
    "\n",
    "# Calcular el promedio de las predicciones\n",
    "promedio_predicciones = np.mean(predicciones_array, axis=0)\n",
    "\n",
    "# Redondear cualquier número mayor que 0.25 a 1 y convertir a enteros\n",
    "promedio_predicciones = np.where(promedio_predicciones > 0.25, 1, 0).astype(int)\n",
    "\n",
    "# Crear un DataFrame con el promedio de las predicciones\n",
    "X_test_with_predictions['Predicted'] = promedio_predicciones\n",
    "\n",
    "# Guardar el promedio de las predicciones en un archivo CSV\n",
    "promedio_output = X_test_with_predictions[['numero_de_cliente', 'Predicted']]\n",
    "promedio_output_path = base_path + f'exp/competencia_1/{version}/promedio_up_results.csv'\n",
    "promedio_output.to_csv(promedio_output_path, index=False)\n",
    "\n",
    "print(f'Promedio de predicciones guardado en: {promedio_output_path}')\n",
    "\n"
   ]
  },
  {
   "cell_type": "code",
   "execution_count": null,
   "metadata": {},
   "outputs": [],
   "source": [
    "# # Subir el archivo con el promedio de las predicciones a Kaggle\n",
    "# !kaggle competitions submit -c <competition-name> -f {promedio_output_path} -m \"Submission with averaged predictions\"\n",
    "\n",
    "# print(f'Subida a Kaggle: {promedio_output_path}')"
   ]
  }
 ],
 "metadata": {
  "kernelspec": {
   "display_name": "Python 3",
   "language": "python",
   "name": "python3"
  },
  "language_info": {
   "codemirror_mode": {
    "name": "ipython",
    "version": 3
   },
   "file_extension": ".py",
   "mimetype": "text/x-python",
   "name": "python",
   "nbconvert_exporter": "python",
   "pygments_lexer": "ipython3",
   "version": "3.12.3"
  }
 },
 "nbformat": 4,
 "nbformat_minor": 2
}
