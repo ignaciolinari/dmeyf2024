{
 "cells": [
  {
   "cell_type": "code",
   "execution_count": 1,
   "metadata": {},
   "outputs": [],
   "source": [
    "# %pip install polars"
   ]
  },
  {
   "cell_type": "code",
   "execution_count": 2,
   "metadata": {
    "id": "Cj-rL6xHlA2u"
   },
   "outputs": [],
   "source": [
    "import pandas as pd\n",
    "import polars as pl\n",
    "import numpy as np\n",
    "import seaborn as sns\n",
    "import matplotlib.pyplot as plt\n",
    "\n",
    "from sklearn.model_selection import train_test_split\n",
    "from sklearn.model_selection import ShuffleSplit, StratifiedShuffleSplit\n",
    "from sklearn.ensemble import RandomForestClassifier\n",
    "from sklearn.impute import SimpleImputer\n",
    "\n",
    "import lightgbm as lgb\n",
    "\n",
    "import optuna\n",
    "from optuna.visualization import plot_optimization_history, plot_param_importances, plot_slice, plot_contour\n",
    "\n",
    "from time import time\n",
    "\n",
    "import pickle"
   ]
  },
  {
   "cell_type": "code",
   "execution_count": 3,
   "metadata": {},
   "outputs": [],
   "source": [
    "# !gsutil cp /home/clas_giulia_s/buckets/b1/datasets/competencia_02_fe_v01_undersampled.parquet /home/clas_giulia_s/datasets/"
   ]
  },
  {
   "cell_type": "code",
   "execution_count": 4,
   "metadata": {
    "id": "8jGKjoN1lRho"
   },
   "outputs": [],
   "source": [
    "\n",
    "# base_path = '/home/clas_giulia_s/buckets/b1/'\n",
    "base_path = '/Users/ignacio/MAESTRIA/DMEF/'\n",
    "\n",
    "dataset_path = base_path + 'datasets/'\n",
    "modelos_path = base_path + 'modelos/'\n",
    "db_path = base_path + 'db/'\n",
    "# dataset_file = 'competencia_02_fe_v01_undersampled.parquet'\n",
    "dataset_file = 'competencia_01_fe_modelito_undersampled.csv'\n",
    "\n",
    "ganancia_acierto = 273000\n",
    "costo_estimulo = 7000\n",
    "\n",
    "# data = pd.read_parquet(dataset_path + dataset_file)\n",
    "data = pd.read_csv(dataset_path + dataset_file)"
   ]
  },
  {
   "cell_type": "code",
   "execution_count": 5,
   "metadata": {},
   "outputs": [],
   "source": [
    "# cantidad_semillas = 100\n",
    "# semillas = [np.random.randint(0, 10000) for _ in range(cantidad_semillas)]\n",
    "# print(semillas)"
   ]
  },
  {
   "cell_type": "code",
   "execution_count": 6,
   "metadata": {},
   "outputs": [],
   "source": [
    "semillas = [5623, 292, 7494, 8504, 1663, 785, 5377, 4838, 2141, 2235, 9836, 1258, 3273, 8349, 1639, 1597, 3195, 40, 5186, 9278, 6281, 7515, 2046, 5642, 505, 4611, 3008, 2063, 2280, 1148, 618, 4806, 1503, 3926, 6363, 400, 2662, 9432, 1632, 386, 2545, 228, 1561, 3523, 4508, 9190, 8181, 7302, 6250, 7762, 8141, 6854, 622, 5327, 6379, 3867, 5420, 3030, 7275, 2040, 6042, 4365, 231, 8330, 8527, 2420, 2558, 9618, 3937, 555, 122, 4907, 7838, 5246, 100, 3243, 1449, 1052, 1906, 7657, 753, 4320, 4576, 9621, 8868, 8155, 7410, 2320, 6355, 1994, 7775, 8358, 3508, 3064, 3904, 3602, 5308, 6947, 1544, 624]"
   ]
  },
  {
   "cell_type": "code",
   "execution_count": 7,
   "metadata": {},
   "outputs": [
    {
     "data": {
      "text/plain": [
       "(51606, 679)"
      ]
     },
     "execution_count": 7,
     "metadata": {},
     "output_type": "execute_result"
    }
   ],
   "source": [
    "# meses_train = [201906, 201907, 201908, 201909, 201910, 201911, 201912,\n",
    "#                202001, 202002, 202003, 202004, 202005, 202006,\n",
    "#                202007, 202008, 202009, 202010, 202011, 202012,\n",
    "#                202101, 202102, 202103, 202104, 202105] # dejo afuera 202106 para test\n",
    "\n",
    "meses_train = [202101, 202102, 202103] # dejo afuera 202104 para test\n",
    "\n",
    "data = data[data['foto_mes'].isin(meses_train)]\n",
    "data.shape"
   ]
  },
  {
   "cell_type": "code",
   "execution_count": 8,
   "metadata": {},
   "outputs": [],
   "source": [
    "# Asignamos pesos a las clases\n",
    "\n",
    "data['clase_peso'] = 1.0\n",
    "\n",
    "data.loc[data['clase_ternaria'] == 'BAJA+2', 'clase_peso'] = 1.00002\n",
    "data.loc[data['clase_ternaria'] == 'BAJA+1', 'clase_peso'] = 1.00001"
   ]
  },
  {
   "cell_type": "code",
   "execution_count": 9,
   "metadata": {},
   "outputs": [],
   "source": [
    "data['clase_binaria'] = 0\n",
    "data['clase_binaria'] = np.where(data['clase_ternaria'] == 'BAJA+2', 1, 0)"
   ]
  },
  {
   "cell_type": "code",
   "execution_count": 10,
   "metadata": {},
   "outputs": [],
   "source": [
    "X_train = data.drop(['clase_ternaria', 'clase_peso', 'clase_binaria'], axis=1)\n",
    "y_train_binaria = data['clase_binaria']\n",
    "w_train = data['clase_peso']"
   ]
  },
  {
   "cell_type": "code",
   "execution_count": 11,
   "metadata": {},
   "outputs": [],
   "source": [
    "def lgb_gan_eval(y_pred, data):\n",
    "    weight = data.get_weight()\n",
    "    ganancia = np.where(weight == 1.00002, ganancia_acierto, 0) - np.where(weight < 1.00002, costo_estimulo, 0)\n",
    "    ganancia = ganancia[np.argsort(y_pred)[::-1]]\n",
    "    ganancia = np.cumsum(ganancia)\n",
    "\n",
    "    return 'gan_eval', np.max(ganancia) , True"
   ]
  },
  {
   "cell_type": "markdown",
   "metadata": {},
   "source": [
    "# Entrenamiento"
   ]
  },
  {
   "cell_type": "markdown",
   "metadata": {},
   "source": [
    "Cargamos el study de optuna que optimizamos en el script anterior"
   ]
  },
  {
   "cell_type": "code",
   "execution_count": 12,
   "metadata": {
    "colab": {
     "base_uri": "https://localhost:8080/"
    },
    "id": "bYMEnNFbkSoQ",
    "outputId": "15d768d4-9e25-4063-984b-d79c90ea91bc"
   },
   "outputs": [
    {
     "name": "stderr",
     "output_type": "stream",
     "text": [
      "[I 2024-11-29 00:31:44,939] Using an existing study with name 'competencia1_modelito_lgbm' instead of creating a new one.\n"
     ]
    }
   ],
   "source": [
    "\n",
    "storage_name = \"sqlite:///\" + db_path + \"optimizacion_lgbm_modelito.db\"\n",
    "study_name = \"competencia1_modelito_lgbm\" # UPDATE\n",
    "\n",
    "study = optuna.create_study(\n",
    "    direction=\"maximize\",\n",
    "    study_name=study_name,\n",
    "    storage=storage_name,\n",
    "    load_if_exists=True,\n",
    ")"
   ]
  },
  {
   "cell_type": "code",
   "execution_count": 13,
   "metadata": {},
   "outputs": [
    {
     "data": {
      "text/plain": [
       "(60, 12)"
      ]
     },
     "execution_count": 13,
     "metadata": {},
     "output_type": "execute_result"
    }
   ],
   "source": [
    "resultados = study.trials_dataframe()\n",
    "resultados.shape"
   ]
  },
  {
   "cell_type": "markdown",
   "metadata": {
    "id": "HjgD6raVE6am"
   },
   "source": [
    "Entrenamos un modelo solo para ver feature importance"
   ]
  },
  {
   "cell_type": "code",
   "execution_count": 14,
   "metadata": {
    "colab": {
     "base_uri": "https://localhost:8080/"
    },
    "id": "bwyUriQksZAM",
    "outputId": "c4b54b3e-75b0-4076-8a31-7096bd94382b"
   },
   "outputs": [
    {
     "name": "stdout",
     "output_type": "stream",
     "text": [
      "Mejor cantidad de árboles para el mejor model 139\n"
     ]
    }
   ],
   "source": [
    "best_iter = study.best_trial.user_attrs[\"best_iter\"]\n",
    "print(f\"Mejor cantidad de árboles para el mejor model {best_iter}\")\n",
    "\n",
    "params = {\n",
    "    'objective': 'binary',\n",
    "    'boosting_type': 'gbdt',\n",
    "    'first_metric_only': True,\n",
    "    'boost_from_average': True,\n",
    "    'feature_pre_filter': False,\n",
    "    'max_bin': 31,\n",
    "    'num_leaves': study.best_trial.params['num_leaves'],\n",
    "    'learning_rate': study.best_trial.params['learning_rate'],\n",
    "    'min_data_in_leaf': study.best_trial.params['min_data_in_leaf'],\n",
    "    'feature_fraction': study.best_trial.params['feature_fraction'],\n",
    "    'bagging_fraction': study.best_trial.params['bagging_fraction'],\n",
    "    'seed': semillas[0],\n",
    "    'verbose': 0\n",
    "}\n",
    "\n",
    "train_data = lgb.Dataset(X_train,\n",
    "                          label=y_train_binaria,\n",
    "                          weight=w_train)\n",
    "\n",
    "model = lgb.train(params,\n",
    "                  train_data,\n",
    "                  num_boost_round=best_iter)\n"
   ]
  },
  {
   "cell_type": "code",
   "execution_count": 15,
   "metadata": {},
   "outputs": [
    {
     "data": {
      "text/plain": [
       "{'objective': 'binary',\n",
       " 'boosting_type': 'gbdt',\n",
       " 'first_metric_only': True,\n",
       " 'boost_from_average': True,\n",
       " 'feature_pre_filter': False,\n",
       " 'max_bin': 31,\n",
       " 'num_leaves': 16,\n",
       " 'learning_rate': 0.06537511998403012,\n",
       " 'min_data_in_leaf': 1295,\n",
       " 'feature_fraction': 0.6760496941965302,\n",
       " 'bagging_fraction': 0.6807642069212421,\n",
       " 'seed': 5623,\n",
       " 'verbose': 0}"
      ]
     },
     "execution_count": 15,
     "metadata": {},
     "output_type": "execute_result"
    }
   ],
   "source": [
    "params"
   ]
  },
  {
   "cell_type": "markdown",
   "metadata": {
    "id": "LkTH9daXF5tp"
   },
   "source": [
    "Variables mas importantes:"
   ]
  },
  {
   "cell_type": "code",
   "execution_count": 16,
   "metadata": {
    "colab": {
     "base_uri": "https://localhost:8080/",
     "height": 424
    },
    "id": "l7ZObpkHtnUl",
    "outputId": "eb0fe3a2-9e41-4886-ebd7-257dd1cf9829"
   },
   "outputs": [
    {
     "data": {
      "text/html": [
       "<div>\n",
       "<style scoped>\n",
       "    .dataframe tbody tr th:only-of-type {\n",
       "        vertical-align: middle;\n",
       "    }\n",
       "\n",
       "    .dataframe tbody tr th {\n",
       "        vertical-align: top;\n",
       "    }\n",
       "\n",
       "    .dataframe thead th {\n",
       "        text-align: right;\n",
       "    }\n",
       "</style>\n",
       "<table border=\"1\" class=\"dataframe\">\n",
       "  <thead>\n",
       "    <tr style=\"text-align: right;\">\n",
       "      <th></th>\n",
       "      <th>feature</th>\n",
       "      <th>importance</th>\n",
       "    </tr>\n",
       "  </thead>\n",
       "  <tbody>\n",
       "    <tr>\n",
       "      <th>189</th>\n",
       "      <td>avg3_mrentabilidad_annual</td>\n",
       "      <td>51</td>\n",
       "    </tr>\n",
       "    <tr>\n",
       "      <th>12</th>\n",
       "      <td>cproductos</td>\n",
       "      <td>39</td>\n",
       "    </tr>\n",
       "    <tr>\n",
       "      <th>5</th>\n",
       "      <td>cliente_edad</td>\n",
       "      <td>37</td>\n",
       "    </tr>\n",
       "    <tr>\n",
       "      <th>147</th>\n",
       "      <td>Visa_fechaalta</td>\n",
       "      <td>35</td>\n",
       "    </tr>\n",
       "    <tr>\n",
       "      <th>8</th>\n",
       "      <td>mrentabilidad_annual</td>\n",
       "      <td>35</td>\n",
       "    </tr>\n",
       "    <tr>\n",
       "      <th>...</th>\n",
       "      <td>...</td>\n",
       "      <td>...</td>\n",
       "    </tr>\n",
       "    <tr>\n",
       "      <th>31</th>\n",
       "      <td>mtarjeta_master_consumo</td>\n",
       "      <td>1</td>\n",
       "    </tr>\n",
       "    <tr>\n",
       "      <th>232</th>\n",
       "      <td>avg3_ccuenta_debitos_automaticos</td>\n",
       "      <td>1</td>\n",
       "    </tr>\n",
       "    <tr>\n",
       "      <th>126</th>\n",
       "      <td>Master_mconsumototal</td>\n",
       "      <td>1</td>\n",
       "    </tr>\n",
       "    <tr>\n",
       "      <th>285</th>\n",
       "      <td>avg3_Master_msaldototal</td>\n",
       "      <td>1</td>\n",
       "    </tr>\n",
       "    <tr>\n",
       "      <th>281</th>\n",
       "      <td>avg3_matm_other</td>\n",
       "      <td>1</td>\n",
       "    </tr>\n",
       "  </tbody>\n",
       "</table>\n",
       "<p>309 rows × 2 columns</p>\n",
       "</div>"
      ],
      "text/plain": [
       "                              feature  importance\n",
       "189         avg3_mrentabilidad_annual          51\n",
       "12                         cproductos          39\n",
       "5                        cliente_edad          37\n",
       "147                    Visa_fechaalta          35\n",
       "8                mrentabilidad_annual          35\n",
       "..                                ...         ...\n",
       "31            mtarjeta_master_consumo           1\n",
       "232  avg3_ccuenta_debitos_automaticos           1\n",
       "126              Master_mconsumototal           1\n",
       "285           avg3_Master_msaldototal           1\n",
       "281                   avg3_matm_other           1\n",
       "\n",
       "[309 rows x 2 columns]"
      ]
     },
     "execution_count": 16,
     "metadata": {},
     "output_type": "execute_result"
    }
   ],
   "source": [
    "importances = model.feature_importance()\n",
    "feature_names = X_train.columns.tolist()\n",
    "importance_df = pd.DataFrame({'feature': feature_names, 'importance': importances})\n",
    "importance_df = importance_df.sort_values('importance', ascending=False)\n",
    "importance_df[importance_df['importance'] > 0]"
   ]
  },
  {
   "cell_type": "markdown",
   "metadata": {},
   "source": [
    "### Entrenamos con la totalidad de las semillas y guardamos los modelos"
   ]
  },
  {
   "cell_type": "code",
   "execution_count": 17,
   "metadata": {},
   "outputs": [
    {
     "name": "stdout",
     "output_type": "stream",
     "text": [
      "Mejor cantidad de árboles para el mejor model 139\n",
      "Modelo generado con semilla 5623: DONE\n",
      "Modelo generado con semilla 292: DONE\n",
      "Modelo generado con semilla 7494: DONE\n",
      "Modelo generado con semilla 8504: DONE\n",
      "Modelo generado con semilla 1663: DONE\n",
      "Modelo generado con semilla 785: DONE\n",
      "Modelo generado con semilla 5377: DONE\n",
      "Modelo generado con semilla 4838: DONE\n",
      "Modelo generado con semilla 2141: DONE\n",
      "Modelo generado con semilla 2235: DONE\n",
      "Modelo generado con semilla 9836: DONE\n",
      "Modelo generado con semilla 1258: DONE\n",
      "Modelo generado con semilla 3273: DONE\n",
      "Modelo generado con semilla 8349: DONE\n",
      "Modelo generado con semilla 1639: DONE\n",
      "Modelo generado con semilla 1597: DONE\n",
      "Modelo generado con semilla 3195: DONE\n",
      "Modelo generado con semilla 40: DONE\n",
      "Modelo generado con semilla 5186: DONE\n",
      "Modelo generado con semilla 9278: DONE\n",
      "Modelo generado con semilla 6281: DONE\n",
      "Modelo generado con semilla 7515: DONE\n",
      "Modelo generado con semilla 2046: DONE\n",
      "Modelo generado con semilla 5642: DONE\n",
      "Modelo generado con semilla 505: DONE\n",
      "Modelo generado con semilla 4611: DONE\n",
      "Modelo generado con semilla 3008: DONE\n",
      "Modelo generado con semilla 2063: DONE\n",
      "Modelo generado con semilla 2280: DONE\n",
      "Modelo generado con semilla 1148: DONE\n",
      "Modelo generado con semilla 618: DONE\n",
      "Modelo generado con semilla 4806: DONE\n",
      "Modelo generado con semilla 1503: DONE\n",
      "Modelo generado con semilla 3926: DONE\n",
      "Modelo generado con semilla 6363: DONE\n",
      "Modelo generado con semilla 400: DONE\n",
      "Modelo generado con semilla 2662: DONE\n",
      "Modelo generado con semilla 9432: DONE\n",
      "Modelo generado con semilla 1632: DONE\n",
      "Modelo generado con semilla 386: DONE\n",
      "Modelo generado con semilla 2545: DONE\n",
      "Modelo generado con semilla 228: DONE\n",
      "Modelo generado con semilla 1561: DONE\n",
      "Modelo generado con semilla 3523: DONE\n",
      "Modelo generado con semilla 4508: DONE\n",
      "Modelo generado con semilla 9190: DONE\n",
      "Modelo generado con semilla 8181: DONE\n",
      "Modelo generado con semilla 7302: DONE\n",
      "Modelo generado con semilla 6250: DONE\n",
      "Modelo generado con semilla 7762: DONE\n",
      "Modelo generado con semilla 8141: DONE\n",
      "Modelo generado con semilla 6854: DONE\n",
      "Modelo generado con semilla 622: DONE\n",
      "Modelo generado con semilla 5327: DONE\n",
      "Modelo generado con semilla 6379: DONE\n",
      "Modelo generado con semilla 3867: DONE\n",
      "Modelo generado con semilla 5420: DONE\n",
      "Modelo generado con semilla 3030: DONE\n",
      "Modelo generado con semilla 7275: DONE\n",
      "Modelo generado con semilla 2040: DONE\n",
      "Modelo generado con semilla 6042: DONE\n",
      "Modelo generado con semilla 4365: DONE\n",
      "Modelo generado con semilla 231: DONE\n",
      "Modelo generado con semilla 8330: DONE\n",
      "Modelo generado con semilla 8527: DONE\n",
      "Modelo generado con semilla 2420: DONE\n",
      "Modelo generado con semilla 2558: DONE\n",
      "Modelo generado con semilla 9618: DONE\n",
      "Modelo generado con semilla 3937: DONE\n",
      "Modelo generado con semilla 555: DONE\n",
      "Modelo generado con semilla 122: DONE\n",
      "Modelo generado con semilla 4907: DONE\n",
      "Modelo generado con semilla 7838: DONE\n",
      "Modelo generado con semilla 5246: DONE\n",
      "Modelo generado con semilla 100: DONE\n",
      "Modelo generado con semilla 3243: DONE\n",
      "Modelo generado con semilla 1449: DONE\n",
      "Modelo generado con semilla 1052: DONE\n",
      "Modelo generado con semilla 1906: DONE\n",
      "Modelo generado con semilla 7657: DONE\n",
      "Modelo generado con semilla 753: DONE\n",
      "Modelo generado con semilla 4320: DONE\n",
      "Modelo generado con semilla 4576: DONE\n",
      "Modelo generado con semilla 9621: DONE\n",
      "Modelo generado con semilla 8868: DONE\n",
      "Modelo generado con semilla 8155: DONE\n",
      "Modelo generado con semilla 7410: DONE\n",
      "Modelo generado con semilla 2320: DONE\n",
      "Modelo generado con semilla 6355: DONE\n",
      "Modelo generado con semilla 1994: DONE\n",
      "Modelo generado con semilla 7775: DONE\n",
      "Modelo generado con semilla 8358: DONE\n",
      "Modelo generado con semilla 3508: DONE\n",
      "Modelo generado con semilla 3064: DONE\n",
      "Modelo generado con semilla 3904: DONE\n",
      "Modelo generado con semilla 3602: DONE\n",
      "Modelo generado con semilla 5308: DONE\n",
      "Modelo generado con semilla 6947: DONE\n",
      "Modelo generado con semilla 1544: DONE\n",
      "Modelo generado con semilla 624: DONE\n"
     ]
    }
   ],
   "source": [
    "version = 'modelito' # UPDATE\n",
    "\n",
    "best_iter = study.best_trial.user_attrs[\"best_iter\"]\n",
    "print(f\"Mejor cantidad de árboles para el mejor model {best_iter}\")\n",
    "\n",
    "for semilla in semillas:\n",
    "    \n",
    "    params = {\n",
    "        'objective': 'binary',\n",
    "        'boosting_type': 'gbdt',\n",
    "        'first_metric_only': True,\n",
    "        'boost_from_average': True,\n",
    "        'feature_pre_filter': False,\n",
    "        'max_bin': 31,\n",
    "        'num_leaves': study.best_trial.params['num_leaves'],\n",
    "        'learning_rate': study.best_trial.params['learning_rate'],\n",
    "        'min_data_in_leaf': study.best_trial.params['min_data_in_leaf'],\n",
    "        'feature_fraction': study.best_trial.params['feature_fraction'],\n",
    "        'bagging_fraction': study.best_trial.params['bagging_fraction'],\n",
    "        'seed': semilla,\n",
    "        'verbose': 0\n",
    "    }\n",
    "\n",
    "    train_data = lgb.Dataset(X_train,\n",
    "                            label=y_train_binaria,\n",
    "                            weight=w_train)\n",
    "\n",
    "    model = lgb.train(params,\n",
    "                    train_data,\n",
    "                    num_boost_round=best_iter)\n",
    "    \n",
    "    model.save_model(modelos_path + f'{version}/lgb_competencia1_{version}_s{semilla}.txt')\n",
    "    \n",
    "    print(f'Modelo generado con semilla {semilla}: DONE')"
   ]
  }
 ],
 "metadata": {
  "colab": {
   "provenance": []
  },
  "kernelspec": {
   "display_name": "Python 3",
   "language": "python",
   "name": "python3"
  },
  "language_info": {
   "codemirror_mode": {
    "name": "ipython",
    "version": 3
   },
   "file_extension": ".py",
   "mimetype": "text/x-python",
   "name": "python",
   "nbconvert_exporter": "python",
   "pygments_lexer": "ipython3",
   "version": "3.12.3"
  }
 },
 "nbformat": 4,
 "nbformat_minor": 4
}
