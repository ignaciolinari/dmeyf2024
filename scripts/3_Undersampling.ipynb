{
 "cells": [
  {
   "cell_type": "code",
   "execution_count": 1,
   "metadata": {},
   "outputs": [],
   "source": [
    "\n",
    "# %pip install imbalanced-learn"
   ]
  },
  {
   "cell_type": "code",
   "execution_count": 2,
   "metadata": {},
   "outputs": [],
   "source": [
    "import pandas as pd\n",
    "import numpy as np\n",
    "\n",
    "from imblearn.under_sampling import RandomUnderSampler"
   ]
  },
  {
   "cell_type": "code",
   "execution_count": 3,
   "metadata": {},
   "outputs": [],
   "source": [
    "# !gsutil cp /home/clas_giulia_s/buckets/b1/datasets/competencia_02_fe_v01.parquet /home/clas_giulia_s/datasets/"
   ]
  },
  {
   "cell_type": "code",
   "execution_count": 4,
   "metadata": {},
   "outputs": [],
   "source": [
    "# base_path = '/home/clas_giulia_s/buckets/b1/'\n",
    "base_path = '/Users/ignacio/MAESTRIA/DMEF/'\n",
    "\n",
    "dataset_path = base_path + 'datasets/'\n",
    "modelos_path = base_path + 'modelos/'\n",
    "db_path = base_path + 'db/'\n",
    "# dataset_file = 'competencia_02_fe_v01.parquet'\n",
    "dataset_file = 'competencia_01_fe_modelito.csv'\n",
    "\n",
    "semillas = [261823, 289871, 379817, 481301, 959723]\n",
    "\n",
    "# data = pd.read_parquet('/home/clas_giulia_s/datasets/' + dataset_file)\n",
    "data = pd.read_csv(dataset_path + dataset_file)"
   ]
  },
  {
   "cell_type": "code",
   "execution_count": 5,
   "metadata": {},
   "outputs": [],
   "source": [
    "data['clase_binaria'] = 0\n",
    "data['clase_binaria'] = np.where(data['clase_ternaria'] == 'BAJA+2', 1, 0)"
   ]
  },
  {
   "cell_type": "code",
   "execution_count": 6,
   "metadata": {},
   "outputs": [],
   "source": [
    "# meses_train = [201906, 201907, 201908, 201909, 201910, 201911, 201912,\n",
    "#                202001, 202002, 202003, 202004, 202005, 202006,\n",
    "#                202007, 202008, 202009, 202010, 202011, 202012,\n",
    "#                202101, 202102, 202103, 202104, 202105, 202106]\n",
    "\n",
    "meses_train = [202101, 202102, 202103, 202104]\n",
    "\n",
    "data = data[data['foto_mes'].isin(meses_train)]"
   ]
  },
  {
   "cell_type": "code",
   "execution_count": 7,
   "metadata": {},
   "outputs": [
    {
     "data": {
      "text/plain": [
       "(652447, 679)"
      ]
     },
     "execution_count": 7,
     "metadata": {},
     "output_type": "execute_result"
    }
   ],
   "source": [
    "data.shape"
   ]
  },
  {
   "cell_type": "code",
   "execution_count": 8,
   "metadata": {},
   "outputs": [
    {
     "data": {
      "text/html": [
       "<div>\n",
       "<style scoped>\n",
       "    .dataframe tbody tr th:only-of-type {\n",
       "        vertical-align: middle;\n",
       "    }\n",
       "\n",
       "    .dataframe tbody tr th {\n",
       "        vertical-align: top;\n",
       "    }\n",
       "\n",
       "    .dataframe thead th {\n",
       "        text-align: right;\n",
       "    }\n",
       "</style>\n",
       "<table border=\"1\" class=\"dataframe\">\n",
       "  <thead>\n",
       "    <tr style=\"text-align: right;\">\n",
       "      <th></th>\n",
       "      <th>foto_mes</th>\n",
       "      <th>proportion_0</th>\n",
       "      <th>proportion_1</th>\n",
       "    </tr>\n",
       "  </thead>\n",
       "  <tbody>\n",
       "    <tr>\n",
       "      <th>0</th>\n",
       "      <td>202101</td>\n",
       "      <td>0.995180</td>\n",
       "      <td>0.004820</td>\n",
       "    </tr>\n",
       "    <tr>\n",
       "      <th>1</th>\n",
       "      <td>202102</td>\n",
       "      <td>0.993759</td>\n",
       "      <td>0.006241</td>\n",
       "    </tr>\n",
       "    <tr>\n",
       "      <th>2</th>\n",
       "      <td>202103</td>\n",
       "      <td>0.994037</td>\n",
       "      <td>0.005963</td>\n",
       "    </tr>\n",
       "    <tr>\n",
       "      <th>3</th>\n",
       "      <td>202104</td>\n",
       "      <td>0.992754</td>\n",
       "      <td>0.007246</td>\n",
       "    </tr>\n",
       "  </tbody>\n",
       "</table>\n",
       "</div>"
      ],
      "text/plain": [
       "   foto_mes  proportion_0  proportion_1\n",
       "0    202101      0.995180      0.004820\n",
       "1    202102      0.993759      0.006241\n",
       "2    202103      0.994037      0.005963\n",
       "3    202104      0.992754      0.007246"
      ]
     },
     "execution_count": 8,
     "metadata": {},
     "output_type": "execute_result"
    }
   ],
   "source": [
    "proportions = (\n",
    "    data.groupby('foto_mes')['clase_binaria']\n",
    "    .value_counts(normalize=True)\n",
    "    .unstack(fill_value=0)\n",
    "    .reset_index()\n",
    ")\n",
    "\n",
    "proportions.columns = ['foto_mes', 'proportion_0', 'proportion_1']\n",
    "proportions"
   ]
  },
  {
   "cell_type": "code",
   "execution_count": 9,
   "metadata": {},
   "outputs": [
    {
     "name": "stdout",
     "output_type": "stream",
     "text": [
      "Original proportion:0.00482021403972202\n",
      "Original proportion:0.006240546954736053\n",
      "Original proportion:0.005962672205761066\n",
      "Original proportion:0.007246023523676031\n"
     ]
    }
   ],
   "source": [
    "df_subsampled = []\n",
    "\n",
    "for mes, group in data.groupby(\"foto_mes\"):\n",
    "\n",
    "    X = group.drop(columns=\"clase_binaria\")\n",
    "    y = group[\"clase_binaria\"]\n",
    "    \n",
    "    # Calculo la proporcion de bajas\n",
    "    minority_proportion = y.value_counts(normalize=True).get(1, 0)\n",
    "    print(f'Original proportion:{minority_proportion}')\n",
    "    \n",
    "    # voy a incrementar esa proporcion por 10\n",
    "    new_proportion = minority_proportion * 10\n",
    "\n",
    "    # Apply RandomUnderSampler with the calculated strategy\n",
    "    rus = RandomUnderSampler(sampling_strategy=new_proportion, random_state=semillas[0])\n",
    "    X_res, y_res = rus.fit_resample(X, y)\n",
    "\n",
    "    # Rebuild the resampled DataFrame for the group\n",
    "    group_resampled = pd.concat([X_res, y_res], axis=1)\n",
    "    group_resampled[\"foto_mes\"] = mes  # Add back the 'foto_mes' column\n",
    "\n",
    "    # Add the resampled DataFrame to the list\n",
    "    df_subsampled.append(group_resampled)\n",
    "\n",
    "# Concatenate all resampled groups into a single DataFrame\n",
    "data = pd.concat(df_subsampled, ignore_index=True)"
   ]
  },
  {
   "cell_type": "code",
   "execution_count": 10,
   "metadata": {},
   "outputs": [
    {
     "data": {
      "text/plain": [
       "(69204, 679)"
      ]
     },
     "execution_count": 10,
     "metadata": {},
     "output_type": "execute_result"
    }
   ],
   "source": [
    "data.shape"
   ]
  },
  {
   "cell_type": "code",
   "execution_count": 11,
   "metadata": {},
   "outputs": [
    {
     "data": {
      "text/html": [
       "<div>\n",
       "<style scoped>\n",
       "    .dataframe tbody tr th:only-of-type {\n",
       "        vertical-align: middle;\n",
       "    }\n",
       "\n",
       "    .dataframe tbody tr th {\n",
       "        vertical-align: top;\n",
       "    }\n",
       "\n",
       "    .dataframe thead th {\n",
       "        text-align: right;\n",
       "    }\n",
       "</style>\n",
       "<table border=\"1\" class=\"dataframe\">\n",
       "  <thead>\n",
       "    <tr style=\"text-align: right;\">\n",
       "      <th></th>\n",
       "      <th>foto_mes</th>\n",
       "      <th>proportion_0</th>\n",
       "      <th>proportion_1</th>\n",
       "    </tr>\n",
       "  </thead>\n",
       "  <tbody>\n",
       "    <tr>\n",
       "      <th>0</th>\n",
       "      <td>202101</td>\n",
       "      <td>0.954013</td>\n",
       "      <td>0.045987</td>\n",
       "    </tr>\n",
       "    <tr>\n",
       "      <th>1</th>\n",
       "      <td>202102</td>\n",
       "      <td>0.941258</td>\n",
       "      <td>0.058742</td>\n",
       "    </tr>\n",
       "    <tr>\n",
       "      <th>2</th>\n",
       "      <td>202103</td>\n",
       "      <td>0.943727</td>\n",
       "      <td>0.056273</td>\n",
       "    </tr>\n",
       "    <tr>\n",
       "      <th>3</th>\n",
       "      <td>202104</td>\n",
       "      <td>0.932436</td>\n",
       "      <td>0.067564</td>\n",
       "    </tr>\n",
       "  </tbody>\n",
       "</table>\n",
       "</div>"
      ],
      "text/plain": [
       "   foto_mes  proportion_0  proportion_1\n",
       "0    202101      0.954013      0.045987\n",
       "1    202102      0.941258      0.058742\n",
       "2    202103      0.943727      0.056273\n",
       "3    202104      0.932436      0.067564"
      ]
     },
     "execution_count": 11,
     "metadata": {},
     "output_type": "execute_result"
    }
   ],
   "source": [
    "proportions = (\n",
    "    data.groupby('foto_mes')['clase_binaria']\n",
    "    .value_counts(normalize=True)\n",
    "    .unstack(fill_value=0)\n",
    "    .reset_index()\n",
    ")\n",
    "\n",
    "proportions.columns = ['foto_mes', 'proportion_0', 'proportion_1']\n",
    "proportions"
   ]
  },
  {
   "cell_type": "code",
   "execution_count": 12,
   "metadata": {},
   "outputs": [],
   "source": [
    "# output_file = 'competencia_02_fe_v01_undersampled.parquet'\n",
    "\n",
    "output_file = 'competencia_01_fe_modelito_undersampled.csv'\n",
    "\n",
    "# data.to_parquet('/home/clas_giulia_s/datasets/' + output_file, index=False)\n",
    "data.to_csv(dataset_path + output_file, index=False)"
   ]
  },
  {
   "cell_type": "code",
   "execution_count": 13,
   "metadata": {},
   "outputs": [],
   "source": [
    "# !gsutil cp /home/clas_giulia_s/datasets/competencia_02_fe_v01_undersampled.parquet /home/clas_giulia_s/buckets/b1/datasets/"
   ]
  }
 ],
 "metadata": {
  "kernelspec": {
   "display_name": "Python 3",
   "language": "python",
   "name": "python3"
  },
  "language_info": {
   "codemirror_mode": {
    "name": "ipython",
    "version": 3
   },
   "file_extension": ".py",
   "mimetype": "text/x-python",
   "name": "python",
   "nbconvert_exporter": "python",
   "pygments_lexer": "ipython3",
   "version": "3.12.3"
  }
 },
 "nbformat": 4,
 "nbformat_minor": 4
}
