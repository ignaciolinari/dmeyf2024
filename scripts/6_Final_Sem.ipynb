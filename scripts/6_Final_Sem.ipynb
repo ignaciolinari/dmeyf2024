{
 "cells": [
  {
   "cell_type": "code",
   "execution_count": 1,
   "metadata": {},
   "outputs": [],
   "source": [
    "import pandas as pd\n",
    "import polars as pl\n",
    "import numpy as np\n",
    "import matplotlib.pyplot as plt\n",
    "\n",
    "import optuna\n",
    "import lightgbm as lgb\n",
    "\n",
    "import pickle"
   ]
  },
  {
   "cell_type": "code",
   "execution_count": 2,
   "metadata": {},
   "outputs": [],
   "source": [
    "# !gsutil cp /home/clas_giulia_s/buckets/b1/datasets/competencia_02_fe_v01_undersampled.parquet /home/clas_giulia_s/datasets/"
   ]
  },
  {
   "cell_type": "code",
   "execution_count": 3,
   "metadata": {},
   "outputs": [],
   "source": [
    "# base_path = '/home/clas_giulia_s/buckets/b1/'\n",
    "base_path = '/Users/ignacio/MAESTRIA/DMEF/'\n",
    "\n",
    "dataset_path = base_path + 'datasets/'\n",
    "modelos_path = base_path + 'modelos/'\n",
    "db_path = base_path + 'db/'\n",
    "# dataset_file = 'competencia_02_fe_v01_undersampled.parquet'\n",
    "dataset_file = 'competencia_01_fe_modelito_undersampled.csv'\n",
    "\n",
    "ganancia_acierto = 273000\n",
    "costo_estimulo = 7000\n",
    "\n",
    "# data = pd.read_parquet(dataset_path + dataset_file)\n",
    "data = pd.read_csv(dataset_path + dataset_file)"
   ]
  },
  {
   "cell_type": "code",
   "execution_count": 4,
   "metadata": {},
   "outputs": [],
   "source": [
    "semillas = [5623, 292, 7494, 8504, 1663, 785, 5377, 4838, 2141, 2235, 9836, 1258, 3273, 8349, 1639, 1597, 3195, 40, 5186, 9278, 6281, 7515, 2046, 5642, 505, 4611, 3008, 2063, 2280, 1148, 618, 4806, 1503, 3926, 6363, 400, 2662, 9432, 1632, 386, 2545, 228, 1561, 3523, 4508, 9190, 8181, 7302, 6250, 7762, 8141, 6854, 622, 5327, 6379, 3867, 5420, 3030, 7275, 2040, 6042, 4365, 231, 8330, 8527, 2420, 2558, 9618, 3937, 555, 122, 4907, 7838, 5246, 100, 3243, 1449, 1052, 1906, 7657, 753, 4320, 4576, 9621, 8868, 8155, 7410, 2320, 6355, 1994, 7775, 8358, 3508, 3064, 3904, 3602, 5308, 6947, 1544, 624]"
   ]
  },
  {
   "cell_type": "code",
   "execution_count": 5,
   "metadata": {},
   "outputs": [
    {
     "data": {
      "text/plain": [
       "(69204, 679)"
      ]
     },
     "execution_count": 5,
     "metadata": {},
     "output_type": "execute_result"
    }
   ],
   "source": [
    "\n",
    "# meses_train = [201906, 201907, 201908, 201909, 201910, 201911, 201912,\n",
    "#                202001, 202002, 202003, 202004, 202005, 202006,\n",
    "#                202007, 202008, 202009, 202010, 202011, 202012,\n",
    "#                202101, 202102, 202103, 202104, 202105, 202106]  # entreno con todos los meses\n",
    "\n",
    "meses_train = [202101, 202102, 202103, 202104]\n",
    "\n",
    "data = data[data['foto_mes'].isin(meses_train)]\n",
    "data.shape"
   ]
  },
  {
   "cell_type": "code",
   "execution_count": 6,
   "metadata": {},
   "outputs": [],
   "source": [
    "# Asignamos pesos a las clases\n",
    "\n",
    "data['clase_peso'] = 1.0\n",
    "\n",
    "data.loc[data['clase_ternaria'] == 'BAJA+2', 'clase_peso'] = 1.00002\n",
    "data.loc[data['clase_ternaria'] == 'BAJA+1', 'clase_peso'] = 1.00001"
   ]
  },
  {
   "cell_type": "code",
   "execution_count": 7,
   "metadata": {},
   "outputs": [],
   "source": [
    "data['clase_binaria'] = 0\n",
    "data['clase_binaria'] = np.where(data['clase_ternaria'] == 'BAJA+2', 1, 0)"
   ]
  },
  {
   "cell_type": "code",
   "execution_count": null,
   "metadata": {},
   "outputs": [],
   "source": [
    "X_train = data.drop(['clase_ternaria', 'clase_peso', 'clase_binaria'], axis=1)\n",
    "y_train_binaria = data['clase_binaria'] \n",
    "w_train = data['clase_peso']"
   ]
  },
  {
   "cell_type": "code",
   "execution_count": 9,
   "metadata": {},
   "outputs": [],
   "source": [
    "def lgb_gan_eval(y_pred, data):\n",
    "    weight = data.get_weight()\n",
    "    ganancia = np.where(weight == 1.00002, ganancia_acierto, 0) - np.where(weight < 1.00002, costo_estimulo, 0)\n",
    "    ganancia = ganancia[np.argsort(y_pred)[::-1]]\n",
    "    ganancia = np.cumsum(ganancia)\n",
    "\n",
    "    return 'gan_eval', np.max(ganancia) , True"
   ]
  },
  {
   "cell_type": "markdown",
   "metadata": {},
   "source": [
    "# Entrenamiento"
   ]
  },
  {
   "cell_type": "markdown",
   "metadata": {},
   "source": [
    "Cargamos el study de optuna que optimizamos en el script anterior"
   ]
  },
  {
   "cell_type": "code",
   "execution_count": 10,
   "metadata": {},
   "outputs": [
    {
     "name": "stderr",
     "output_type": "stream",
     "text": [
      "[I 2024-11-29 01:00:16,087] Using an existing study with name 'competencia1_modelito_lgbm' instead of creating a new one.\n"
     ]
    }
   ],
   "source": [
    "\n",
    "storage_name = \"sqlite:///\" + db_path + \"optimizacion_lgbm_modelito.db\"\n",
    "study_name = \"competencia1_modelito_lgbm\" # UPDATE\n",
    "\n",
    "study = optuna.create_study(\n",
    "    direction=\"maximize\",\n",
    "    study_name=study_name,\n",
    "    storage=storage_name,\n",
    "    load_if_exists=True,\n",
    ")"
   ]
  },
  {
   "cell_type": "code",
   "execution_count": 11,
   "metadata": {},
   "outputs": [
    {
     "data": {
      "text/plain": [
       "(60, 12)"
      ]
     },
     "execution_count": 11,
     "metadata": {},
     "output_type": "execute_result"
    }
   ],
   "source": [
    "resultados = study.trials_dataframe()\n",
    "resultados.shape"
   ]
  },
  {
   "cell_type": "markdown",
   "metadata": {},
   "source": [
    "Reentrenamos los modelos individuales con la totalidad de los datos:"
   ]
  },
  {
   "cell_type": "code",
   "execution_count": 12,
   "metadata": {},
   "outputs": [
    {
     "name": "stdout",
     "output_type": "stream",
     "text": [
      "Mejor cantidad de árboles para el mejor modelo 139\n",
      "1: Modelo generado con semilla 5623: DONE\n",
      "2: Modelo generado con semilla 292: DONE\n",
      "3: Modelo generado con semilla 7494: DONE\n",
      "4: Modelo generado con semilla 8504: DONE\n",
      "5: Modelo generado con semilla 1663: DONE\n",
      "6: Modelo generado con semilla 785: DONE\n",
      "7: Modelo generado con semilla 5377: DONE\n",
      "8: Modelo generado con semilla 4838: DONE\n",
      "9: Modelo generado con semilla 2141: DONE\n",
      "10: Modelo generado con semilla 2235: DONE\n",
      "11: Modelo generado con semilla 9836: DONE\n",
      "12: Modelo generado con semilla 1258: DONE\n",
      "13: Modelo generado con semilla 3273: DONE\n",
      "14: Modelo generado con semilla 8349: DONE\n",
      "15: Modelo generado con semilla 1639: DONE\n",
      "16: Modelo generado con semilla 1597: DONE\n",
      "17: Modelo generado con semilla 3195: DONE\n",
      "18: Modelo generado con semilla 40: DONE\n",
      "19: Modelo generado con semilla 5186: DONE\n",
      "20: Modelo generado con semilla 9278: DONE\n",
      "21: Modelo generado con semilla 6281: DONE\n",
      "22: Modelo generado con semilla 7515: DONE\n",
      "23: Modelo generado con semilla 2046: DONE\n",
      "24: Modelo generado con semilla 5642: DONE\n",
      "25: Modelo generado con semilla 505: DONE\n",
      "26: Modelo generado con semilla 4611: DONE\n",
      "27: Modelo generado con semilla 3008: DONE\n",
      "28: Modelo generado con semilla 2063: DONE\n",
      "29: Modelo generado con semilla 2280: DONE\n",
      "30: Modelo generado con semilla 1148: DONE\n",
      "31: Modelo generado con semilla 618: DONE\n",
      "32: Modelo generado con semilla 4806: DONE\n",
      "33: Modelo generado con semilla 1503: DONE\n",
      "34: Modelo generado con semilla 3926: DONE\n",
      "35: Modelo generado con semilla 6363: DONE\n",
      "36: Modelo generado con semilla 400: DONE\n",
      "37: Modelo generado con semilla 2662: DONE\n",
      "38: Modelo generado con semilla 9432: DONE\n",
      "39: Modelo generado con semilla 1632: DONE\n",
      "40: Modelo generado con semilla 386: DONE\n",
      "41: Modelo generado con semilla 2545: DONE\n",
      "42: Modelo generado con semilla 228: DONE\n",
      "43: Modelo generado con semilla 1561: DONE\n",
      "44: Modelo generado con semilla 3523: DONE\n",
      "45: Modelo generado con semilla 4508: DONE\n",
      "46: Modelo generado con semilla 9190: DONE\n",
      "47: Modelo generado con semilla 8181: DONE\n",
      "48: Modelo generado con semilla 7302: DONE\n",
      "49: Modelo generado con semilla 6250: DONE\n",
      "50: Modelo generado con semilla 7762: DONE\n",
      "51: Modelo generado con semilla 8141: DONE\n",
      "52: Modelo generado con semilla 6854: DONE\n",
      "53: Modelo generado con semilla 622: DONE\n",
      "54: Modelo generado con semilla 5327: DONE\n",
      "55: Modelo generado con semilla 6379: DONE\n",
      "56: Modelo generado con semilla 3867: DONE\n",
      "57: Modelo generado con semilla 5420: DONE\n",
      "58: Modelo generado con semilla 3030: DONE\n",
      "59: Modelo generado con semilla 7275: DONE\n",
      "60: Modelo generado con semilla 2040: DONE\n",
      "61: Modelo generado con semilla 6042: DONE\n",
      "62: Modelo generado con semilla 4365: DONE\n",
      "63: Modelo generado con semilla 231: DONE\n",
      "64: Modelo generado con semilla 8330: DONE\n",
      "65: Modelo generado con semilla 8527: DONE\n",
      "66: Modelo generado con semilla 2420: DONE\n",
      "67: Modelo generado con semilla 2558: DONE\n",
      "68: Modelo generado con semilla 9618: DONE\n",
      "69: Modelo generado con semilla 3937: DONE\n",
      "70: Modelo generado con semilla 555: DONE\n",
      "71: Modelo generado con semilla 122: DONE\n",
      "72: Modelo generado con semilla 4907: DONE\n",
      "73: Modelo generado con semilla 7838: DONE\n",
      "74: Modelo generado con semilla 5246: DONE\n",
      "75: Modelo generado con semilla 100: DONE\n",
      "76: Modelo generado con semilla 3243: DONE\n",
      "77: Modelo generado con semilla 1449: DONE\n",
      "78: Modelo generado con semilla 1052: DONE\n",
      "79: Modelo generado con semilla 1906: DONE\n",
      "80: Modelo generado con semilla 7657: DONE\n",
      "81: Modelo generado con semilla 753: DONE\n",
      "82: Modelo generado con semilla 4320: DONE\n",
      "83: Modelo generado con semilla 4576: DONE\n",
      "84: Modelo generado con semilla 9621: DONE\n",
      "85: Modelo generado con semilla 8868: DONE\n",
      "86: Modelo generado con semilla 8155: DONE\n",
      "87: Modelo generado con semilla 7410: DONE\n",
      "88: Modelo generado con semilla 2320: DONE\n",
      "89: Modelo generado con semilla 6355: DONE\n",
      "90: Modelo generado con semilla 1994: DONE\n",
      "91: Modelo generado con semilla 7775: DONE\n",
      "92: Modelo generado con semilla 8358: DONE\n",
      "93: Modelo generado con semilla 3508: DONE\n",
      "94: Modelo generado con semilla 3064: DONE\n",
      "95: Modelo generado con semilla 3904: DONE\n",
      "96: Modelo generado con semilla 3602: DONE\n",
      "97: Modelo generado con semilla 5308: DONE\n",
      "98: Modelo generado con semilla 6947: DONE\n",
      "99: Modelo generado con semilla 1544: DONE\n",
      "100: Modelo generado con semilla 624: DONE\n"
     ]
    }
   ],
   "source": [
    "version = 'modelito' # UPDATE\n",
    "\n",
    "best_iter = study.best_trial.user_attrs[\"best_iter\"]\n",
    "print(f\"Mejor cantidad de árboles para el mejor modelo {best_iter}\")\n",
    "\n",
    "counter = 0\n",
    "\n",
    "for semilla in semillas:\n",
    "\n",
    "    \n",
    "    params = {\n",
    "        'objective': 'binary',\n",
    "        'boosting_type': 'gbdt',\n",
    "        'first_metric_only': True,\n",
    "        'boost_from_average': True,\n",
    "        'feature_pre_filter': False,\n",
    "        'max_bin': 31,\n",
    "        'num_leaves': study.best_trial.params['num_leaves'],\n",
    "        'learning_rate': study.best_trial.params['learning_rate'],\n",
    "        'min_data_in_leaf': study.best_trial.params['min_data_in_leaf'],\n",
    "        'feature_fraction': study.best_trial.params['feature_fraction'],\n",
    "        'bagging_fraction': study.best_trial.params['bagging_fraction'],\n",
    "        'seed': semilla,\n",
    "        'verbose': 0\n",
    "    }\n",
    "\n",
    "    train_data = lgb.Dataset(X_train,\n",
    "                            label=y_train_binaria,\n",
    "                            weight=w_train)\n",
    "\n",
    "    model = lgb.train(params,\n",
    "                    train_data,\n",
    "                    num_boost_round=best_iter)\n",
    "    \n",
    "    model.save_model(modelos_path + f'{version}/lgb_competencia1_{version}_s{semilla}_final.txt') # _final para indicar que es la version entrenada con todo el conjunto disponible.\n",
    "    \n",
    "    counter +=1\n",
    "    print(f'{counter}: Modelo generado con semilla {semilla}: DONE')"
   ]
  }
 ],
 "metadata": {
  "kernelspec": {
   "display_name": "Python 3",
   "language": "python",
   "name": "python3"
  },
  "language_info": {
   "codemirror_mode": {
    "name": "ipython",
    "version": 3
   },
   "file_extension": ".py",
   "mimetype": "text/x-python",
   "name": "python",
   "nbconvert_exporter": "python",
   "pygments_lexer": "ipython3",
   "version": "3.12.3"
  }
 },
 "nbformat": 4,
 "nbformat_minor": 4
}
