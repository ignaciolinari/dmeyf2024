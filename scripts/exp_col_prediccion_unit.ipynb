{
 "cells": [
  {
   "cell_type": "code",
   "execution_count": 1,
   "metadata": {},
   "outputs": [],
   "source": [
    "import pandas as pd\n",
    "import polars as pl\n",
    "import numpy as np\n",
    "import lightgbm as lgb\n",
    "import optuna"
   ]
  },
  {
   "cell_type": "code",
   "execution_count": 2,
   "metadata": {},
   "outputs": [],
   "source": [
    "# base_path = '/home/clas_giulia_s/buckets/b1/'\n",
    "base_path = '/Users/ignacio/MAESTRIA/DMEF/'\n",
    "\n",
    "dataset_path = base_path + 'datasets/'\n",
    "modelos_path = base_path + 'modelos/'\n",
    "db_path = base_path + 'db/'\n",
    "# dataset_file = 'competencia_02.parquet'\n",
    "dataset_file = 'competencia_01_fe_modelito.csv'\n",
    "\n",
    "ganancia_acierto = 273000\n",
    "costo_estimulo = 7000"
   ]
  },
  {
   "cell_type": "code",
   "execution_count": 3,
   "metadata": {},
   "outputs": [],
   "source": [
    "semillas = [5623, 292, 7494, 8504, 1663, 785, 5377, 4838, 2141, 2235, 9836, 1258, 3273, 8349, 1639, 1597, 3195, 40, 5186, 9278, 6281, 7515, 2046, 5642, 505, 4611, 3008, 2063, 2280, 1148, 618, 4806, 1503, 3926, 6363, 400, 2662, 9432, 1632, 386, 2545, 228, 1561, 3523, 4508, 9190, 8181, 7302, 6250, 7762, 8141, 6854, 622, 5327, 6379, 3867, 5420, 3030, 7275, 2040, 6042, 4365, 231, 8330, 8527, 2420, 2558, 9618, 3937, 555, 122, 4907, 7838, 5246, 100, 3243, 1449, 1052, 1906, 7657, 753, 4320, 4576, 9621, 8868, 8155, 7410, 2320, 6355, 1994, 7775, 8358, 3508, 3064, 3904, 3602, 5308, 6947, 1544, 624]"
   ]
  },
  {
   "cell_type": "code",
   "execution_count": null,
   "metadata": {},
   "outputs": [],
   "source": [
    "\n",
    "data = pd.read_csv(dataset_path + dataset_file)\n",
    "data = data[data[\"foto_mes\"] == 202106] "
   ]
  },
  {
   "cell_type": "code",
   "execution_count": null,
   "metadata": {},
   "outputs": [],
   "source": []
  },
  {
   "cell_type": "code",
   "execution_count": 6,
   "metadata": {},
   "outputs": [],
   "source": [
    "# Asignamos pesos a las clases\n",
    "\n",
    "data['clase_peso'] = 1.0\n",
    "\n",
    "data.loc[data['clase_ternaria'] == 'BAJA+2', 'clase_peso'] = 1.00002\n",
    "data.loc[data['clase_ternaria'] == 'BAJA+1', 'clase_peso'] = 1.00001"
   ]
  },
  {
   "cell_type": "code",
   "execution_count": 7,
   "metadata": {},
   "outputs": [],
   "source": [
    "data['clase_binaria'] = 0\n",
    "data['clase_binaria'] = np.where(data['clase_ternaria'] == 'BAJA+2', 1, 0)"
   ]
  },
  {
   "cell_type": "code",
   "execution_count": 8,
   "metadata": {},
   "outputs": [],
   "source": [
    "X_test = data.drop(['clase_ternaria', 'clase_peso', 'clase_binaria'], axis=1)"
   ]
  },
  {
   "cell_type": "markdown",
   "metadata": {},
   "source": [
    "### Predicciones para Kaggle"
   ]
  },
  {
   "cell_type": "markdown",
   "metadata": {},
   "source": [
    "Se generan la prediccion para cada modelo individual"
   ]
  },
  {
   "cell_type": "code",
   "execution_count": 9,
   "metadata": {},
   "outputs": [],
   "source": [
    "version = 'modelito' # UPADTE\n",
    "\n",
    "modelos = [f'lgb_competencia1_{version}_s{semilla}_final.txt' for semilla in semillas]"
   ]
  },
  {
   "cell_type": "code",
   "execution_count": 10,
   "metadata": {},
   "outputs": [
    {
     "data": {
      "text/plain": [
       "100"
      ]
     },
     "execution_count": 10,
     "metadata": {},
     "output_type": "execute_result"
    }
   ],
   "source": [
    "len(modelos)"
   ]
  },
  {
   "cell_type": "code",
   "execution_count": null,
   "metadata": {},
   "outputs": [],
   "source": [
    "X_test_with_predictions = data.drop(['clase_ternaria', 'clase_peso', 'clase_binaria'], axis=1).copy()"
   ]
  },
  {
   "cell_type": "code",
   "execution_count": null,
   "metadata": {},
   "outputs": [
    {
     "name": "stdout",
     "output_type": "stream",
     "text": [
      "0. Predicciones del modelo: lgb_competencia1_modelito_s5623_final.txt DONE\n",
      "Archivo guardado en: /Users/ignacio/MAESTRIA/DMEF/exp/competencia_1/modelito/results_unit_modelito_0.csv\n"
     ]
    },
    {
     "name": "stderr",
     "output_type": "stream",
     "text": [
      "/var/folders/6c/1g3b2t8s1l5ch_c9nch8gppw0000gn/T/ipykernel_27438/2842301844.py:21: PerformanceWarning: DataFrame is highly fragmented.  This is usually the result of calling `frame.insert` many times, which has poor performance.  Consider joining all columns at once using pd.concat(axis=1) instead. To get a de-fragmented frame, use `newframe = frame.copy()`\n",
      "  X_test_with_predictions['Predicted'] = envios\n"
     ]
    },
    {
     "name": "stdout",
     "output_type": "stream",
     "text": [
      "1. Predicciones del modelo: lgb_competencia1_modelito_s292_final.txt DONE\n",
      "Archivo guardado en: /Users/ignacio/MAESTRIA/DMEF/exp/competencia_1/modelito/results_unit_modelito_1.csv\n",
      "2. Predicciones del modelo: lgb_competencia1_modelito_s7494_final.txt DONE\n",
      "Archivo guardado en: /Users/ignacio/MAESTRIA/DMEF/exp/competencia_1/modelito/results_unit_modelito_2.csv\n",
      "3. Predicciones del modelo: lgb_competencia1_modelito_s8504_final.txt DONE\n",
      "Archivo guardado en: /Users/ignacio/MAESTRIA/DMEF/exp/competencia_1/modelito/results_unit_modelito_3.csv\n",
      "4. Predicciones del modelo: lgb_competencia1_modelito_s1663_final.txt DONE\n",
      "Archivo guardado en: /Users/ignacio/MAESTRIA/DMEF/exp/competencia_1/modelito/results_unit_modelito_4.csv\n",
      "5. Predicciones del modelo: lgb_competencia1_modelito_s785_final.txt DONE\n",
      "Archivo guardado en: /Users/ignacio/MAESTRIA/DMEF/exp/competencia_1/modelito/results_unit_modelito_5.csv\n",
      "6. Predicciones del modelo: lgb_competencia1_modelito_s5377_final.txt DONE\n",
      "Archivo guardado en: /Users/ignacio/MAESTRIA/DMEF/exp/competencia_1/modelito/results_unit_modelito_6.csv\n",
      "7. Predicciones del modelo: lgb_competencia1_modelito_s4838_final.txt DONE\n",
      "Archivo guardado en: /Users/ignacio/MAESTRIA/DMEF/exp/competencia_1/modelito/results_unit_modelito_7.csv\n",
      "8. Predicciones del modelo: lgb_competencia1_modelito_s2141_final.txt DONE\n",
      "Archivo guardado en: /Users/ignacio/MAESTRIA/DMEF/exp/competencia_1/modelito/results_unit_modelito_8.csv\n",
      "9. Predicciones del modelo: lgb_competencia1_modelito_s2235_final.txt DONE\n",
      "Archivo guardado en: /Users/ignacio/MAESTRIA/DMEF/exp/competencia_1/modelito/results_unit_modelito_9.csv\n",
      "10. Predicciones del modelo: lgb_competencia1_modelito_s9836_final.txt DONE\n",
      "Archivo guardado en: /Users/ignacio/MAESTRIA/DMEF/exp/competencia_1/modelito/results_unit_modelito_10.csv\n",
      "11. Predicciones del modelo: lgb_competencia1_modelito_s1258_final.txt DONE\n",
      "Archivo guardado en: /Users/ignacio/MAESTRIA/DMEF/exp/competencia_1/modelito/results_unit_modelito_11.csv\n",
      "12. Predicciones del modelo: lgb_competencia1_modelito_s3273_final.txt DONE\n",
      "Archivo guardado en: /Users/ignacio/MAESTRIA/DMEF/exp/competencia_1/modelito/results_unit_modelito_12.csv\n",
      "13. Predicciones del modelo: lgb_competencia1_modelito_s8349_final.txt DONE\n",
      "Archivo guardado en: /Users/ignacio/MAESTRIA/DMEF/exp/competencia_1/modelito/results_unit_modelito_13.csv\n",
      "14. Predicciones del modelo: lgb_competencia1_modelito_s1639_final.txt DONE\n",
      "Archivo guardado en: /Users/ignacio/MAESTRIA/DMEF/exp/competencia_1/modelito/results_unit_modelito_14.csv\n",
      "15. Predicciones del modelo: lgb_competencia1_modelito_s1597_final.txt DONE\n",
      "Archivo guardado en: /Users/ignacio/MAESTRIA/DMEF/exp/competencia_1/modelito/results_unit_modelito_15.csv\n",
      "16. Predicciones del modelo: lgb_competencia1_modelito_s3195_final.txt DONE\n",
      "Archivo guardado en: /Users/ignacio/MAESTRIA/DMEF/exp/competencia_1/modelito/results_unit_modelito_16.csv\n",
      "17. Predicciones del modelo: lgb_competencia1_modelito_s40_final.txt DONE\n",
      "Archivo guardado en: /Users/ignacio/MAESTRIA/DMEF/exp/competencia_1/modelito/results_unit_modelito_17.csv\n",
      "18. Predicciones del modelo: lgb_competencia1_modelito_s5186_final.txt DONE\n",
      "Archivo guardado en: /Users/ignacio/MAESTRIA/DMEF/exp/competencia_1/modelito/results_unit_modelito_18.csv\n",
      "19. Predicciones del modelo: lgb_competencia1_modelito_s9278_final.txt DONE\n",
      "Archivo guardado en: /Users/ignacio/MAESTRIA/DMEF/exp/competencia_1/modelito/results_unit_modelito_19.csv\n",
      "20. Predicciones del modelo: lgb_competencia1_modelito_s6281_final.txt DONE\n",
      "Archivo guardado en: /Users/ignacio/MAESTRIA/DMEF/exp/competencia_1/modelito/results_unit_modelito_20.csv\n",
      "21. Predicciones del modelo: lgb_competencia1_modelito_s7515_final.txt DONE\n",
      "Archivo guardado en: /Users/ignacio/MAESTRIA/DMEF/exp/competencia_1/modelito/results_unit_modelito_21.csv\n",
      "22. Predicciones del modelo: lgb_competencia1_modelito_s2046_final.txt DONE\n",
      "Archivo guardado en: /Users/ignacio/MAESTRIA/DMEF/exp/competencia_1/modelito/results_unit_modelito_22.csv\n",
      "23. Predicciones del modelo: lgb_competencia1_modelito_s5642_final.txt DONE\n",
      "Archivo guardado en: /Users/ignacio/MAESTRIA/DMEF/exp/competencia_1/modelito/results_unit_modelito_23.csv\n",
      "24. Predicciones del modelo: lgb_competencia1_modelito_s505_final.txt DONE\n",
      "Archivo guardado en: /Users/ignacio/MAESTRIA/DMEF/exp/competencia_1/modelito/results_unit_modelito_24.csv\n",
      "25. Predicciones del modelo: lgb_competencia1_modelito_s4611_final.txt DONE\n",
      "Archivo guardado en: /Users/ignacio/MAESTRIA/DMEF/exp/competencia_1/modelito/results_unit_modelito_25.csv\n",
      "26. Predicciones del modelo: lgb_competencia1_modelito_s3008_final.txt DONE\n",
      "Archivo guardado en: /Users/ignacio/MAESTRIA/DMEF/exp/competencia_1/modelito/results_unit_modelito_26.csv\n",
      "27. Predicciones del modelo: lgb_competencia1_modelito_s2063_final.txt DONE\n",
      "Archivo guardado en: /Users/ignacio/MAESTRIA/DMEF/exp/competencia_1/modelito/results_unit_modelito_27.csv\n",
      "28. Predicciones del modelo: lgb_competencia1_modelito_s2280_final.txt DONE\n",
      "Archivo guardado en: /Users/ignacio/MAESTRIA/DMEF/exp/competencia_1/modelito/results_unit_modelito_28.csv\n",
      "29. Predicciones del modelo: lgb_competencia1_modelito_s1148_final.txt DONE\n",
      "Archivo guardado en: /Users/ignacio/MAESTRIA/DMEF/exp/competencia_1/modelito/results_unit_modelito_29.csv\n",
      "30. Predicciones del modelo: lgb_competencia1_modelito_s618_final.txt DONE\n",
      "Archivo guardado en: /Users/ignacio/MAESTRIA/DMEF/exp/competencia_1/modelito/results_unit_modelito_30.csv\n",
      "31. Predicciones del modelo: lgb_competencia1_modelito_s4806_final.txt DONE\n",
      "Archivo guardado en: /Users/ignacio/MAESTRIA/DMEF/exp/competencia_1/modelito/results_unit_modelito_31.csv\n",
      "32. Predicciones del modelo: lgb_competencia1_modelito_s1503_final.txt DONE\n",
      "Archivo guardado en: /Users/ignacio/MAESTRIA/DMEF/exp/competencia_1/modelito/results_unit_modelito_32.csv\n",
      "33. Predicciones del modelo: lgb_competencia1_modelito_s3926_final.txt DONE\n",
      "Archivo guardado en: /Users/ignacio/MAESTRIA/DMEF/exp/competencia_1/modelito/results_unit_modelito_33.csv\n",
      "34. Predicciones del modelo: lgb_competencia1_modelito_s6363_final.txt DONE\n",
      "Archivo guardado en: /Users/ignacio/MAESTRIA/DMEF/exp/competencia_1/modelito/results_unit_modelito_34.csv\n",
      "35. Predicciones del modelo: lgb_competencia1_modelito_s400_final.txt DONE\n",
      "Archivo guardado en: /Users/ignacio/MAESTRIA/DMEF/exp/competencia_1/modelito/results_unit_modelito_35.csv\n",
      "36. Predicciones del modelo: lgb_competencia1_modelito_s2662_final.txt DONE\n",
      "Archivo guardado en: /Users/ignacio/MAESTRIA/DMEF/exp/competencia_1/modelito/results_unit_modelito_36.csv\n",
      "37. Predicciones del modelo: lgb_competencia1_modelito_s9432_final.txt DONE\n",
      "Archivo guardado en: /Users/ignacio/MAESTRIA/DMEF/exp/competencia_1/modelito/results_unit_modelito_37.csv\n",
      "38. Predicciones del modelo: lgb_competencia1_modelito_s1632_final.txt DONE\n",
      "Archivo guardado en: /Users/ignacio/MAESTRIA/DMEF/exp/competencia_1/modelito/results_unit_modelito_38.csv\n",
      "39. Predicciones del modelo: lgb_competencia1_modelito_s386_final.txt DONE\n",
      "Archivo guardado en: /Users/ignacio/MAESTRIA/DMEF/exp/competencia_1/modelito/results_unit_modelito_39.csv\n",
      "40. Predicciones del modelo: lgb_competencia1_modelito_s2545_final.txt DONE\n",
      "Archivo guardado en: /Users/ignacio/MAESTRIA/DMEF/exp/competencia_1/modelito/results_unit_modelito_40.csv\n",
      "41. Predicciones del modelo: lgb_competencia1_modelito_s228_final.txt DONE\n",
      "Archivo guardado en: /Users/ignacio/MAESTRIA/DMEF/exp/competencia_1/modelito/results_unit_modelito_41.csv\n",
      "42. Predicciones del modelo: lgb_competencia1_modelito_s1561_final.txt DONE\n",
      "Archivo guardado en: /Users/ignacio/MAESTRIA/DMEF/exp/competencia_1/modelito/results_unit_modelito_42.csv\n",
      "43. Predicciones del modelo: lgb_competencia1_modelito_s3523_final.txt DONE\n",
      "Archivo guardado en: /Users/ignacio/MAESTRIA/DMEF/exp/competencia_1/modelito/results_unit_modelito_43.csv\n",
      "44. Predicciones del modelo: lgb_competencia1_modelito_s4508_final.txt DONE\n",
      "Archivo guardado en: /Users/ignacio/MAESTRIA/DMEF/exp/competencia_1/modelito/results_unit_modelito_44.csv\n",
      "45. Predicciones del modelo: lgb_competencia1_modelito_s9190_final.txt DONE\n",
      "Archivo guardado en: /Users/ignacio/MAESTRIA/DMEF/exp/competencia_1/modelito/results_unit_modelito_45.csv\n",
      "46. Predicciones del modelo: lgb_competencia1_modelito_s8181_final.txt DONE\n",
      "Archivo guardado en: /Users/ignacio/MAESTRIA/DMEF/exp/competencia_1/modelito/results_unit_modelito_46.csv\n",
      "47. Predicciones del modelo: lgb_competencia1_modelito_s7302_final.txt DONE\n",
      "Archivo guardado en: /Users/ignacio/MAESTRIA/DMEF/exp/competencia_1/modelito/results_unit_modelito_47.csv\n",
      "48. Predicciones del modelo: lgb_competencia1_modelito_s6250_final.txt DONE\n",
      "Archivo guardado en: /Users/ignacio/MAESTRIA/DMEF/exp/competencia_1/modelito/results_unit_modelito_48.csv\n",
      "49. Predicciones del modelo: lgb_competencia1_modelito_s7762_final.txt DONE\n",
      "Archivo guardado en: /Users/ignacio/MAESTRIA/DMEF/exp/competencia_1/modelito/results_unit_modelito_49.csv\n",
      "50. Predicciones del modelo: lgb_competencia1_modelito_s8141_final.txt DONE\n",
      "Archivo guardado en: /Users/ignacio/MAESTRIA/DMEF/exp/competencia_1/modelito/results_unit_modelito_50.csv\n",
      "51. Predicciones del modelo: lgb_competencia1_modelito_s6854_final.txt DONE\n",
      "Archivo guardado en: /Users/ignacio/MAESTRIA/DMEF/exp/competencia_1/modelito/results_unit_modelito_51.csv\n",
      "52. Predicciones del modelo: lgb_competencia1_modelito_s622_final.txt DONE\n",
      "Archivo guardado en: /Users/ignacio/MAESTRIA/DMEF/exp/competencia_1/modelito/results_unit_modelito_52.csv\n",
      "53. Predicciones del modelo: lgb_competencia1_modelito_s5327_final.txt DONE\n",
      "Archivo guardado en: /Users/ignacio/MAESTRIA/DMEF/exp/competencia_1/modelito/results_unit_modelito_53.csv\n",
      "54. Predicciones del modelo: lgb_competencia1_modelito_s6379_final.txt DONE\n",
      "Archivo guardado en: /Users/ignacio/MAESTRIA/DMEF/exp/competencia_1/modelito/results_unit_modelito_54.csv\n",
      "55. Predicciones del modelo: lgb_competencia1_modelito_s3867_final.txt DONE\n",
      "Archivo guardado en: /Users/ignacio/MAESTRIA/DMEF/exp/competencia_1/modelito/results_unit_modelito_55.csv\n",
      "56. Predicciones del modelo: lgb_competencia1_modelito_s5420_final.txt DONE\n",
      "Archivo guardado en: /Users/ignacio/MAESTRIA/DMEF/exp/competencia_1/modelito/results_unit_modelito_56.csv\n",
      "57. Predicciones del modelo: lgb_competencia1_modelito_s3030_final.txt DONE\n",
      "Archivo guardado en: /Users/ignacio/MAESTRIA/DMEF/exp/competencia_1/modelito/results_unit_modelito_57.csv\n",
      "58. Predicciones del modelo: lgb_competencia1_modelito_s7275_final.txt DONE\n",
      "Archivo guardado en: /Users/ignacio/MAESTRIA/DMEF/exp/competencia_1/modelito/results_unit_modelito_58.csv\n",
      "59. Predicciones del modelo: lgb_competencia1_modelito_s2040_final.txt DONE\n",
      "Archivo guardado en: /Users/ignacio/MAESTRIA/DMEF/exp/competencia_1/modelito/results_unit_modelito_59.csv\n",
      "60. Predicciones del modelo: lgb_competencia1_modelito_s6042_final.txt DONE\n",
      "Archivo guardado en: /Users/ignacio/MAESTRIA/DMEF/exp/competencia_1/modelito/results_unit_modelito_60.csv\n",
      "61. Predicciones del modelo: lgb_competencia1_modelito_s4365_final.txt DONE\n",
      "Archivo guardado en: /Users/ignacio/MAESTRIA/DMEF/exp/competencia_1/modelito/results_unit_modelito_61.csv\n",
      "62. Predicciones del modelo: lgb_competencia1_modelito_s231_final.txt DONE\n",
      "Archivo guardado en: /Users/ignacio/MAESTRIA/DMEF/exp/competencia_1/modelito/results_unit_modelito_62.csv\n",
      "63. Predicciones del modelo: lgb_competencia1_modelito_s8330_final.txt DONE\n",
      "Archivo guardado en: /Users/ignacio/MAESTRIA/DMEF/exp/competencia_1/modelito/results_unit_modelito_63.csv\n",
      "64. Predicciones del modelo: lgb_competencia1_modelito_s8527_final.txt DONE\n",
      "Archivo guardado en: /Users/ignacio/MAESTRIA/DMEF/exp/competencia_1/modelito/results_unit_modelito_64.csv\n",
      "65. Predicciones del modelo: lgb_competencia1_modelito_s2420_final.txt DONE\n",
      "Archivo guardado en: /Users/ignacio/MAESTRIA/DMEF/exp/competencia_1/modelito/results_unit_modelito_65.csv\n",
      "66. Predicciones del modelo: lgb_competencia1_modelito_s2558_final.txt DONE\n",
      "Archivo guardado en: /Users/ignacio/MAESTRIA/DMEF/exp/competencia_1/modelito/results_unit_modelito_66.csv\n",
      "67. Predicciones del modelo: lgb_competencia1_modelito_s9618_final.txt DONE\n",
      "Archivo guardado en: /Users/ignacio/MAESTRIA/DMEF/exp/competencia_1/modelito/results_unit_modelito_67.csv\n",
      "68. Predicciones del modelo: lgb_competencia1_modelito_s3937_final.txt DONE\n",
      "Archivo guardado en: /Users/ignacio/MAESTRIA/DMEF/exp/competencia_1/modelito/results_unit_modelito_68.csv\n",
      "69. Predicciones del modelo: lgb_competencia1_modelito_s555_final.txt DONE\n",
      "Archivo guardado en: /Users/ignacio/MAESTRIA/DMEF/exp/competencia_1/modelito/results_unit_modelito_69.csv\n",
      "70. Predicciones del modelo: lgb_competencia1_modelito_s122_final.txt DONE\n",
      "Archivo guardado en: /Users/ignacio/MAESTRIA/DMEF/exp/competencia_1/modelito/results_unit_modelito_70.csv\n",
      "71. Predicciones del modelo: lgb_competencia1_modelito_s4907_final.txt DONE\n",
      "Archivo guardado en: /Users/ignacio/MAESTRIA/DMEF/exp/competencia_1/modelito/results_unit_modelito_71.csv\n",
      "72. Predicciones del modelo: lgb_competencia1_modelito_s7838_final.txt DONE\n",
      "Archivo guardado en: /Users/ignacio/MAESTRIA/DMEF/exp/competencia_1/modelito/results_unit_modelito_72.csv\n",
      "73. Predicciones del modelo: lgb_competencia1_modelito_s5246_final.txt DONE\n",
      "Archivo guardado en: /Users/ignacio/MAESTRIA/DMEF/exp/competencia_1/modelito/results_unit_modelito_73.csv\n",
      "74. Predicciones del modelo: lgb_competencia1_modelito_s100_final.txt DONE\n",
      "Archivo guardado en: /Users/ignacio/MAESTRIA/DMEF/exp/competencia_1/modelito/results_unit_modelito_74.csv\n",
      "75. Predicciones del modelo: lgb_competencia1_modelito_s3243_final.txt DONE\n",
      "Archivo guardado en: /Users/ignacio/MAESTRIA/DMEF/exp/competencia_1/modelito/results_unit_modelito_75.csv\n",
      "76. Predicciones del modelo: lgb_competencia1_modelito_s1449_final.txt DONE\n",
      "Archivo guardado en: /Users/ignacio/MAESTRIA/DMEF/exp/competencia_1/modelito/results_unit_modelito_76.csv\n",
      "77. Predicciones del modelo: lgb_competencia1_modelito_s1052_final.txt DONE\n",
      "Archivo guardado en: /Users/ignacio/MAESTRIA/DMEF/exp/competencia_1/modelito/results_unit_modelito_77.csv\n",
      "78. Predicciones del modelo: lgb_competencia1_modelito_s1906_final.txt DONE\n",
      "Archivo guardado en: /Users/ignacio/MAESTRIA/DMEF/exp/competencia_1/modelito/results_unit_modelito_78.csv\n",
      "79. Predicciones del modelo: lgb_competencia1_modelito_s7657_final.txt DONE\n",
      "Archivo guardado en: /Users/ignacio/MAESTRIA/DMEF/exp/competencia_1/modelito/results_unit_modelito_79.csv\n",
      "80. Predicciones del modelo: lgb_competencia1_modelito_s753_final.txt DONE\n",
      "Archivo guardado en: /Users/ignacio/MAESTRIA/DMEF/exp/competencia_1/modelito/results_unit_modelito_80.csv\n",
      "81. Predicciones del modelo: lgb_competencia1_modelito_s4320_final.txt DONE\n",
      "Archivo guardado en: /Users/ignacio/MAESTRIA/DMEF/exp/competencia_1/modelito/results_unit_modelito_81.csv\n",
      "82. Predicciones del modelo: lgb_competencia1_modelito_s4576_final.txt DONE\n",
      "Archivo guardado en: /Users/ignacio/MAESTRIA/DMEF/exp/competencia_1/modelito/results_unit_modelito_82.csv\n",
      "83. Predicciones del modelo: lgb_competencia1_modelito_s9621_final.txt DONE\n",
      "Archivo guardado en: /Users/ignacio/MAESTRIA/DMEF/exp/competencia_1/modelito/results_unit_modelito_83.csv\n",
      "84. Predicciones del modelo: lgb_competencia1_modelito_s8868_final.txt DONE\n",
      "Archivo guardado en: /Users/ignacio/MAESTRIA/DMEF/exp/competencia_1/modelito/results_unit_modelito_84.csv\n",
      "85. Predicciones del modelo: lgb_competencia1_modelito_s8155_final.txt DONE\n",
      "Archivo guardado en: /Users/ignacio/MAESTRIA/DMEF/exp/competencia_1/modelito/results_unit_modelito_85.csv\n",
      "86. Predicciones del modelo: lgb_competencia1_modelito_s7410_final.txt DONE\n",
      "Archivo guardado en: /Users/ignacio/MAESTRIA/DMEF/exp/competencia_1/modelito/results_unit_modelito_86.csv\n",
      "87. Predicciones del modelo: lgb_competencia1_modelito_s2320_final.txt DONE\n",
      "Archivo guardado en: /Users/ignacio/MAESTRIA/DMEF/exp/competencia_1/modelito/results_unit_modelito_87.csv\n",
      "88. Predicciones del modelo: lgb_competencia1_modelito_s6355_final.txt DONE\n",
      "Archivo guardado en: /Users/ignacio/MAESTRIA/DMEF/exp/competencia_1/modelito/results_unit_modelito_88.csv\n",
      "89. Predicciones del modelo: lgb_competencia1_modelito_s1994_final.txt DONE\n",
      "Archivo guardado en: /Users/ignacio/MAESTRIA/DMEF/exp/competencia_1/modelito/results_unit_modelito_89.csv\n",
      "90. Predicciones del modelo: lgb_competencia1_modelito_s7775_final.txt DONE\n",
      "Archivo guardado en: /Users/ignacio/MAESTRIA/DMEF/exp/competencia_1/modelito/results_unit_modelito_90.csv\n",
      "91. Predicciones del modelo: lgb_competencia1_modelito_s8358_final.txt DONE\n",
      "Archivo guardado en: /Users/ignacio/MAESTRIA/DMEF/exp/competencia_1/modelito/results_unit_modelito_91.csv\n",
      "92. Predicciones del modelo: lgb_competencia1_modelito_s3508_final.txt DONE\n",
      "Archivo guardado en: /Users/ignacio/MAESTRIA/DMEF/exp/competencia_1/modelito/results_unit_modelito_92.csv\n",
      "93. Predicciones del modelo: lgb_competencia1_modelito_s3064_final.txt DONE\n",
      "Archivo guardado en: /Users/ignacio/MAESTRIA/DMEF/exp/competencia_1/modelito/results_unit_modelito_93.csv\n",
      "94. Predicciones del modelo: lgb_competencia1_modelito_s3904_final.txt DONE\n",
      "Archivo guardado en: /Users/ignacio/MAESTRIA/DMEF/exp/competencia_1/modelito/results_unit_modelito_94.csv\n",
      "95. Predicciones del modelo: lgb_competencia1_modelito_s3602_final.txt DONE\n",
      "Archivo guardado en: /Users/ignacio/MAESTRIA/DMEF/exp/competencia_1/modelito/results_unit_modelito_95.csv\n",
      "96. Predicciones del modelo: lgb_competencia1_modelito_s5308_final.txt DONE\n",
      "Archivo guardado en: /Users/ignacio/MAESTRIA/DMEF/exp/competencia_1/modelito/results_unit_modelito_96.csv\n",
      "97. Predicciones del modelo: lgb_competencia1_modelito_s6947_final.txt DONE\n",
      "Archivo guardado en: /Users/ignacio/MAESTRIA/DMEF/exp/competencia_1/modelito/results_unit_modelito_97.csv\n",
      "98. Predicciones del modelo: lgb_competencia1_modelito_s1544_final.txt DONE\n",
      "Archivo guardado en: /Users/ignacio/MAESTRIA/DMEF/exp/competencia_1/modelito/results_unit_modelito_98.csv\n",
      "99. Predicciones del modelo: lgb_competencia1_modelito_s624_final.txt DONE\n",
      "Archivo guardado en: /Users/ignacio/MAESTRIA/DMEF/exp/competencia_1/modelito/results_unit_modelito_99.csv\n"
     ]
    }
   ],
   "source": [
    "counter = 0\n",
    "\n",
    "for modelo in modelos:\n",
    "    # Cargamos el modelo\n",
    "    model = lgb.Booster(model_file=f'{modelos_path}{version}/{modelo}')\n",
    "    \n",
    "    # Predecimos para agosto\n",
    "    X_test = data.drop(['clase_ternaria', 'clase_peso', 'clase_binaria'], axis=1).copy()\n",
    "    y_pred_lgm = model.predict(X_test)\n",
    "    X_test_with_predictions[f'pred_lgm_{semillas[counter]}'] = y_pred_lgm\n",
    "    \n",
    "    print(f'{counter}. Predicciones del modelo: {modelo} DONE')\n",
    "    \n",
    "    # Generamos la columna 'Predicted'\n",
    "    envios = np.zeros(len(X_test_with_predictions), dtype=int)\n",
    "    envios[:100] = 1 \n",
    "    \n",
    "    # Asignamos 'envios' a la columna 'Predicted'\n",
    "    X_test_with_predictions['Predicted'] = envios\n",
    "    \n",
    "    # Creamos el dataframe para guardar\n",
    "    output = X_test_with_predictions[['numero_de_cliente', 'Predicted']]\n",
    "    \n",
    "    # Definimos el nombre y la ruta del archivo\n",
    "    file_name = f'results_unit_{version}_{counter}.csv'\n",
    "    output_path = base_path + f'exp/competencia_1/{version}/' + file_name\n",
    "    \n",
    "    # Guardamos el archivo CSV\n",
    "    output.to_csv(output_path, index=False)\n",
    "    print(f'Archivo guardado en: {output_path}')\n",
    "    \n",
    "    counter += 1"
   ]
  }
 ],
 "metadata": {
  "kernelspec": {
   "display_name": "Python 3",
   "language": "python",
   "name": "python3"
  },
  "language_info": {
   "codemirror_mode": {
    "name": "ipython",
    "version": 3
   },
   "file_extension": ".py",
   "mimetype": "text/x-python",
   "name": "python",
   "nbconvert_exporter": "python",
   "pygments_lexer": "ipython3",
   "version": "3.12.3"
  }
 },
 "nbformat": 4,
 "nbformat_minor": 2
}
